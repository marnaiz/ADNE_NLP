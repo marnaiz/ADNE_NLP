{
 "cells": [
  {
   "cell_type": "markdown",
   "metadata": {
    "colab_type": "text",
    "id": "xFSc7A07ncLx"
   },
   "source": [
    "### Import Required Libraries"
   ]
  },
  {
   "cell_type": "code",
   "execution_count": 1,
   "metadata": {
    "colab": {},
    "colab_type": "code",
    "id": "4DBQucFXncL0",
    "outputId": "3357df67-36e2-41c4-cd17-63dfef4f0b1e"
   },
   "outputs": [
    {
     "name": "stderr",
     "output_type": "stream",
     "text": [
      "Using TensorFlow backend.\n",
      "C:\\Archivos de programa\\Anaconda\\envs\\tfenv\\lib\\site-packages\\tensorflow\\python\\framework\\dtypes.py:526: FutureWarning: Passing (type, 1) or '1type' as a synonym of type is deprecated; in a future version of numpy, it will be understood as (type, (1,)) / '(1,)type'.\n",
      "  _np_qint8 = np.dtype([(\"qint8\", np.int8, 1)])\n",
      "C:\\Archivos de programa\\Anaconda\\envs\\tfenv\\lib\\site-packages\\tensorflow\\python\\framework\\dtypes.py:527: FutureWarning: Passing (type, 1) or '1type' as a synonym of type is deprecated; in a future version of numpy, it will be understood as (type, (1,)) / '(1,)type'.\n",
      "  _np_quint8 = np.dtype([(\"quint8\", np.uint8, 1)])\n",
      "C:\\Archivos de programa\\Anaconda\\envs\\tfenv\\lib\\site-packages\\tensorflow\\python\\framework\\dtypes.py:528: FutureWarning: Passing (type, 1) or '1type' as a synonym of type is deprecated; in a future version of numpy, it will be understood as (type, (1,)) / '(1,)type'.\n",
      "  _np_qint16 = np.dtype([(\"qint16\", np.int16, 1)])\n",
      "C:\\Archivos de programa\\Anaconda\\envs\\tfenv\\lib\\site-packages\\tensorflow\\python\\framework\\dtypes.py:529: FutureWarning: Passing (type, 1) or '1type' as a synonym of type is deprecated; in a future version of numpy, it will be understood as (type, (1,)) / '(1,)type'.\n",
      "  _np_quint16 = np.dtype([(\"quint16\", np.uint16, 1)])\n",
      "C:\\Archivos de programa\\Anaconda\\envs\\tfenv\\lib\\site-packages\\tensorflow\\python\\framework\\dtypes.py:530: FutureWarning: Passing (type, 1) or '1type' as a synonym of type is deprecated; in a future version of numpy, it will be understood as (type, (1,)) / '(1,)type'.\n",
      "  _np_qint32 = np.dtype([(\"qint32\", np.int32, 1)])\n",
      "C:\\Archivos de programa\\Anaconda\\envs\\tfenv\\lib\\site-packages\\tensorflow\\python\\framework\\dtypes.py:535: FutureWarning: Passing (type, 1) or '1type' as a synonym of type is deprecated; in a future version of numpy, it will be understood as (type, (1,)) / '(1,)type'.\n",
      "  np_resource = np.dtype([(\"resource\", np.ubyte, 1)])\n"
     ]
    }
   ],
   "source": [
    "import string\n",
    "import re\n",
    "from numpy import array, argmax, random, take\n",
    "import pandas as pd\n",
    "from keras.models import Sequential\n",
    "from keras.layers import Dense, LSTM, Embedding, Bidirectional, RepeatVector, TimeDistributed\n",
    "from keras.preprocessing.text import Tokenizer\n",
    "from keras.callbacks import ModelCheckpoint\n",
    "from keras.preprocessing.sequence import pad_sequences\n",
    "from keras.models import load_model\n",
    "from keras import optimizers\n",
    "import matplotlib.pyplot as plt\n",
    "%matplotlib inline\n",
    "pd.set_option('display.max_colwidth', 200)"
   ]
  },
  {
   "cell_type": "code",
   "execution_count": 2,
   "metadata": {},
   "outputs": [
    {
     "data": {
      "text/plain": [
       "'C:\\\\Users\\\\Marino\\\\Documents\\\\UNIVERSIDAD\\\\MasterBD\\\\AnalisisDatosNoEstructurados\\\\Practica\\\\4_TEXT'"
      ]
     },
     "execution_count": 2,
     "metadata": {},
     "output_type": "execute_result"
    }
   ],
   "source": [
    "import os\n",
    "os.chdir(r\"C:\\Users\\Marino\\Documents\\UNIVERSIDAD\\MasterBD\\AnalisisDatosNoEstructurados\\Practica\\4_TEXT\")\n",
    "os.getcwd()"
   ]
  },
  {
   "cell_type": "markdown",
   "metadata": {
    "colab_type": "text",
    "id": "qkz_dFRgncL7"
   },
   "source": [
    "### Read Data"
   ]
  },
  {
   "cell_type": "markdown",
   "metadata": {
    "colab_type": "text",
    "id": "L9uKRWrMncL8"
   },
   "source": [
    "Our data is a text file of English-German sentence pairs. First we will read the file using the function defined below."
   ]
  },
  {
   "cell_type": "code",
   "execution_count": 3,
   "metadata": {
    "colab": {},
    "colab_type": "code",
    "id": "K_HNRDSMncL8"
   },
   "outputs": [],
   "source": [
    "# function to read raw text file\n",
    "def read_text(filename):\n",
    "    # open the file\n",
    "    file = open(filename, mode='rt', encoding='utf-8')\n",
    "    # read all text\n",
    "    text = file.read()\n",
    "    file.close()\n",
    "    return text"
   ]
  },
  {
   "cell_type": "markdown",
   "metadata": {
    "colab_type": "text",
    "id": "8-mPYCljncMA"
   },
   "source": [
    "Now let's define a function to split the text into English-German pairs separated by '\\n' and then split these pairs into English sentences and German sentences."
   ]
  },
  {
   "cell_type": "code",
   "execution_count": 4,
   "metadata": {
    "colab": {},
    "colab_type": "code",
    "id": "k1_weeX0ncMA"
   },
   "outputs": [],
   "source": [
    "# split a text into sentences\n",
    "def to_lines(text):\n",
    "    sents = text.strip().split('\\n')\n",
    "    sents = [i.split('\\t') for i in sents]\n",
    "    return sents"
   ]
  },
  {
   "cell_type": "markdown",
   "metadata": {
    "colab_type": "text",
    "id": "QW8mksgmncMD"
   },
   "source": [
    "__Download the data from [here.](http://www.manythings.org/anki/deu-eng.zip)__ and extract \"deu.txt\" in your working directory."
   ]
  },
  {
   "cell_type": "code",
   "execution_count": 5,
   "metadata": {
    "colab": {},
    "colab_type": "code",
    "id": "8ZztiA3sncME"
   },
   "outputs": [],
   "source": [
    "data = read_text(\"deu-eng\\deu.txt\")\n",
    "deu_eng = to_lines(data)\n",
    "deu_eng = array(deu_eng)"
   ]
  },
  {
   "cell_type": "markdown",
   "metadata": {
    "colab_type": "text",
    "id": "hueTf7_5ncMH"
   },
   "source": [
    "The actual data contains over 150,000 sentence-pairs. However, we will use the first 50,000 sentence pairs only to reduce the training time of the model. You can change this number as per you system computation power."
   ]
  },
  {
   "cell_type": "code",
   "execution_count": 6,
   "metadata": {
    "colab": {},
    "colab_type": "code",
    "id": "maMjzRMuncMI"
   },
   "outputs": [],
   "source": [
    "deu_eng = deu_eng[:50000,:]"
   ]
  },
  {
   "cell_type": "markdown",
   "metadata": {
    "colab_type": "text",
    "id": "QQN46mWencML"
   },
   "source": [
    "### Text Pre-Processing"
   ]
  },
  {
   "cell_type": "markdown",
   "metadata": {
    "colab_type": "text",
    "id": "ECJANhlfncMM"
   },
   "source": [
    "#### Text Cleaning\n",
    "\n",
    "Let's take a look at our data, then we will decide which pre-processing steps to adopt."
   ]
  },
  {
   "cell_type": "code",
   "execution_count": 7,
   "metadata": {
    "colab": {},
    "colab_type": "code",
    "id": "H4ZPqJ6rncMM",
    "outputId": "cae19e16-e03e-4465-edb0-bb8dae8aac4d",
    "scrolled": true
   },
   "outputs": [
    {
     "data": {
      "text/plain": [
       "array([['Go.', 'Geh.',\n",
       "        'CC-BY 2.0 (France) Attribution: tatoeba.org #2877272 (CM) & #8597805 (Roujin)'],\n",
       "       ['Hi.', 'Hallo!',\n",
       "        'CC-BY 2.0 (France) Attribution: tatoeba.org #538123 (CM) & #380701 (cburgmer)'],\n",
       "       ['Hi.', 'Grüß Gott!',\n",
       "        'CC-BY 2.0 (France) Attribution: tatoeba.org #538123 (CM) & #659813 (Esperantostern)'],\n",
       "       ...,\n",
       "       ['You need not go there.', 'Du musst nicht dorthin gehen.',\n",
       "        'CC-BY 2.0 (France) Attribution: tatoeba.org #70007 (CM) & #1813634 (Pfirsichbaeumchen)'],\n",
       "       ['You need not go there.', 'Du brauchst nicht dorthin zu gehen.',\n",
       "        'CC-BY 2.0 (France) Attribution: tatoeba.org #70007 (CM) & #1813635 (Pfirsichbaeumchen)'],\n",
       "       ['You need to apologize.', 'Du musst dich entschuldigen.',\n",
       "        'CC-BY 2.0 (France) Attribution: tatoeba.org #3826573 (CK) & #3928528 (Tamy)']],\n",
       "      dtype='<U537')"
      ]
     },
     "execution_count": 7,
     "metadata": {},
     "output_type": "execute_result"
    }
   ],
   "source": [
    "deu_eng"
   ]
  },
  {
   "cell_type": "markdown",
   "metadata": {
    "colab_type": "text",
    "id": "oBNdOU99ncMQ"
   },
   "source": [
    "We will get rid of the punctuation marks, and then convert the text to lower case."
   ]
  },
  {
   "cell_type": "code",
   "execution_count": 8,
   "metadata": {
    "colab": {},
    "colab_type": "code",
    "id": "O0WsDsBLncMR"
   },
   "outputs": [],
   "source": [
    "# Remove punctuation\n",
    "deu_eng[:,0] = [s.translate(str.maketrans('', '', string.punctuation)) for s in deu_eng[:,0]]\n",
    "deu_eng[:,1] = [s.translate(str.maketrans('', '', string.punctuation)) for s in deu_eng[:,1]]"
   ]
  },
  {
   "cell_type": "code",
   "execution_count": 9,
   "metadata": {
    "colab": {},
    "colab_type": "code",
    "id": "dMJ6Chc5ncMT",
    "outputId": "60660b88-23f0-4a81-aca5-4e7cedacda5d"
   },
   "outputs": [
    {
     "data": {
      "text/plain": [
       "array([['Go', 'Geh',\n",
       "        'CC-BY 2.0 (France) Attribution: tatoeba.org #2877272 (CM) & #8597805 (Roujin)'],\n",
       "       ['Hi', 'Hallo',\n",
       "        'CC-BY 2.0 (France) Attribution: tatoeba.org #538123 (CM) & #380701 (cburgmer)'],\n",
       "       ['Hi', 'Grüß Gott',\n",
       "        'CC-BY 2.0 (France) Attribution: tatoeba.org #538123 (CM) & #659813 (Esperantostern)'],\n",
       "       ...,\n",
       "       ['You need not go there', 'Du musst nicht dorthin gehen',\n",
       "        'CC-BY 2.0 (France) Attribution: tatoeba.org #70007 (CM) & #1813634 (Pfirsichbaeumchen)'],\n",
       "       ['You need not go there', 'Du brauchst nicht dorthin zu gehen',\n",
       "        'CC-BY 2.0 (France) Attribution: tatoeba.org #70007 (CM) & #1813635 (Pfirsichbaeumchen)'],\n",
       "       ['You need to apologize', 'Du musst dich entschuldigen',\n",
       "        'CC-BY 2.0 (France) Attribution: tatoeba.org #3826573 (CK) & #3928528 (Tamy)']],\n",
       "      dtype='<U537')"
      ]
     },
     "execution_count": 9,
     "metadata": {},
     "output_type": "execute_result"
    }
   ],
   "source": [
    "deu_eng"
   ]
  },
  {
   "cell_type": "code",
   "execution_count": 10,
   "metadata": {
    "colab": {},
    "colab_type": "code",
    "id": "xSbkHydSncMW",
    "scrolled": true
   },
   "outputs": [],
   "source": [
    "# convert to lowercase\n",
    "for i in range(len(deu_eng)):\n",
    "    deu_eng[i,0] = deu_eng[i,0].lower()\n",
    "    \n",
    "    deu_eng[i,1] = deu_eng[i,1].lower()"
   ]
  },
  {
   "cell_type": "code",
   "execution_count": 11,
   "metadata": {
    "colab": {},
    "colab_type": "code",
    "id": "wurQeR2WncMZ",
    "outputId": "d6a59e1b-8959-4f79-a41a-05fbdd397c0d"
   },
   "outputs": [
    {
     "data": {
      "text/plain": [
       "array([['go', 'geh',\n",
       "        'CC-BY 2.0 (France) Attribution: tatoeba.org #2877272 (CM) & #8597805 (Roujin)'],\n",
       "       ['hi', 'hallo',\n",
       "        'CC-BY 2.0 (France) Attribution: tatoeba.org #538123 (CM) & #380701 (cburgmer)'],\n",
       "       ['hi', 'grüß gott',\n",
       "        'CC-BY 2.0 (France) Attribution: tatoeba.org #538123 (CM) & #659813 (Esperantostern)'],\n",
       "       ...,\n",
       "       ['you need not go there', 'du musst nicht dorthin gehen',\n",
       "        'CC-BY 2.0 (France) Attribution: tatoeba.org #70007 (CM) & #1813634 (Pfirsichbaeumchen)'],\n",
       "       ['you need not go there', 'du brauchst nicht dorthin zu gehen',\n",
       "        'CC-BY 2.0 (France) Attribution: tatoeba.org #70007 (CM) & #1813635 (Pfirsichbaeumchen)'],\n",
       "       ['you need to apologize', 'du musst dich entschuldigen',\n",
       "        'CC-BY 2.0 (France) Attribution: tatoeba.org #3826573 (CK) & #3928528 (Tamy)']],\n",
       "      dtype='<U537')"
      ]
     },
     "execution_count": 11,
     "metadata": {},
     "output_type": "execute_result"
    }
   ],
   "source": [
    "deu_eng"
   ]
  },
  {
   "cell_type": "markdown",
   "metadata": {
    "colab_type": "text",
    "id": "2D_OKUR5ncMc"
   },
   "source": [
    "#### Text to Sequence Conversion\n",
    "\n",
    "To feed our data in a Seq2Seq model, we will have to convert both the input and the output sentences into integer sequences of fixed length. Before that, let's visualise the length of the sentences. We will capture the lengths of all the sentences in two separate lists for English and German, respectively."
   ]
  },
  {
   "cell_type": "code",
   "execution_count": 12,
   "metadata": {
    "colab": {},
    "colab_type": "code",
    "id": "0L9eeXnYncMd"
   },
   "outputs": [],
   "source": [
    "# empty lists\n",
    "eng_l = []\n",
    "deu_l = []\n",
    "\n",
    "# populate the lists with sentence lengths\n",
    "for i in deu_eng[:,0]:\n",
    "    eng_l.append(len(i.split()))\n",
    "\n",
    "for i in deu_eng[:,1]:\n",
    "    deu_l.append(len(i.split()))"
   ]
  },
  {
   "cell_type": "code",
   "execution_count": 13,
   "metadata": {
    "colab": {},
    "colab_type": "code",
    "id": "opgVpkEKncMf",
    "outputId": "22a6dd9a-daf8-4c8f-eb2a-9f57c577e323"
   },
   "outputs": [
    {
     "name": "stdout",
     "output_type": "stream",
     "text": [
      "       eng  deu\n",
      "0        1    1\n",
      "1        1    1\n",
      "2        1    2\n",
      "3        1    1\n",
      "4        1    1\n",
      "...    ...  ...\n",
      "49995    4    5\n",
      "49996    5    5\n",
      "49997    5    5\n",
      "49998    5    6\n",
      "49999    4    4\n",
      "\n",
      "[50000 rows x 2 columns]\n",
      "7\n",
      "15\n"
     ]
    }
   ],
   "source": [
    "length_df = pd.DataFrame({'eng':eng_l, 'deu':deu_l})\n",
    "print(length_df)\n",
    "print(max(length_df.eng))\n",
    "print(max(length_df.deu))"
   ]
  },
  {
   "cell_type": "code",
   "execution_count": 14,
   "metadata": {
    "colab": {},
    "colab_type": "code",
    "id": "XMA7lwcnncMi",
    "outputId": "579385f3-580b-4b76-83f9-b589d725131f"
   },
   "outputs": [
    {
     "data": {
      "image/png": "[encoded data removed]",
      "text/plain": [
       "<Figure size 432x288 with 2 Axes>"
      ]
     },
     "metadata": {
      "needs_background": "light"
     },
     "output_type": "display_data"
    }
   ],
   "source": [
    "length_df.hist(bins = 30)\n",
    "plt.show()"
   ]
  },
  {
   "cell_type": "markdown",
   "metadata": {
    "colab_type": "text",
    "id": "luuRWv22ncMl"
   },
   "source": [
    "The maximum length of the German sentences is 11 and that of the English phrases is 8."
   ]
  },
  {
   "cell_type": "markdown",
   "metadata": {
    "colab_type": "text",
    "id": "GIhgOmgLncMm"
   },
   "source": [
    "Let's vectorize our text data by using Keras's Tokenizer() class. It will turn our sentences into sequences of integers. Then we will pad those sequences with zeros to make all the sequences of same length."
   ]
  },
  {
   "cell_type": "code",
   "execution_count": 15,
   "metadata": {
    "colab": {},
    "colab_type": "code",
    "id": "m7eq8ETwncMm"
   },
   "outputs": [],
   "source": [
    "# function to build a tokenizer\n",
    "def tokenization(lines):\n",
    "    tokenizer = Tokenizer()\n",
    "    tokenizer.fit_on_texts(lines)\n",
    "    return tokenizer"
   ]
  },
  {
   "cell_type": "code",
   "execution_count": 16,
   "metadata": {
    "colab": {},
    "colab_type": "code",
    "id": "l4OH0WasncMr",
    "outputId": "506ca5ce-a689-422d-b4d1-5ea9f282ac49"
   },
   "outputs": [
    {
     "name": "stdout",
     "output_type": "stream",
     "text": [
      "English Vocabulary Size: 6331\n"
     ]
    }
   ],
   "source": [
    "# prepare english tokenizer\n",
    "eng_tokenizer = tokenization(deu_eng[:, 0])\n",
    "eng_vocab_size = len(eng_tokenizer.word_index) + 1\n",
    "\n",
    "eng_length = 8\n",
    "print('English Vocabulary Size: %d' % eng_vocab_size)"
   ]
  },
  {
   "cell_type": "code",
   "execution_count": 17,
   "metadata": {
    "colab": {},
    "colab_type": "code",
    "id": "8Gqwd1XXncMu",
    "outputId": "40dce1d0-56cc-47d0-a62a-8ba6e62a8374"
   },
   "outputs": [
    {
     "name": "stdout",
     "output_type": "stream",
     "text": [
      "Deutch Vocabulary Size: 10455\n"
     ]
    }
   ],
   "source": [
    "# prepare Deutch tokenizer\n",
    "deu_tokenizer = tokenization(deu_eng[:, 1])\n",
    "deu_vocab_size = len(deu_tokenizer.word_index) + 1\n",
    "\n",
    "deu_length = 8\n",
    "print('Deutch Vocabulary Size: %d' % deu_vocab_size)"
   ]
  },
  {
   "cell_type": "code",
   "execution_count": 18,
   "metadata": {
    "colab": {},
    "colab_type": "code",
    "id": "pdv0OEh0ncMx",
    "outputId": "0e5e7782-d541-42b0-8b94-9f28101e2cd0"
   },
   "outputs": [
    {
     "name": "stdout",
     "output_type": "stream",
     "text": [
      "OrderedDict([('geh', 155), ('hallo', 34), ('grüß', 3), ('gott', 27), ('lauf', 9), ('potzdonner', 2), ('donnerwetter', 1), ('feuer', 23), ('hilfe', 131), ('zu', 2011), ('hülf', 1), ('stopp', 2), ('warte', 49), ('fang', 15), ('an', 870), ('mach', 199), ('weiter', 125), ('beeil', 11), ('dich', 1045), ('schnell', 178), ('ich', 11453), ('rannte', 48), ('verstehe', 48), ('aha', 2), ('probiere', 6), ('es', 4100), ('hab', 44), ('gewonnen', 70), ('habe', 2131), ('entspann', 6), ('schieß', 3), ('lächeln', 20), ('angriff', 3), ('attacke', 1), ('zum', 160), ('wohl', 53), ('iss', 27), ('auf', 1153), ('keine', 386), ('bewegung', 5), ('stehenbleiben', 2), ('verstanden', 24), ('habs', 9), ('kapiert', 2), ('einverstanden', 35), ('er', 2506), ('lief', 32), ('mit', 670), ('drück', 6), ('mich', 1634), ('nimm', 89), ('in', 861), ('den', 712), ('arm', 60), ('umarme', 2), ('fiel', 31), ('hin', 98), ('stürzte', 6), ('bin', 1878), ('hingefallen', 1), ('gestürzt', 1), ('weiß', 389), ('gelogen', 33), ('verloren', 147), ('bezahlt', 43), ('zahlte', 3), ('sang', 20), ('schwimme', 9), ('19', 3), ('jahre', 27), ('alt', 123), ('mir', 1764), ('gehts', 30), ('gut', 627), ('geht', 373), ('wach', 44), ('unmöglich', 12), ('das', 5283), ('kommt', 201), ('nicht', 4447), ('frage', 45), ('gibt’s', 9), ('doch', 114), ('ausgeschlossen', 3), ('keinster', 1), ('weise', 26), ('wirklich', 154), ('echt', 37), ('im', 320), ('ernst', 70), ('danke', 86), ('versuch’s', 6), ('wir', 2580), ('versuchen', 93), ('haben', 1151), ('warum', 541), ('frag', 32), ('tom', 11837), ('fragen', 58), ('sie', 5435), ('fragt', 9), ('fantastisch', 8), ('sei', 150), ('ungerecht', 15), ('fair', 13), ('nett', 56), ('seien', 49), ('weg', 208), ('hau', 12), ('ab', 177), ('verschwinde', 13), ('verdufte', 6), ('fort', 33), ('zieh', 42), ('leine', 9), ('vom', 38), ('acker', 7), ('verzieh', 8), ('verkrümele', 5), ('troll', 5), ('zisch', 5), ('pack', 10), ('’ne', 5), ('fliege', 9), ('schwirr', 5), ('die', 1750), ('sause', 5), ('scher', 10), ('ruf', 35), ('komm', 200), ('herein', 48), ('schon', 287), ('macht', 247), ('hol', 41), ('raus', 63), ('verpiss', 3), ('gehen', 588), ('nach', 454), ('hause', 373), ('heim', 15), ('wiedersehen', 10), ('leb', 1), ('tschüss', 4), ('nachlassen', 3), ('kam', 163), ('hat', 2836), ('gekündigt', 3), ('rennt', 12), ('läuft', 45), ('hilf', 21), ('uns', 970), ('helft', 8), ('helfen', 275), ('schlage', 4), ('schlagt', 2), ('schlagen', 18), ('bewegen', 22), ('warten', 107), ('kurz', 46), ('umarmen', 10), ('umarmt', 10), ('drückt', 3), ('drücken', 4), ('weinte', 27), ('geweint', 31), ('schnarche', 3), ('gehe', 142), ('schlecht', 79), ('fett', 13), ('dick', 33), ('wurde', 390), ('getroffen', 79), ('verrückt', 69), ('neu', 59), ('traurig', 59), ('schüchtern', 34), ('nass', 20), ('ist', 8214), ('ordnung', 60), ('bins', 4), ('behalt', 8), ('ihn', 481), ('behalten', 36), ('behaltet', 7), ('küsst', 7), ('schließ', 19), ('schließe', 9), ('perfekt', 27), ('dran', 50), ('drauf', 15), ('sehen', 253), ('zeigs', 3), ('halt’s', 2), ('maul', 3), ('bis', 46), ('später', 48), ('hör', 111), ('nehmt', 18), ('nehmen', 99), ('sag', 92), ('erzähls', 1), ('aß', 26), ('gegessen', 109), ('gerannt', 5), ('mal', 313), ('wartet', 22), ('wachen', 3), ('wasch', 7), ('dir', 703), ('hände', 54), ('gesicht', 48), ('willkommen', 20), ('wer', 533), ('du', 3556), ('läufst', 2), ('laufen', 55), ('hast', 725), ('näher', 16), ('ein', 2166), ('mann', 131), ('tapfer', 18), ('seid', 311), ('fassen', 8), ('sich', 1067), ('fass', 22), ('fasst', 4), ('euch', 492), ('ruhig', 75), ('rufe', 25), ('rufen', 41), ('ruft', 24), ('kann', 1096), ('kopf', 40), ('hoch', 31), ('reg', 3), ('leg', 16), ('ihm', 200), ('handschellen', 4), ('legen', 26), ('fahr', 11), ('finde', 30), ('findet', 13), ('finden', 67), ('beheben', 3), ('behebe', 1), ('repariere', 6), ('reparieren', 23), ('runter', 19), ('hinlegen', 2), ('deckung', 5), ('kommen', 255), ('jetzt', 462), ('ernsthaft', 5), ('nur', 235), ('greif', 1), ('viel', 315), ('vergnügen', 4), ('spaß', 112), ('feier', 6), ('schön', 97), ('sprach', 38), ('versucht', 71), ('was', 1379), ('süß', 50), ('wie', 948), ('tief', 32), ('tu', 58), ('gefallen', 104), ('tun', 332), ('geschafft', 36), ('gemacht', 287), ('komme', 116), ('klar', 23), ('zurecht', 8), ('über', 86), ('runden', 1), ('bekommen', 75), ('half', 16), ('geholfen', 54), ('gesprungen', 4), ('nickte', 10), ('weigere', 3), ('trete', 1), ('zurück', 185), ('rasierte', 4), ('rasiert', 7), ('lächelte', 34), ('blieb', 45), ('dageblieben', 1), ('benutze', 11), ('gewartet', 16), ('gähnte', 3), ('gegähnt', 1), ('werde', 617), ('zahlen', 19), ('dj', 4), ('wieder', 208), ('da', 392), ('glatzköpfig', 1), ('eine', 1078), ('glatze', 7), ('beschäftigt', 158), ('taub', 14), ('gehörlos', 1), ('gerecht', 10), ('frei', 66), ('satt', 10), ('dabei', 39), ('mache', 100), ('hier', 924), ('spät', 107), ('verirrt', 14), ('gemein', 19), ('der', 901), ('nächste', 14), ('reich', 82), ('sicher', 127), ('krank', 125), ('groß', 112), ('dünn', 18), ('ordentlich', 8), ('hässlich', 25), ('schwach', 25), ('hilft', 33), ('tut', 128), ('weh', 92), ('schmerzt', 11), ('klappt', 11), ('funktioniert', 50), ('seins', 2), ('heiß', 85), ('eintritt', 2), ('verboten', 6), ('kein', 406), ('zutritt', 1), ('küsse', 1), ('küssen', 28), ('lass', 297), ('allein', 148), ('lassen', 149), ('lasst', 136), ('losgehen', 7), ('vorsicht', 10), ('heirate', 2), ('darf', 154), ('rette', 2), ('rettet', 1), ('retten', 21), ('log', 12), ('setz', 43), ('setzen', 52), ('sprich', 30), ('lauter', 15), ('stehen', 43), ('steht', 70), ('stehe', 22), ('steh', 9), ('halte', 52), ('halten', 30), ('haltet', 13), ('probier', 17), ('sagen', 163), ('erzähl', 16), ('erzählen', 18), ('davon', 95), ('sagt', 84), ('hervorragend', 2), ('sagenhaft', 2), ('wunderbar', 12), ('gekommen', 99), ('gestorben', 61), ('starb', 39), ('wusste', 85), ('gewusst', 16), ('bescheid', 30), ('gegangen', 125), ('ging', 207), ('lügt', 28), ('gezahlt', 4), ('aufgehört', 22), ('schwamm', 4), ('geschwommen', 9), ('vertraue', 18), ('vertraut', 29), ('vertrauen', 48), ('versuch', 30), ('richtig', 41), ('warnen', 21), ('warne', 1), ('schau', 82), ('schauen', 27), ('beobachte', 6), ('beobachten', 14), ('schaut', 36), ('beobachtet', 21), ('stimmen', 19), ('sind', 1630), ('versuchten', 3), ('werden', 350), ('wozu', 11), ('für', 495), ('ausgeschieden', 1), ('schreib', 11), ('schreiben', 32), ('schreibt', 24), ('ihr', 1390), ('habt', 298), ('zielen', 2), ('tot', 53), ('antworten', 20), ('vögel', 16), ('fliegen', 22), ('gesundheit', 5), ('zuhause', 37), ('beruhige', 5), ('beruhigen', 5), ('essen', 191), ('können', 412), ('fange', 6), ('fangen', 22), ('fangt', 3), ('hierher', 39), ('her', 68), ('bald', 104), ('hunde', 42), ('bellen', 2), ('weine', 9), ('weint', 16), ('weinen', 86), ('stirb', 4), ('lüge', 14), ('leid', 60), ('entschuldigung', 13), ('entschuldigen', 21), ('ganz', 121), ('toll', 26), ('fühl', 1), ('folge', 14), ('vergiss', 17), ('daraus', 3), ('wird', 630), ('nichts', 301), ('kannst', 291), ('knicken', 2), ('bereit', 59), ('fertig', 109), ('tue', 30), ('hols', 1), ('rein', 51), ('schlafen', 61), ('ins', 95), ('bett', 88), ('legt', 7), ('gute', 97), ('nacht', 59), ('schönen', 21), ('abend', 55), ('plattenaufleger', 1), ('träge', 4), ('sexy', 2), ('fünf', 10), ('dollar', 18), ('schießen', 18), ('halt', 30), ('schrecklich', 22), ('lage', 9), ('seltsam', 18), ('seinen', 71), ('willen', 2), ('rennen', 25), ('ski', 13), ('fahren', 98), ('gewinnen', 62), ('änderte', 5), ('geschummelt', 7), ('klatschte', 4), ('ohnmächtig', 12), ('ohnmacht', 10), ('fürchte', 12), ('ja', 87), ('aufgegeben', 15), ('gab', 94), ('meinst', 12), ('kicherte', 7), ('gebe', 25), ('füge', 2), ('wütend', 71), ('böse', 56), ('hatte', 264), ('amüsiert', 13), ('geschlagen', 40), ('hoffe', 94), ('aufgelegt', 3), ('lachte', 23), ('gefällt', 99), ('liebe', 246), ('vielleicht', 143), ('gewinne', 9), ('meine', 637), ('so', 502), ('gemeint', 21), ('von', 267), ('traf', 17), ('begegnet', 7), ('vermisse', 36), ('fehlt', 46), ('versprechs', 1), ('verspreche', 4), ('sagte', 100), ('nein', 43), ('gesehen', 269), ('einen', 858), ('sehe', 69), ('nahm', 59), ('genommen', 26), ('möchte', 203), ('will', 437), ('war', 1558), ('wachte', 8), ('würde', 134), ('anrufen', 40), ('kochen', 42), ('helfe', 12), ('leben', 182), ('gehorchen', 10), ('aufhören', 64), ('abbrechen', 2), ('singen', 72), ('bleiben', 116), ('reden', 82), ('fuß', 47), ('sauer', 30), ('blind', 15), ('gelangweilt', 11), ('langweilig', 35), ('knapp', 17), ('bei', 173), ('kasse', 4), ('pleite', 17), ('geheilt', 1), ('betrunken', 56), ('blau', 23), ('sterben', 74), ('früh', 59), ('erster', 7), ('erste', 8), ('glücklich', 185), ('froh', 34), ('bedürftig', 2), ('pingelig', 10), ('wählerisch', 13), ('soweit', 13), ('weit', 62), ('recht', 170), ('nüchtern', 4), ('stecke', 7), ('fest', 32), ('müde', 139), ('zäh', 7), ('verärgert', 50), ('bestürzt', 26), ('gehöre', 7), ('beachte', 2), ('gar', 41), ('beachten', 2), ('okay', 55), ('schlimm', 15), ('brannte', 3), ('verbrannte', 4), ('geschneit', 11), ('faul', 30), ('geklappt', 4), ('halb', 18), ('vier', 7), ('745', 2), ('uhr', 114), ('sieben', 22), ('fünfundvierzig', 1), ('830', 1), ('viertel', 5), ('neun', 8), ('915\\xa0uhr', 1), ('fernseher', 45), ('kalt', 91), ('kühl', 4), ('dunkel', 35), ('einfach', 237), ('hart', 37), ('meins', 19), ('gehört', 200), ('geöffnet', 15), ('unsers', 1), ('vorbei', 59), ('sand', 4), ('wahr', 75), ('arbeit', 175), ('spring', 6), ('schwimm', 1), ('bleib', 47), ('bleibt', 34), ('gelassen', 13), ('unten', 29), ('behalt’s', 1), ('behalte', 9), ('warm', 29), ('verlasse', 13), ('verlassen', 65), ('sein', 707), ('ruhe', 36), ('etwas', 309), ('probieren', 14), ('lieg', 1), ('still', 56), ('und', 243), ('beweg', 4), ('hinten', 2), ('hinter', 38), ('guck', 10), ('dreh', 6), ('locker', 6), ('rutsch', 2), ('stück', 8), ('guter', 109), ('schuss', 8), ('natürlich', 5), ('selbstverständlich', 2), ('jeden', 38), ('fall', 21), ('na', 15), ('aber', 28), ('bitte', 500), ('lies', 20), ('„ah“', 1), ('siehe', 1), ('hats', 3), ('unterschreibe', 4), ('unterschreiben', 19), ('unterschreib', 1), ('sitz', 4), ('sitzen', 16), ('dorthin', 50), ('harre', 1), ('aus', 830), ('beginnen', 13), ('cool', 16), ('tritt', 9), ('damit', 75), ('stoppen', 22), ('pass', 24), ('machs', 4), ('meinen', 175), ('übernimm', 3), ('übernehmt', 1), ('übernehmen', 7), ('ok', 8), ('wars', 3), ('fielen', 3), ('stürzten', 1), ('schwammen', 3), ('zeit', 189), ('um', 331), ('verneigte', 3), ('döste', 2), ('fuhr', 29), ('erstarrte', 1), ('strickt', 1), ('bewegte', 9), ('super', 7), ('schlief', 35), ('gesprochen', 33), ('stand', 50), ('schwimmt', 24), ('fluchte', 3), ('versuchte', 31), ('gewählt', 14), ('wählte', 4), ('winkte', 7), ('arbeitet', 74), ('noch', 559), ('einmal', 109), ('entsperr', 1), ('sieh', 35), ('seht', 16), ('waren', 163), ('einig', 6), ('stimmten', 3), ('gescheitert', 7), ('versagt', 5), ('vergessen', 66), ('sahen', 11), ('unterhalten', 6), ('warteten', 6), ('siegen', 6), ('los', 97), ('wen', 45), ('kümmert’s', 1), ('kümmert', 10), ('herrlich', 3), ('schreibe', 18), ('fährst', 4), ('idiot', 15), ('fängst', 2), ('stinkst', 2), ('stinkt', 8), ('stinken', 3), ('hasts', 1), ('bist', 858), ('ziel', 18), ('höher', 3), ('zielt', 1), ('alle', 362), ('bord', 13), ('sterbe', 10), ('gefeuert', 15), ('eingestellt', 9), ('liege', 5), ('komisch', 27), ('irre', 10), ('antworte', 6), ('antwortet', 6), ('18', 5), ('ihnen', 268), ('irgendwen', 2), ('herum', 16), ('vorsichtig', 44), ('vor', 242), ('gib', 187), ('obacht', 1), ('acht', 14), ('geduldig', 17), ('dem', 284), ('boden', 23), ('tatsachen', 3), ('bring', 47), ('wein', 39), ('nützlich', 5), ('machen', 315), ('trag', 2), ('prüfe', 2), ('prüfen', 3), ('überprüfen', 11), ('suche', 16), ('eines', 17), ('such', 7), ('frühzeitig', 3), ('kaputt', 45), ('hingegangen', 9), ('grab', 3), ('schneller', 21), ('männer', 26), ('gucken', 12), ('bewegt', 7), ('schubsen', 2), ('sing', 8), ('schrei', 8), ('schreien', 20), ('schreit', 13), ('trink', 20), ('pflicht', 15), ('langsam', 58), ('untersuchen', 2), ('volltanken', 3), ('job', 29), ('besorgt', 32), ('suchen', 19), ('brennt', 12), ('folgen', 28), ('folgt', 7), ('vergib', 3), ('anderes', 14), ('arbeiten', 88), ('existiert', 3), ('bekam', 30), ('„ausreichend“', 2), ('legte', 26), ('freundlich', 25), ('liebenswürdig', 2), ('fies', 1), ('gelacht', 18), ('schaffte', 4), ('schweizer', 1), ('grausam', 14), ('klug', 24), ('elegant', 3), ('unsinn', 9), ('absurd', 3), ('schlau', 19), ('geschickt', 28), ('tragisch', 1), ('geb', 3), ('junge', 75), ('mensch', 49), ('menschlich', 2), ('kaputtgemacht', 8), ('gebaut', 17), ('springen', 11), ('schwimmen', 89), ('abgesagt', 3), ('kaue', 2), ('kaugummi', 2), ('anderer', 16), ('meinung', 29), ('ansicht', 3), ('getrunkten', 1), ('esse', 60), ('fleisch', 36), ('reis', 18), ('beneide', 10), ('fühle', 63), ('repariert', 5), ('gefunden', 146), ('eins', 44), ('hasse', 112), ('gewann', 13), ('sieger', 2), ('höre', 38), ('meint', 12), ('vernommen', 2), ('gerade', 291), ('kannte', 24), ('kenne', 105), ('mag', 502), ('kunst', 3), ('tee', 62), ('gefällst', 1), ('hörte', 64), ('zugehört', 10), ('liebte', 29), ('machte', 65), ('fehlst', 9), ('brauche', 223), ('luft', 19), ('eis', 22), ('geriet', 6), ('panik', 15), ('tust', 14), ('versprochen', 10), ('erinnere', 19), ('zurückgetreten', 6), ('trat', 20), ('setzte', 30), ('schoss', 10), ('überlebt', 10), ('überlebte', 3), ('stimme', 47), ('gekotzt', 1), ('übergeben', 8), ('erbrochen', 2), ('gesagt', 175), ('verwende', 3), ('ruppig', 1), ('reingehen', 1), ('beeilen', 22), ('anfangen', 35), ('koch', 22), ('mädchen', 76), ('held', 16), ('mönch', 3), ('angst', 151), ('blutarmut', 1), ('koche', 18), ('besser', 91), ('voreingenommen', 8), ('bezahle', 6), ('pummelig', 3), ('mollig', 1), ('gleich', 50), ('berühmt', 19), ('dafür', 53), ('gierig', 9), ('verstecke', 5), ('bescheiden', 14), ('hungrig', 55), ('hunger', 61), ('immun', 1), ('drinnen', 27), ('einsam', 33), ('am', 147), ('verlieren', 27), ('verliere', 8), ('reif', 5), ('bewege', 3), ('ausgeruht', 2), ('ruiniert', 12), ('ledig', 2), ('single', 2), ('hinterlistig', 2), ('dreißig', 40), ('zwölf', 3), ('12', 1), ('ignorier', 4), ('draußen', 82), ('ausgegangen', 23), ('kostenlos', 7), ('passiert', 74), ('wichtig', 35), ('zur', 96), ('sache', 22), ('funktionieren', 9), ('wette', 38), ('modeerscheinung', 1), ('vorübergehende', 1), ('laune', 22), ('lebt', 52), ('sperrig', 1), ('unhandlich', 1), ('sauber', 31), ('nah', 4), ('großartig', 52), ('grün', 14), ('cd', 9), ('rechnung', 31), ('glänzt', 1), ('steckt', 9), ('windig', 9), ('deins', 14), ('jesus', 5), ('stadt', 39), ('bezahlen', 48), ('heraus', 23), ('lasset', 1), ('beten', 6), ('abstimmen', 1), ('nochmal', 20), ('vorne', 9), ('vorausschauend', 1), ('kuck', 1), ('schlag', 8), ('dort', 179), ('mama', 18), ('draus', 1), ('kommentar', 5), ('problem', 72), ('ohne', 24), ('probleme', 16), ('ach', 3), ('hebe', 7), ('ziehen', 28), ('leise', 22), ('beruhigt', 4), ('ersetze', 1), ('tausche', 1), ('ersetzen', 2), ('tauschen', 2), ('ersetzt', 1), ('tauscht', 1), ('beeile', 3), ('„bitte“', 2), ('gelächelt', 7), ('riech', 3), ('beginne', 1), ('wachsam', 7), ('seite', 40), ('gas', 11), ('hören', 84), ('lügen', 46), ('hört', 61), ('lern', 2), ('mehr', 249), ('bus', 65), ('fahre', 38), ('nickerchen', 6), ('rede', 26), ('schmecken', 7), ('schmeck', 1), ('alles', 221), ('betrüblich', 1), ('mogeln', 1), ('schummeln', 1), ('betrügen', 2), ('schliefen', 7), ('standen', 7), ('abgestimmt', 1), ('genügen', 7), ('stimmte', 17), ('hat’s', 1), ('gebissen', 22), ('rülpste', 4), ('stieß', 7), ('angerufen', 65), ('betrügt', 3), ('schummelt', 2), ('mogelt', 1), ('tanzte', 5), ('tanzt', 14), ('getan', 161), ('trinkt', 26), ('fährt', 39), ('auto', 316), ('versagte', 2), ('vergaß', 3), ('kämpfte', 4), ('schnappte', 5), ('japste', 1), ('dummen', 1), ('fehler', 47), ('gehauen', 7), ('lustig', 51), ('schaute', 22), ('ächzte', 2), ('stöhnte', 5), ('gehorchte', 1), ('fügte', 1), ('gefügt', 1), ('gehorcht', 4), ('malt', 2), ('hielt', 33), ('inne', 3), ('telefonierte', 2), ('telefoniert', 2), ('betete', 2), ('gebetet', 4), ('sah', 179), ('seufzte', 6), ('rauchte', 2), ('geraucht', 4), ('raucht', 17), ('schnarcht', 7), ('geblieben', 12), ('wartete', 20), ('zwinkerte', 7), ('gearbeitet', 31), ('arbeitete', 15), ('schrie', 18), ('geschrien', 9), ('heulen', 4), ('verletzt', 65), ('sicherheit', 25), ('pech', 13), ('gehabt', 10), ('streng', 8), ('strengt', 4), ('strengen', 2), ('mühe', 48), ('größere', 13), ('schalte', 13), ('rechts', 7), ('abbiegen', 1), ('moment', 16), ('augenblick', 12), ('wart', 24), ('krieg', 28), ('kaufen', 44), ('cds', 4), ('hatten', 48), ('unseren', 8), ('lachten', 16), ('mögen', 90), ('rasteten', 1), ('lieben', 57), ('wollen', 113), ('jungs', 14), ('quitt', 2), ('neues', 74), ('ding', 13), ('gibt', 116), ('gibts', 6), ('wo', 549), ('tat', 29), ('war’s', 1), ('als', 122), ('nächstes', 16), ('solls', 1), ('bringen', 34), ('holz', 13), ('bestimmst', 1), ('entscheiden', 11), ('dürfen', 26), ('könnt', 98), ('schuldest', 7), ('dumm', 41), ('jemand', 92), ('dann', 27), ('durch', 20), ('verlaufen', 11), ('form', 7), ('kreativ', 11), ('diskret', 6), ('gnädig', 3), ('gewappnet', 3), ('gnadenlos', 4), ('vernünftig', 12), ('spezifisch', 3), ('tolerant', 2), ('hut', 77), ('selbst', 80), ('bier', 79), ('jungen', 25), ('sehr', 761), ('teile', 5), ('anhalten', 8), ('besuch', 14), ('tröste', 1), ('tröstet', 2), ('trösten', 2), ('verbindung', 20), ('setzt', 5), ('zähl', 3), ('dazu', 62), ('verlass', 11), ('sage', 48), ('fischen', 5), ('betrüge', 3), ('streitet', 2), ('lachen', 39), ('lach', 5), ('ausbrechen', 2), ('lächel', 1), ('starr', 1), ('starren', 3), ('starrt', 1), ('sorge', 6), ('sorgen', 42), ('gedanken', 9), ('esst', 19), ('schließen', 22), ('wirf', 22), ('münze', 8), ('werfen', 10), ('werft', 7), ('vergeben', 16), ('vergebt', 1), ('sofort', 33), ('entlang', 8), ('lang', 30), ('kennen', 50), ('lesen', 82), ('davongekommen', 4), ('mumm', 2), ('alleine', 26), ('gehasst', 11), ('verhasst', 2), ('jung', 53), ('liebt', 111), ('braucht', 111), ('lenkte', 2), ('kniff', 2), ('augen', 89), ('blödmann', 4), ('lügner', 33), ('schläft', 34), ('stinkreich', 2), ('mein', 695), ('alter', 37), ('vater', 130), ('daheim', 7), ('stark', 29), ('stockbetrunken', 1), ('stockbesoffen', 2), ('nochmals', 7), ('tasche', 47), ('geht’s', 8), ('merkwürdig', 9), ('stehts', 1), ('zwilling', 3), ('dösen', 2), ('online', 3), ('netz', 3), ('größer', 17), ('gefragt', 36), ('fragte', 15), ('grund', 22), ('nehme', 43), ('schuld', 72), ('gekauft', 130), ('hab’s', 8), ('verbrannt', 9), ('schaffen', 29), ('schule', 101), ('geschwänzt', 2), ('brot', 31), ('obst', 13), ('trainiert', 6), ('fand', 16), ('schwindelig', 8), ('insekten', 7), ('mäuse', 3), ('milch', 57), ('dreihundert', 2), ('bargeld', 7), ('zögerte', 4), ('gezögert', 1), ('stellte', 7), ('beide', 70), ('beides', 2), ('kuchen', 57), ('katzen', 49), ('fisch', 48), ('gern', 138), ('gerne', 265), ('jazzmusik', 2), ('jazz', 4), ('mathe', 13), ('mathematik', 13), ('schnee', 16), ('mochte', 21), ('wohne', 16), ('lebe', 20), ('maria', 365), ('rindfleisch', 7), ('kinder', 103), ('rock', 6), ('geliebt', 26), ('muss', 381), ('kleber', 1), ('benötige', 17), ('nie', 245), ('oft', 71), ('dagegen', 24), ('verschlafen', 8), ('lese', 38), ('lippen', 13), ('las', 19), ('erholt', 5), ('dass', 433), ('sollst', 6), ('„hör', 1), ('auf“', 1), ('gerettet', 32), ('ufo', 4), ('fliegende', 1), ('untertasse', 1), ('hund', 216), ('gesorgt', 2), ('rieche', 6), ('benzin', 7), ('ergebe', 1), ('bares', 2), ('eier', 29), ('langweilte', 5), ('schwindlig', 7), ('besoffen', 8), ('glück', 56), ('gelegen', 2), ('gerührt', 5), ('naiv', 14), ('leichtgläubig', 10), ('geirrt', 13), ('unrecht', 32), ('arbeite', 41), ('anwesend', 8), ('kaufe', 8), ('absagen', 3), ('klarkommen', 11), ('einsteigen', 1), ('holen', 49), ('aufstehen', 9), ('nachsehen', 7), ('zurechtkommen', 3), ('verwenden', 3), ('auch', 208), ('siebzehn', 3), ('bäcker', 2), ('kind', 47), ('tollpatsch', 3), ('eigenbrötler', 2), ('arzt', 48), ('krankenschwester', 10), ('krankenpfleger', 2), ('veganer', 3), ('angsthase', 3), ('feigling', 18), ('neugierig', 26), ('tanze', 4), ('diät', 13), ('faste', 1), ('gesund', 22), ('summe', 4), ('schulden', 14), ('verschuldet', 2), ('drin', 30), ('gefängnis', 22), ('verliebt', 20), ('schmerzen', 26), ('eifersüchtig', 31), ('verheiratet', 30), ('nervös', 55), ('lügnerin', 8), ('darüber', 61), ('hinweg', 3), ('beliebt', 19), ('entspannt', 10), ('rente', 5), ('selbstsüchtig', 2), ('erschrocken', 3), ('aufrichtig', 10), ('bleibe', 8), ('bleib’', 1), ('pappsatt', 1), ('fassungslos', 4), ('spreche', 22), ('gesetz', 16), ('durst', 25), ('durstig', 10), ('gefangen', 26), ('unbewaffnet', 4), ('unglücklich', 16), ('ungewöhnlich', 12), ('oben', 32), ('nutzlos', 11), ('nichtsnutz', 4), ('wohlhabend', 13), ('bedient', 6), ('ignoriere', 5), ('ignorieren', 7), ('ignoriert', 6), ('brav', 15), ('nächster', 4), ('toms', 287), ('neblig', 2), ('legal', 6), ('gesetzlich', 1), ('zugelassen', 4), ('schmeckt', 30), ('schmeckts', 1), ('mitnehmen', 18), ('ihres', 10), ('eures', 7), ('wärs', 5), ('möglich', 24), ('geschehen', 20), ('nebel', 4), ('regnen', 17), ('regnet', 25), ('schneit', 23), ('real', 2), ('brechen', 5), ('fünfzig', 3), ('yen', 8), ('montag', 42), ('fälschung', 3), ('witz', 43), ('schade', 6), ('regel', 10), ('bewölkt', 5), ('abgeschlossen', 14), ('keinen', 155), ('zweck', 6), ('bringt', 19), ('gift', 1), ('geheim', 3), ('frühling', 13), ('blöd', 20), ('dringend', 11), ('eilt', 2), ('dringlich', 1), ('drüber', 2), ('hinüber', 1), ('versuchs', 5), ('sies', 3), ('wissen', 171), ('sprechen', 88), ('loslegen', 3), ('nachprüfen', 4), ('tanzen', 49), ('wirs', 6), ('hochgehen', 1), ('entspannen', 9), ('teilen', 9), ('studieren', 14), ('schaue', 12), ('genauer', 5), ('mittagessen', 29), ('liste', 25), ('wünsch', 4), ('vielen', 8), ('dank', 15), ('rauchen', 44), ('präg', 1), ('prägt', 1), ('prägen', 1), ('geld', 234), ('regiert', 2), ('welt', 22), ('gutes', 43), ('timing', 1), ('heißt', 22), ('niemand', 318), ('keiner', 79), ('karte', 24), ('pflanzen', 7), ('wachsen', 6), ('klatschen', 2), ('stell', 12), ('merk', 3), ('schießt', 2), ('verabschiede', 1), ('verabschiedet', 2), ('„auf', 2), ('wiedersehen“', 2), ('schick', 11), ('schicken', 11), ('schickt', 5), ('biss', 8), ('rot', 46), ('errötete', 2), ('schroff', 1), ('länger', 7), ('probiert', 3), ('dieb', 11), ('beiß', 1), ('spazieren', 15), ('handele', 1), ('handeln', 12), ('handelt', 7), ('wagen', 80), ('langsamer', 6), ('erteil', 1), ('absage', 3), ('erteilen', 1), ('erteilt', 2), ('geil', 2), ('gratis', 1), ('enorm', 3), ('stimmt', 50), ('brannten', 1), ('riefen', 1), ('kamen', 13), ('vorbeigekommen', 5), ('tanzten', 1), ('umarmten', 3), ('drückten', 1), ('küssten', 6), ('lächelten', 6), ('gingen', 22), ('denk', 16), ('dies', 82), ('spricht', 53), ('mist', 3), ('blinzelte', 3), ('verändert', 30), ('veränderte', 1), ('betrogen', 12), ('betrog', 5), ('schummelte', 3), ('jubelte', 3), ('hustete', 7), ('entschieden', 15), ('ertrank', 2), ('entkam', 5), ('atmete', 6), ('runzelte', 1), ('stirn', 1), ('blickte', 7), ('finster', 2), ('drein', 5), ('versteht', 20), ('freute', 2), ('hämisch', 1), ('grinste', 2), ('leidet', 4), ('unter', 56), ('zwängen', 1), ('einer', 80), ('zwangserkrankung', 1), ('wehgetan', 9), ('eingeatmet', 1), ('schallplattenunterhalter', 2), ('kahl', 1), ('friert', 3), ('hammertyp', 1), ('deprimiert', 9), ('gütig', 2), ('letzte', 19), ('laut', 36), ('dachschaden', 4), ('unhöflich', 13), ('rüpel', 1), ('schlank', 2), ('lange', 73), ('leitung', 6), ('eitel', 2), ('aufgeblasen', 3), ('eingebildet', 5), ('kniete', 5), ('könnte', 153), ('bemerkt', 14), ('bezahlte', 7), ('malte', 2), ('voraus', 9), ('weggelaufen', 10), ('lehnte', 7), ('abgelehnt', 10), ('entspannte', 1), ('rief', 32), ('rutschte', 3), ('ausgerutscht', 2), ('nieste', 3), ('angehalten', 6), ('schwitzte', 2), ('geschwitzt', 2), ('unterrichtet', 19), ('erzählt', 30), ('stolperte', 4), ('gestolpert', 1), ('scharf', 4), ('angesagt', 1), ('außer', 14), ('betrübt', 6), ('aussteigen', 6), ('hellwach', 10), ('bescheuert', 3), ('liegt', 49), ('unzuverlässig', 18), ('witzig', 3), ('älter', 18), ('unternehmungslustig', 2), ('drehe', 4), ('cnn', 1), ('wählt', 2), ('wählen', 15), ('wähle', 6), ('deine', 320), ('wecke', 6), ('hölle', 1), ('lag', 22), ('falsch', 60), ('schluss', 16), ('treffen', 61), ('vermissen', 38), ('müssen', 183), ('brauchen', 142), ('erinnern', 19), ('daran', 57), ('setzten', 5), ('gestohlen', 35), ('kämpfen', 18), ('bewaffnet', 7), ('nahe', 9), ('zeitig', 4), ('stecken', 6), ('drecksloch', 1), ('verlust', 5), ('durcheinander', 11), ('team', 4), ('ego', 1), ('gejubelt', 1), ('entkommen', 24), ('reihe', 19), ('zubereiten', 2), ('stirbt', 3), ('nummer', 11), ('woran', 3), ('gemogelt', 2), ('kennst', 38), ('musst', 124), ('hingehen', 23), ('brauchst', 54), ('genau', 36), ('geweckt', 9), ('kommst', 38), ('gehörst', 2), ('mattscheibe', 1), ('eingeladen', 31), ('polizei', 14), ('führe', 8), ('auszugehen', 4), ('aufmerksam', 12), ('objektiv', 6), ('realistisch', 3), ('kocht', 24), ('ei', 13), ('verstärkung', 1), ('bringe', 13), ('fbi', 8), ('melde', 3), ('meldet', 4), ('tretet', 2), ('melden', 8), ('treten', 9), ('herauf', 5), ('zehn', 24), ('kümmere', 11), ('drum', 6), ('kümmern', 18), ('beschreibe', 1), ('einzuwenden', 4), ('gesungen', 15), ('gerufen', 15), ('unterschrieben', 4), ('seh', 3), ('mach’s', 3), ('trotzdem', 8), ('tu’s', 5), ('sie’s', 6), ('trinken', 46), ('rauchst', 2), ('unterrichtest', 2), ('lehrst', 1), ('unterrichten', 4), ('dein', 296), ('bestes', 28), ('gebt', 37), ('euer', 71), ('geben', 107), ('tut’s', 1), ('merkt', 2), ('man', 139), ('funktioniert’s', 2), ('gräme', 1), ('nerv', 5), ('nerven', 7), ('waffe', 29), ('fallen', 22), ('mutter', 86), ('porzellankiste', 1), ('immer', 269), ('sachte', 2), ('untersuch', 1), ('gewehr', 8), ('holt', 5), ('buch', 233), ('treppe', 15), ('geister', 3), ('existieren', 2), ('hälfte', 8), ('drumrum', 1), ('guten', 19), ('hand', 39), ('endlich', 15), ('erwachsen', 13), ('händige', 1), ('frohe', 5), ('ostern', 2), ('fröhliche', 4), ('berliner', 4), ('imbiss', 3), ('koste', 1), ('mutig', 21), ('mut', 17), ('meidet', 3), ('schneidet', 5), ('schafft', 5), ('stritt', 5), ('sitzenlassen', 4), ('laufpass', 7), ('gegeben', 82), ('hasst', 56), ('dichter', 6), ('unleidlich', 2), ('stinkig', 1), ('ehrgeizig', 11), ('hinaus', 8), ('isst', 75), ('speist', 1), ('heldenhaft', 3), ('soeben', 2), ('getreten', 8), ('ließ', 50), ('läufer', 6), ('scheint', 137), ('sieht', 260), ('töricht', 6), ('einfältig', 4), ('treuherzig', 1), ('religiöser', 1), ('eiferer', 1), ('mädels', 3), ('unterstütze', 9), ('unterstützen', 2), ('unterstützt', 2), ('hey', 28), ('ehrlichkeit', 2), ('zahlt', 8), ('arrogant', 11), ('barbarisch', 2), ('aufregend', 6), ('erbärmlich', 6), ('romantisch', 5), ('berührend', 1), ('bewundere', 15), ('hätte', 90), ('fast', 72), ('chinese', 1), ('chinesin', 1), ('schäme', 7), ('verwirrt', 45), ('bete', 2), ('entschuldigte', 4), ('äpfel', 29), ('kaviar', 1), ('zerbrochen', 10), ('rülpse', 1), ('zeichnen', 4), ('kaum', 54), ('erwarten', 8), ('geschnitten', 11), ('verdient', 39), ('verdiene', 6), ('egal', 18), ('stört', 8), ('singe', 10), ('trank', 16), ('trinke', 33), ('käse', 6), ('freude', 49), ('lebendig', 3), ('übel', 13), ('blendend', 3), ('fühlte', 62), ('nackt', 14), ('joggen', 4), ('zweifel', 9), ('bohnen', 3), ('leiden', 28), ('sushi', 8), ('tests', 1), ('kuli', 7), ('nesselsucht', 1), ('beweise', 17), ('wasser', 90), ('musik', 36), ('umarmte', 9), ('drückte', 7), ('improvisierte', 2), ('improvisiert', 2), ('bücher', 70), ('süßigkeiten', 12), ('pizza', 36), ('zucker', 18), ('diese', 216), ('frauen', 20), ('verlor', 23), ('spiele', 40), ('witze', 41), ('reisen', 11), ('schloss', 20), ('erfunden', 8), ('gefehlt', 11), ('sputen', 3), ('lernen', 53), ('taxi', 41), ('umarmung', 2), ('farbe', 9), ('schlaf', 15), ('klavier', 16), ('selten', 43), ('löwen', 2), ('stern', 2), ('verkaufe', 4), ('geschlafen', 31), ('gerochen', 4), ('geneckt', 1), ('gedacht', 10), ('dachte', 26), ('große', 65), ('angestrengt', 4), ('beweis', 10), ('erschüttert', 5), ('schläfrig', 18), ('bekifft', 3), ('breit', 4), ('versagen', 4), ('geschrieben', 42), ('zurückkommen', 12), ('verspäte', 2), ('lieb', 10), ('vorbeikommen', 2), ('erklären', 26), ('kriege', 4), ('hole', 16), ('nachschauen', 2), ('verklagen', 8), ('99\\u202f', 1), ('kanadier', 34), ('freund', 78), ('genie', 12), ('jäger', 3), ('anwalt', 35), ('rechtsanwalt', 10), ('purist', 2), ('sänger', 9), ('sängerin', 5), ('süchtig', 5), ('sucht', 10), ('verfallen', 1), ('ohr', 12), ('magersüchtig', 2), ('künstlerisch', 3), ('veranlagt', 2), ('blute', 3), ('bluffe', 1), ('diabetiker', 7), ('geschieden', 8), ('einigermaßen', 1), ('ertrinke', 2), ('ertrinken', 2), ('legastheniker', 1), ('legasthenikerin', 1), ('achtzehn', 4), ('erwartet', 19), ('kämpfe', 2), ('friere', 2), ('dankbar', 8), ('hausarrest', 1), ('obdachlos', 6), ('kater', 4), ('verkatert', 2), ('perth', 1), ('einem', 65), ('stau', 2), ('unschuldig', 15), ('engel', 10), ('aufständischer', 1), ('aufständische', 1), ('heilige', 2), ('heiliger', 7), ('unverletzt', 5), ('beleidigt', 16), ('schwanger', 7), ('zuverlässig', 7), ('ruhelos', 1), ('erbarmen', 3), ('schieße', 5), ('schlafe', 14), ('untröstlich', 3), ('verhungern', 11), ('stärker', 5), ('stur', 6), ('studiere', 16), ('beste', 17), ('gründlich', 11), ('kitzlig', 1), ('völlig', 34), ('erschöpft', 15), ('nachgeschaut', 1), ('spinne', 4), ('eisen', 2), ('hirsch', 1), ('wolf', 2), ('krebs', 13), ('salz', 10), ('meines', 5), ('begonnen', 7), ('angefangen', 20), ('erschreckte', 2), ('gedauert', 4), ('schwarz', 25), ('leer', 31), ('fluch', 3), ('frucht', 4), ('pflanze', 3), ('schnäppchen', 1), ('fürs', 11), ('skurril', 2), ('hagelt', 1), ('gerücht', 10), ('unmoralisch', 5), ('morgen', 94), ('pfeife', 3), ('scherz', 19), ('unser', 76), ('niedrig', 3), ('rauskommst', 1), ('konzentrier', 1), ('renn', 2), ('singt', 38), ('red', 3), ('zuerst', 25), ('voran', 7), ('lerne', 16), ('französisch', 137), ('lernt', 22), ('überlass', 8), ('erledigen', 14), ('träumen', 13), ('nachdenken', 11), ('zeig’s', 1), ('zeigen', 30), ('zeigt’s', 1), ('rate', 12), ('ratet', 4), ('raten', 6), ('aufhört', 4), ('mary', 125), ('schwer', 71), ('unterbrechen', 5), ('dazwischengehen', 1), ('schweine', 4), ('ohren', 13), ('füße', 29), ('taten', 3), ('hüfte', 1), ('kiefer', 3), ('scherte', 1), ('darum', 33), ('niemanden', 28), ('interessiert’s', 5), ('interessiert', 16), ('unsere', 77), ('blicke', 3), ('trafen', 9), ('heb', 2), ('hebt', 4), ('heben', 6), ('beeilt', 8), ('enspannt', 1), ('enspann', 1), ('stelle', 24), ('dahin', 14), ('stellen', 14), ('schäm', 2), ('fuchs', 4), ('fassung', 1), ('irrt', 8), ('kennt', 67), ('erschoss', 2), ('kreischte', 2), ('verklagt', 4), ('hammer', 7), ('sollen', 41), ('lieber', 27), ('zeig', 39), ('weilchen', 2), ('filmen', 2), ('glotzen', 2), ('summen', 5), ('meckern', 2), ('träum', 1), ('süße', 6), ('träume', 13), ('pause', 33), ('kommando', 3), ('kontrolle', 4), ('nimms', 1), ('leicht', 61), ('mantel', 25), ('genug', 49), ('müll', 4), ('heißen', 5), ('jubelten', 1), ('entkamen', 2), ('gaben', 7), ('hassen', 19), ('kannten', 12), ('weigerten', 2), ('entspannten', 1), ('erholten', 1), ('sagten', 7), ('hielten', 4), ('hörten', 10), ('schwitzten', 1), ('merken', 4), ('mitkriegen', 1), ('niedergeschlagen', 14), ('gefälscht', 2), ('verschwunden', 10), ('gehören', 34), ('dinge', 16), ('nahrung', 5), ('gold', 9), ('ihrer', 22), ('ihre', 190), ('unseres', 2), ('ekelhaft', 6), ('grauslich', 1), ('klappen', 1), ('antwortete', 16), ('billigt', 1), ('eingebrochen', 1), ('brach', 23), ('baute', 3), ('gluckste', 1), ('schrieb', 23), ('anwerben', 1), ('zusammen', 67), ('hinterher', 11), ('verirrte', 1), ('erschossen', 16), ('schnitt', 3), ('grimassen', 3), ('grimassierte', 1), ('verzog', 3), ('murrte', 1), ('maulte', 1), ('motzte', 1), ('schimpfte', 2), ('akne', 1), ('hasste', 13), ('beharrte', 1), ('bestand', 3), ('darauf', 28), ('spion', 6), ('veteran', 2), ('brutal', 1), ('gebrechlich', 2), ('beglückt', 1), ('treu', 3), ('unordentlich', 5), ('launisch', 8), ('ex', 2), ('fettleibig', 1), ('gruselig', 5), ('pfiffig', 2), ('klein', 41), ('albern', 5), ('stoisch', 2), ('reizend', 21), ('vage', 3), ('weißer', 1), ('gewitzt', 4), ('möge', 6), ('meinte', 12), ('widersprach', 3), ('erhob', 4), ('einspruch', 1), ('ausgebrochen', 4), ('geraten', 9), ('versprach', 1), ('thomas', 4), ('eingelenkt', 1), ('nachgegeben', 1), ('zitterte', 3), ('zuckte', 3), ('achseln', 1), ('geblinzelt', 1), ('stottert', 2), ('erzählte', 5), ('verschwand', 5), ('wäre', 112), ('letzter', 4), ('verspätete', 5), ('pfiff', 4), ('erstaunt', 8), ('verblüfft', 15), ('heult', 2), ('schmutzig', 37), ('schuldig', 37), ('wahnsinnig', 12), ('erledigt', 9), ('niemandem', 18), ('traue', 3), ('keinem', 2), ('unglaublich', 24), ('glauben', 48), ('nutze', 5), ('benutzt', 21), ('gebrauch', 3), ('allen', 27), ('abwarten', 1), ('weck', 6), ('unheimlich', 7), ('gestanden', 5), ('araber', 1), ('verstehen', 39), ('bereiteten', 1), ('katze', 92), ('aßen', 3), ('mittag', 32), ('wussten', 24), ('mochten', 5), ('schauten', 5), ('blickten', 3), ('miteinander', 14), ('regen', 13), ('verpennt', 1), ('saßen', 8), ('sollten', 60), ('erfolgreich', 11), ('trauen', 5), ('greifen', 1), ('angreifen', 2), ('ausgehen', 8), ('fürchten', 6), ('vorurteile', 3), ('geschlossen', 18), ('verstecken', 15), ('scherzen', 7), ('worden', 63), ('wurdest', 7), ('wurdet', 4), ('wurden', 31), ('niete', 3), ('null', 1), ('schande', 1), ('frau', 93), ('denn', 47), ('fernsehen', 21), ('erbaut', 8), ('soll', 63), ('fängt', 10), ('scherzt', 7), ('aufgeben', 14), ('dankst', 1), ('ausreichend', 4), ('daumen', 3), ('vergingen', 3), ('amüsierst', 3), ('amüsieren', 4), ('gehst', 37), ('mitkommen', 8), ('ausruhen', 25), ('weißt', 62), ('siehst', 95), ('erhitzt', 1), ('darfst', 28), ('müsst', 37), ('beängstigst', 2), ('beängstigen', 1), ('machst', 28), ('bleibst', 1), ('wirst', 108), ('stirbst', 3), ('liegst', 1), ('liegen', 6), ('entlassen', 28), ('eklig', 1), ('lügst', 15), ('scharfsinnig', 2), ('durchtrieben', 1), ('clever', 6), ('dämlich', 4), ('drückst', 1), ('gewachsen', 7), ('angefahren', 6), ('hinzu', 4), ('irgendwelche', 5), ('neuen', 26), ('sonst', 50), ('fan', 3), ('langweilst', 2), ('langweilt', 4), ('langweilen', 5), ('fachmann', 7), ('backen', 7), ('artig', 2), ('besonders', 13), ('untergliedere', 1), ('abreißen', 2), ('detailliere', 1), ('buchstabier', 1), ('schlüssel', 91), ('sicherheitsdienst', 7), ('mitmachen', 6), ('schlittschuh', 5), ('skaten', 2), ('reinigen', 2), ('tanz', 7), ('ertrunken', 7), ('geworden', 56), ('bewusstsein', 10), ('weggegangen', 4), ('geantwortet', 16), ('fische', 17), ('ran', 5), ('fix', 6), ('kapierst', 1), ('verstehst', 16), ('passt', 23), ('werd', 6), ('töte', 3), ('töten', 14), ('hinauf', 10), ('beachtet', 2), ('schubs', 1), ('schubst', 1), ('reagier', 1), ('hetz', 1), ('zeichne', 6), ('kreis', 2), ('spül', 1), ('herunter', 16), ('erbsen', 1), ('sogar', 10), ('sangen', 10), ('ausatmen', 1), ('füttere', 3), ('vogel', 15), ('füttert', 1), ('blumen', 17), ('blühen', 1), ('spiegelei', 1), ('zahn', 12), ('wenig', 33), ('ruhen', 3), ('tag', 125), ('paar', 22), ('sekunde', 9), ('hinunter', 12), ('verzisch', 1), ('segne', 1), ('augenblickchen', 1), ('schinken', 2), ('berät', 1), ('baut', 4), ('führt', 11), ('netztagebuch', 2), ('erkältet', 14), ('hosenträger', 2), ('zahnspange', 1), ('ignorierte', 5), ('engländer', 3), ('typ', 22), ('liest', 31), ('rollschuh', 3), ('skateboard', 2), ('skatet', 1), ('kuss', 11), ('küsste', 11), ('geküsst', 36), ('menge', 25), ('vorzeitig', 1), ('angelogen', 27), ('belogen', 5), ('gefiel', 10), ('blass', 12), ('fortgeschickt', 1), ('verkauft', 28), ('autos', 9), ('geschossen', 12), ('riecht', 21), ('hereingelegt', 3), ('bemüht', 2), ('gesteinigt', 1), ('erblindet', 2), ('erblindete', 4), ('österreicher', 1), ('miesepeter', 2), ('nörgler', 1), ('meckerfritze', 1), ('jesuit', 1), ('lästig', 3), ('autist', 1), ('tokyo', 3), ('studiert', 28), ('bedien', 1), ('bedienen', 3), ('oder', 55), ('hieressen', 4), ('1000', 5), ('seine', 150), ('nase', 28), ('blutete', 2), ('seil', 16), ('verspätet', 6), ('bewunderte', 4), ('amerikanerin', 2), ('japaner', 14), ('japanerin', 5), ('moslem', 3), ('huste', 2), ('paris', 12), ('niese', 2), ('glaube', 116), ('spüren', 1), ('bekomme', 16), ('weitermachen', 10), ('zusehen', 5), ('herbeigeführt', 1), ('beigetragen', 1), ('heute', 263), ('verachte', 1), ('hingesehen', 1), ('schach', 12), ('übertrieben', 4), ('gefüttert', 8), ('spüre', 2), ('flau', 1), ('eingeschlafen', 17), ('schlechtes', 11), ('gewissen', 4), ('verziehen', 14), ('ausgeflippt', 1), ('ausgerastet', 1), ('umsonst', 3), ('geheiratet', 24), ('grippe', 4), ('ahnung', 9), ('musste', 29), ('boston', 135), ('sellerie', 1), ('kaffee', 76), ('ausstehen', 10), ('winter', 9), ('boot', 17), ('schnupfen', 1), ('leide', 4), ('erkältung', 28), ('verabredung', 2), ('ring', 11), ('visum', 3), ('befehle', 10), ('gesündigt', 1), ('aufgestanden', 21), ('scherze', 7), ('meinem', 70), ('beruf', 2), ('menschen', 25), ('manches', 2), ('französische', 2), ('uhren', 2), ('knoblauch', 2), ('pferde', 17), ('filme', 9), ('zwiebeln', 4), ('reggae', 2), ('lachs', 4), ('löffel', 7), ('sport', 13), ('süßes', 6), ('tennis', 26), ('laufe', 7), ('züge', 3), ('tulpen', 2), ('herbst', 3), ('kamele', 1), ('spielfilme', 1), ('sohn', 60), ('natur', 5), ('pandas', 4), ('veranlasst', 3), ('faust', 4), ('gekocht', 5), ('aufgegossen', 1), ('abendessen', 39), ('zubereitet', 3), ('gebracht', 41), ('abendbrot', 8), ('heiratete', 9), ('rausgehen', 3), ('weigern', 1), ('wehren', 2), ('ankämpfen', 1), ('beinahe', 14), ('crew', 1), ('kredit', 2), ('plan', 64), ('briefmarken', 8), ('brauchte', 22), ('pferd', 38), ('geige', 5), ('violine', 3), ('zurückgetan', 1), ('gelesen', 24), ('rettete', 7), ('respektiere', 2), ('bedankte', 1), ('maus', 11), ('flugzeug', 10), ('jemanden', 19), ('krone', 1), ('haus', 135), ('kanns', 3), ('spaziergang', 5), ('vertraute', 8), ('twitter', 2), ('besucht', 9), ('freiwillig', 14), ('gemeldet', 7), ('meldete', 7), ('pferdchen', 1), ('pony', 2), ('schwimmbecken', 2), ('zumute', 14), ('wollte', 121), ('schämte', 5), ('geschämt', 1), ('gehänselt', 2), ('zugesehen', 2), ('wandern', 4), ('hinein', 17), ('zuhören', 9), ('weckte', 6), ('nachts', 7), ('gedichte', 6), ('lieder', 4), ('gefiele', 6), ('erlaube', 4), ('zulassen', 5), ('umbringen', 10), ('fehlen', 23), ('ausrufen', 1), ('beweisen', 11), ('zeige', 13), ('verhindern', 4), ('übernehme', 3), ('sags', 4), ('ansehen', 8), ('krüppel', 1), ('zahnarzt', 2), ('zahnärztin', 1), ('feuerwehrmann', 3), ('maler', 4), ('patientin', 1), ('patient', 3), ('rotschopf', 2), ('soldat', 6), ('soldatin', 1), ('student', 25), ('schüler', 17), ('schülerin', 2), ('studentin', 4), ('tatverdächtiger', 6), ('lehrer', 49), ('lehrerin', 7), ('tourist', 7), ('süchtiger', 1), ('künstler', 19), ('waisenkind', 4), ('überzeugt', 14), ('gefährlich', 19), ('depressiv', 2), ('anders', 33), ('hoffnung', 38), ('geschmeichelt', 3), ('ungeduldig', 13), ('beeindruckt', 20), ('gang', 3), ('gefahr', 30), ('wahrhaben', 2), ('motiviert', 5), ('fach', 14), ('übergewichtig', 12), ('unterwegs', 13), ('drüben', 34), ('zufrieden', 41), ('skeptisch', 5), ('überrascht', 28), ('versichert', 8), ('unversichert', 3), ('überaus', 9), ('chef', 26), ('zurückgekommen', 13), ('gewesen', 22), ('nähe', 35), ('lama', 2), ('beschädigt', 9), ('ernstes', 4), ('fledermaus', 1), ('perücke', 6), ('blut', 13), ('rechtens', 2), ('eben', 10), ('auseinander', 1), ('tatsächlich', 5), ('schlimmer', 13), ('üblen', 2), ('geruch', 5), ('geschenk', 22), ('falle', 13), ('frostig', 1), ('eilte', 9), ('schaden', 8), ('wehtun', 2), ('14', 1), ('abends', 2), ('samstag', 6), ('pilz', 1), ('erleichterung', 3), ('geheimnis', 39), ('trifft', 6), ('gelaufen', 5), ('ofen', 2), ('ehre', 3), ('befehl', 6), ('nervt', 6), ('geschäft', 16), ('wunderschön', 3), ('hoffnungslos', 3), ('verbessert', 7), ('unmenschlich', 1), ('mitternacht', 7), ('diesmal', 8), ('zahle', 6), ('veraltet', 1), ('besetzt', 7), ('bullen', 4), ('schwierig', 20), ('schiech', 1), ('unwahrscheinlich', 9), ('entsperrt', 1), ('freigeschaltet', 1), ('hängt', 10), ('befindet', 16), ('eigenartig', 4), ('minute', 11), ('kontrollier', 3), ('kontrolliers', 1), ('kontrollieren', 7), ('kontrolliert', 4), ('kontrollierts', 1), ('verzieht', 1), ('zieht', 19), ('verschwinden', 5), ('verschwindet', 4), ('beschäftige', 1), ('trab', 1), ('klettere', 1), ('klettern', 4), ('klettert', 2), ('kontakt', 5), ('fasse', 1), ('paddel', 1), ('paddeln', 1), ('eintreten', 4), ('fortgehen', 3), ('zurückgehen', 7), ('belassen', 1), ('fortfahren', 4), ('tür', 139), ('tresor', 4), ('sterblich', 2), ('heißer', 6), ('feger', 2), ('reinkommen', 11), ('auswendig', 3), ('meiner', 31), ('rückenschmerzen', 6), ('rücken', 12), ('gefressen', 3), ('feuchtes', 2), ('haar', 41), ('kopfweh', 10), ('kopfschmerzen', 15), ('knie', 9), ('heiße', 12), ('nacken', 3), ('nackenschmerzen', 1), ('füller', 9), ('zog', 30), ('oh', 3), ('öffnen', 34), ('öffne', 19), ('tor', 9), ('öffnet', 10), ('mannschaft', 14), ('eulen', 5), ('niedlich', 5), ('verändern', 5), ('beliebige', 1), ('spiel', 35), ('bademantel', 1), ('schinden', 1), ('lest', 4), ('frieden', 13), ('würfel', 3), ('würfle', 2), ('würfele', 2), ('würfeln', 2), ('ende', 27), ('wiederschauen', 1), ('bückte', 1), ('abserviert', 2), ('verabscheute', 1), ('konnte', 75), ('aktiv', 10), ('falsche', 1), ('hoffnungen', 1), ('vorgemacht', 1), ('hörig', 1), ('schnelle', 2), ('läuferin', 2), ('fuchsteufelswild', 3), ('wut', 1), ('blauäugig', 1), ('türe', 7), ('einige', 13), ('deutlich', 3), ('rührt', 3), ('lasse', 10), ('zuversichtlich', 4), ('zusammenbleiben', 1), ('rühr', 5), ('suppe', 17), ('anzugeben', 3), ('misch', 3), ('dieses', 218), ('richte', 2), ('willst', 118), ('feg', 1), ('zimmer', 129), ('ziehe', 17), ('duschen', 3), ('abführen', 1), ('geschmäcker', 1), ('verschieden', 3), ('unsres', 1), ('unsrer', 1), ('unsre', 1), ('saturn', 1), ('kopie', 4), ('puppe', 11), ('tatsache', 4), ('faktum', 1), ('mythos', 1), ('risiko', 12), ('zeichen', 7), ('baum', 13), ('machbar', 2), ('reicht', 22), ('aufgabe', 12), ('glocke', 4), ('läutete', 2), ('tasse', 18), ('zerbrach', 2), ('gewannen', 2), ('siegten', 1), ('gesiegt', 1), ('besteht', 6), ('kündigten', 1), ('liebten', 3), ('verschwanden', 2), ('gutgehen', 4), ('asiaten', 2), ('zornig', 2), ('braun', 8), ('dummköpfe', 1), ('spione', 1), ('irren', 9), ('ändern', 36), ('nun', 24), ('japan', 9), ('dvd', 2), ('landkarte', 5), ('wortspiel', 1), ('wahnsinn', 4), ('dieser', 150), ('betet', 5), ('himmelt', 1), ('rannten', 9), ('applaudierte', 1), ('spendete', 1), ('beifall', 4), ('geklatscht', 1), ('applaudiert', 1), ('gespendet', 3), ('gebeichtet', 3), ('gestand', 2), ('beichtete', 2), ('ertüchtigte', 1), ('ertüchtigt', 1), ('hochschule', 1), ('abschluss', 4), ('weggehen', 10), ('pläne', 12), ('geknuddelt', 1), ('baby', 20), ('narr', 6), ('sportler', 3), ('poet', 4), ('chaot', 1), ('zeitarbeiter', 1), ('weichei', 1), ('ausland', 18), ('parteiisch', 1), ('pummel', 1), ('gerissen', 1), ('döst', 1), ('schlummert', 1), ('familie', 75), ('sparsam', 5), ('versteckt', 17), ('ehrlich', 29), ('witzelt', 1), ('verliert', 9), ('liebevoll', 1), ('papa', 6), ('vati', 2), ('normal', 30), ('mager', 15), ('raffiniert', 3), ('unfreundlich', 7), ('verrucht', 2), ('gesellte', 1), ('verließ', 11), ('nötig', 14), ('öffnete', 31), ('protestierte', 1), ('schubste', 1), ('aufgezogen', 1), ('erinnert', 12), ('stürmte', 3), ('saß', 37), ('reingelegt', 6), ('wankte', 2), ('erfolg', 22), ('zeigte', 9), ('gezeigt', 6), ('angeschrieben', 2), ('davor', 3), ('gewarnt', 27), ('achtzig', 1), ('aufdringlich', 1), ('wortkarg', 1), ('beängstigend', 2), ('beschwipst', 6), ('angetrunken', 3), ('drehte', 15), ('erblasste', 2), ('gen', 1), ('westen', 3), ('flüsterte', 1), ('durchfallen', 1), ('zoomte', 2), ('umziehen', 12), ('adoptiert', 8), ('erstaunlich', 3), ('genervt', 4), ('verunsichert', 3), ('erstickt', 2), ('würgen', 1), ('verlobt', 11), ('hinkt', 6), ('humpelt', 3), ('packt', 4), ('ruht', 4), ('gewalttätig', 7), ('verwundet', 6), ('ihren', 52), ('füßen', 1), ('sechs', 26), ('geschnarcht', 2), ('rückendeckung', 1), ('bohnere', 1), ('fußboden', 5), ('bewundern', 4), ('erwischt', 9), ('habens', 1), ('ausgeraubt', 12), ('regeln', 25), ('halfen', 5), ('prima', 4), ('konzentrieren', 8), ('papier', 15), ('werkzeug', 2), ('wieso', 29), ('bitten', 15), ('verspäten', 6), ('einziehen', 3), ('überleben', 11), ('werdens', 1), ('schämen', 1), ('cousins', 13), ('ärzte', 8), ('feinde', 13), ('fasten', 2), ('freunde', 70), ('freundinnen', 3), ('befreundet', 7), ('rechtsanwälte', 1), ('eltern', 29), ('schockiert', 9), ('sinken', 2), ('stocken', 1), ('gewinner', 3), ('angekommen', 34), ('warst', 43), ('angeschossen', 9), ('zirkus', 1), ('passierte', 6), ('zugetragen', 4), ('wahrheit', 42), ('übriggeblieben', 1), ('übrig', 6), ('wann', 175), ('welches', 19), ('angestellt', 2), ('fastet', 4), ('summt', 5), ('gewinnt', 15), ('wem', 54), ('zuschieben', 1), ('hilfst', 4), ('schreib’s', 1), ('irrst', 3), ('aussichtslos', 1), ('post', 6), ('schaust', 5), ('wirkst', 4), ('hineingehen', 10), ('fragst', 8), ('verdorben', 4), ('scheinst', 9), ('scheinen', 11), ('solltest', 36), ('solltet', 14), ('riechst', 4), ('scheitern', 2), ('würdest', 35), ('befangen', 1), ('beliebst', 2), ('belieben', 2), ('verlierst', 4), ('bezahlst', 1), ('höflich', 23), ('hübsch', 12), ('verschwitzt', 1), ('unfair', 7), ('niederträchtig', 1), ('cola', 1), ('benimm', 4), ('kleinen', 4), ('gestatten', 1), ('geeignet', 3), ('schläfst', 5), ('junggeselle', 3), ('doof', 6), ('beiden', 15), ('vögeln', 1), ('boote', 1), ('untergehen', 3), ('bereiten', 2), ('behilflich', 9), ('gesellen', 1), ('anfassen', 7), ('benutzen', 30), ('ball', 28), ('reinige', 2), ('käfig', 5), ('kühe', 7), ('fressen', 17), ('gras', 4), ('schneide', 9), ('zwei', 76), ('hälften', 3), ('schneiden', 9), ('mitten', 1), ('halbiere', 1), ('entzwei', 1), ('motor', 7), ('tod', 20), ('abgeschnitten', 5), ('sagtest', 4), ('sagtet', 1), ('hältst', 8), ('erledige', 2), ('eure', 87), ('selber', 8), ('schnurren', 3), ('tiger', 11), ('leugnest', 1), ('leugnen', 10), ('yoga', 8), ('betreibst', 1), ('betreibt', 5), ('betreiben', 1), ('du’s', 11), ('ihr’s', 3), ('hörst', 17), ('magst', 81), ('liebst', 21), ('vermisst', 37), ('recyceln', 1), ('recycelst', 1), ('recycelt', 1), ('ärgere', 3), ('ärgern', 1), ('kauf', 7), ('beschwer', 1), ('kümmer', 1), ('gehorch', 2), ('versuchung', 4), ('führen', 7), ('fern', 34), ('deinen', 92), ('salat', 6), ('genießen', 4), ('vorführung', 3), ('genieße', 5), ('wünsche', 26), ('jeder', 83), ('bezahlten', 1), ('angeln', 16), ('bildet', 1), ('reihen', 2), ('bilden', 2), ('steig', 3), ('handtuch', 12), ('steige', 4), ('steigen', 9), ('steigt', 5), ('federn', 1), ('entledige', 1), ('entledigen', 3), ('leih', 2), ('helfende', 1), ('küss', 3), ('mitfahren', 4), ('park', 19), ('golf', 22), ('frohes', 1), ('jahr', 18), ('glückliches', 2), ('herzlichen', 3), ('glückwunsch', 5), ('geburtstag', 14), ('feiertage', 1), ('beschleunigt', 2), ('gebeten', 16), ('zählen', 22), ('kandidiert', 1), ('drachen', 5), ('söhne', 13), ('trägt', 40), ('bart', 11), ('fürchtet', 6), ('amerikaner', 5), ('schriftsteller', 8), ('schauspieler', 8), ('zierlich', 1), ('onkel', 12), ('aufgeschlossen', 7), ('mächtig', 4), ('hält', 14), ('rasch', 5), ('respektiert', 3), ('lied', 28), ('verraten', 25), ('redet', 26), ('gelähmt', 3), ('großer', 34), ('bisschen', 67), ('fleischhauer', 1), ('fanatiker', 2), ('spieler', 5), ('samurai', 1), ('faulpelz', 4), ('jasager', 2), ('tier', 8), ('autor', 1), ('exknacki', 1), ('gesetzloser', 2), ('pantoffelheld', 1), ('schlichtweg', 1), ('beim', 52), ('versteck', 1), ('bremse', 4), ('eindruck', 12), ('welche', 44), ('höhe', 2), ('kostet', 16), ('vergeht', 4), ('deinem', 24), ('eurem', 6), ('ihrem', 13), ('leute', 46), ('geschenke', 6), ('entgegen', 2), ('geheult', 1), ('bereits', 28), ('bekannt', 16), ('ungar', 1), ('ungarin', 1), ('schüchterner', 4), ('london', 5), ('befinde', 3), ('teilchen', 1), ('banane', 6), ('apfel', 36), ('fing', 62), ('geglaubt', 23), ('glaubte', 12), ('verriet', 6), ('fahrrad', 69), ('rad', 13), ('verantwortlich', 10), ('leihe', 1), ('kaufte', 26), ('bein', 16), ('gebrochen', 29), ('wegen', 15), ('statt', 3), ('deinetwegen', 2), ('verwendung', 2), ('gebrauchen', 9), ('zähle', 12), ('verachtet', 3), ('gefahren', 20), ('durchgefallen', 6), ('treibe', 3), ('glücksspiel', 4), ('kapier', 1), ('getrunken', 26), ('tomaten', 4), ('übers', 6), ('seekrank', 1), ('folgte', 7), ('gefolgt', 14), ('wort', 51), ('frühaufsteher', 6), ('kirche', 9), ('mitgebracht', 53), ('garantiere', 1), ('schlaganfall', 4), ('trug', 26), ('nietenhose', 6), ('zustimmen', 19), ('herbeigewinkt', 1), ('herbeigewunken', 1), ('montage', 1), ('absolut', 2), ('bügeln', 1), ('karaoke', 2), ('juristen', 2), ('partys', 3), ('rätsel', 7), ('spinnen', 14), ('spinat', 6), ('dreizehn', 6), ('traum', 25), ('fieber', 14), ('radio', 12), ('tisch', 31), ('pickup', 4), ('laster', 2), ('lastwagen', 8), ('lkw', 6), ('camion', 1), ('gedächtnis', 12), ('gedächtnisverlust', 1), ('idee', 74), ('ehefrau', 3), ('schwestern', 13), ('tagebuch', 13), ('gehalten', 12), ('enttäuscht', 32), ('englisch', 38), ('schlösser', 1), ('kekse', 16), ('angle', 1), ('ketchup', 3), ('mahjong', 1), ('mahjongg', 1), ('herz', 33), ('nudeln', 3), ('austern', 2), ('saschimi', 1), ('meeresfrüchte', 3), ('geschichten', 4), ('unterhalte', 1), ('sonne', 16), ('angel', 1), ('jagen', 4), ('schildkröten', 3), ('harvard', 4), ('mandeln', 1), ('tiere', 8), ('bananen', 17), ('karotten', 9), ('nachtisch', 8), ('lasagne', 1), ('ipod', 2), ('puzzles', 2), ('sonnenuntergänge', 2), ('meer', 6), ('gebacken', 13), ('brachte', 26), ('universität', 4), ('ablehnen', 7), ('besen', 3), ('hobby', 11), ('zigarette', 3), ('briefmarke', 4), ('privatsphäre', 5), ('unterstützung', 5), ('operiert', 3), ('schluckauf', 2), ('hickse', 1), ('reise', 27), ('schulde', 27), ('100', 3), ('besitze', 3), ('bar', 7), ('steuern', 5), ('bekenne', 1), ('züchte', 1), ('vieh', 1), ('rauskommt', 1), ('verabschiedete', 4), ('mund', 24), ('„nimm“', 1), ('5', 4), ('köchin', 3), ('nachrichten', 13), ('diene', 1), ('koreanisch', 2), ('französischunterricht', 2), ('unterrichte', 5), ('denke', 97), ('nannte', 4), ('gepäck', 8), ('bog', 3), ('normalerweise', 6), ('stuhl', 14), ('glas', 16), ('hundewelpen', 1), ('gehaltserhöhung', 7), ('gerechtigkeit', 4), ('popcorn', 6), ('rache', 10), ('ventilator', 4), ('spielen', 71), ('kündigen', 8), ('heimweh', 16), ('urlaub', 14), ('vergiftet', 11), ('gefoltert', 3), ('angeheuert', 1), ('brillenträger', 3), ('trage', 8), ('brille', 35), ('anzeigen', 1), ('wiederkommen', 6), ('mitbringen', 3), ('tragen', 12), ('runterkommen', 1), ('rüber', 5), ('hinfahren', 1), ('schimpfen', 1), ('erschießen', 2), ('danken', 18), ('einladen', 5), ('versuche', 19), ('anstrengen', 2), ('tante', 5), ('anfängerin', 1), ('anfänger', 3), ('botaniker', 1), ('botanikerin', 1), ('diabetikerin', 1), ('freier', 5), ('musiker', 6), ('musikerin', 1), ('netter', 8), ('pazifist', 1), ('pazifistin', 1), ('strafgefangener', 2), ('strafgefangene', 1), ('gefangener', 6), ('gefangene', 8), ('reicher', 5), ('verkäufer', 4), ('handelsvertreter', 1), ('vertreter', 1), ('stuntman', 1), ('teenager', 2), ('schwächling', 2), ('leider', 1), ('atheist', 4), ('offizier', 2), ('polizist', 13), ('ausgenutzt', 1), ('langweile', 9), ('todmüde', 1), ('zerstört', 13), ('weitsichtig', 1), ('fasziniert', 7), ('amüsiere', 1), ('analphabet', 3), ('analphabetin', 2), ('eilig', 13), ('schwierigkeiten', 22), ('bereite', 1), ('meditiere', 2), ('aufgibt', 1), ('dummkopf', 7), ('ferien', 6), ('optimistisch', 6), ('optimist', 6), ('übergewicht', 2), ('überarbeitet', 6), ('ziemlich', 93), ('aufgeregt', 23), ('älteste', 4), ('30', 10), ('arbeitslos', 7), ('untalentiert', 4), ('talent', 8), ('aufgebracht', 10), ('eintopf', 2), ('ausgezogen', 8), ('ruhestand', 10), ('lächelt', 8), ('möchten', 20), ('wert', 23), ('bär', 2), ('wink', 1), ('becher', 2), ('gebühr', 1), ('sinn', 14), ('klingt', 36), ('lecker', 8), ('absicht', 10), ('verkauf', 5), ('schneite', 2), ('unserer', 8), ('bestens', 1), ('weihnachten', 12), ('mittwoch', 1), ('abgemacht', 1), ('klassiker', 1), ('neuer', 7), ('versprechen', 23), ('bewundernswert', 1), ('überfall', 1), ('hinterhalt', 1), ('beleidigung', 1), ('übersteigt', 2), ('horizont', 2), ('brandneu', 1), ('nagelneu', 2), ('köstlich', 13), ('inkorrekt', 1), ('3', 2), ('sinnlos', 3), ('überflüssig', 1), ('hauptverkehrszeit', 1), ('hauptgeschäftszeit', 1), ('stoßzeit', 1), ('riskant', 3), ('entscheidung', 39), ('geschieht', 7), ('wohnung', 8), ('zug', 40), ('entschuldige', 15), ('entschuldigt', 9), ('laufenden', 6), ('überlasse', 8), ('überlasst', 4), ('überlassen', 5), ('knaben', 1), ('üben', 6), ('viele', 63), ('starben', 4), ('blond', 6), ('ob', 9), ('vorangehen', 1), ('anschließen', 6), ('dazusetzen', 1), ('hinsetzen', 7), ('habgierig', 1), ('doofköpfe', 1), ('schlicht', 2), ('brust', 3), ('schreibtisch', 22), ('gelenke', 1), ('»tom«', 1), ('name', 26), ('platten', 7), ('handgelenk', 1), ('brüllte', 2), ('kenntnis', 2), ('gesetzt', 6), ('wirds', 6), ('erfahren', 16), ('begreifst', 1), ('begreift', 1), ('begreifen', 1), ('schmoll', 1), ('türen', 13), ('zeug', 7), ('melodie', 2), ('entferne', 1), ('weitergehen', 2), ('unterlassen', 2), ('preise', 11), ('gestiegen', 6), ('heran', 4), ('platz', 47), ('wissenschaft', 2), ('robben', 2), ('ernähren', 2), ('bestellen', 5), ('hinreißend', 4), ('schwärmt', 1), ('verehrt', 2), ('erwürgt', 3), ('genarrt', 1), ('krankenpflegerin', 2), ('unbeholfen', 2), ('wild', 4), ('spielt', 47), ('bach', 1), ('ärgerte', 3), ('tippt', 1), ('schädlich', 2), ('tratschen', 5), ('murren', 1), ('schnüffeln', 1), ('pfeifen', 9), ('sommer', 19), ('vorüber', 5), ('foto', 14), ('rat', 24), ('erzähle', 7), ('sprache', 6), ('erfordert', 5), ('ideal', 2), ('zauberhaft', 1), ('wären', 5), ('verbrechen', 8), ('selbstverständlichkeit', 2), ('schädel', 2), ('turm', 2), ('huhn', 7), ('korrekt', 6), ('offensichtlich', 14), ('quatsch', 11), ('illegal', 6), ('logisch', 4), ('satz', 3), ('plastik', 2), ('unverschämt', 4), ('lautet', 18), ('typisch', 1), ('bellte', 1), ('preis', 22), ('stieg', 20), ('dach', 6), ('leckt', 4), ('abgefahren', 7), ('haken', 3), ('applaudierten', 3), ('spendeten', 2), ('kauften', 2), ('hassten', 3), ('konnten', 8), ('gestritten', 2), ('ruinierten', 1), ('riechen', 6), ('erreicht', 7), ('tüchtig', 2), ('defekt', 3), ('idioten', 7), ('trost', 1), ('überleg', 4), ('denkt', 13), ('denken', 20), ('überlegen', 4), ('überlegt', 6), ('positiv', 4), ('ärgert', 2), ('beißt', 7), ('bissiger', 1), ('löwe', 7), ('test', 8), ('haarsträubend', 1), ('aufzustehen', 4), ('zukunft', 4), ('wird’s', 1), ('näherte', 3), ('wich', 5), ('zusammengeschlagen', 1), ('radelte', 1), ('braut', 2), ('zusammengebrochen', 2), ('notruf', 2), ('beklagt', 2), ('beklagte', 1), ('beschwert', 7), ('unterbrochen', 1), ('112', 1), ('65', 2), ('zeichnet', 1), ('grub', 3), ('loch', 12), ('gegraben', 1), ('mühelos', 1), ('fühlt', 15), ('benommen', 10), ('anruf', 5), ('geschnappt', 7), ('dicker', 1), ('gehackt', 1), ('getötet', 19), ('überfallen', 5), ('züchtete', 1), ('rosen', 7), ('ford', 4), ('dr', 1), ('phil', 1), ('asthma', 1), ('skorbut', 1), ('ratten', 3), ('reh', 1), ('beachtete', 1), ('schritt', 5), ('eingeschritten', 2), ('radfahrer', 1), ('motorradfahrer', 1), ('trinker', 2), ('zwerg', 1), ('wächter', 1), ('wachmann', 2), ('linkshänder', 4), ('verlierer', 4), ('bergmann', 3), ('minenarbeiter', 1), ('minderjährig', 5), ('pilot', 3), ('rabbi', 1), ('amüsant', 5), ('schämt', 2), ('durchschnittlich', 1), ('ungelenk', 1), ('gefühllos', 1), ('vielschichtig', 1), ('zynisch', 1), ('hinterhältig', 4), ('hingebungsvoll', 2), ('angezogen', 8), ('fragwürdig', 1), ('staubt', 1), ('fällt', 12), ('konzentriert', 4), ('verzweifelt', 10), ('durchgedreht', 3), ('schnappt', 1), ('griesgram', 1), ('hilfreich', 8), ('abscheulich', 1), ('geschichte', 53), ('intensiv', 2), ('sympathisch', 6), ('liebenswert', 3), ('geizig', 3), ('idol', 1), ('ungezogen', 2), ('neutral', 1), ('nickt', 1), ('obszön', 1), ('dienst', 7), ('keucht', 2), ('freut', 9), ('präzise', 1), ('übersinnlich', 1), ('radikal', 1), ('egoistisch', 5), ('zittert', 4), ('oberflächlich', 1), ('ähnlich', 6), ('sitzt', 10), ('klüger', 2), ('schluchzt', 1), ('besonderes', 3), ('verwöhnt', 3), ('vollgegessen', 1), ('taktvoll', 1), ('neckisch', 1), ('derjenige', 6), ('berührt', 2), ('unbeeindruckt', 4), ('unbewegt', 1), ('bösartig', 1), ('jammert', 1), ('willig', 1), ('gähnt', 1), ('unversehrt', 2), ('gepflegt', 4), ('gescheit', 3), ('wache', 7), ('nieder', 16), ('besten', 5), ('pistolen', 1), ('nüsse', 3), ('thunfisch', 3), ('wohnt', 47), ('bleich', 6), ('überblick', 1), ('lärm', 9), ('geführt', 6), ('weggezogen', 1), ('gebraucht', 10), ('besitzt', 13), ('bewusstlos', 9), ('gezwickt', 1), ('innen', 3), ('erinnerte', 2), ('umgeschrieben', 1), ('grüßen', 3), ('lässt', 27), ('schien', 67), ('scheint’s', 1), ('anscheinend', 1), ('netten', 1), ('zweimal', 15), ('sollte', 95), ('verschlief', 1), ('gestochen', 3), ('gestartet', 1), ('tatenlos', 1), ('hintergrund', 1), ('gestoppt', 2), ('zurückgehalten', 1), ('verpetzt', 7), ('notizen', 10), ('risiken', 4), ('hinters', 2), ('licht', 18), ('abwesend', 2), ('heulte', 3), ('flennte', 1), ('sanft', 4), ('mürrisch', 1), ('umgebracht', 21), ('zweiter', 5), ('nähen', 2), ('nähte', 1), ('skifahren', 5), ('spießer', 1), ('empfindlich', 3), ('beißen', 4), ('verhandeln', 3), ('eifrig', 5), ('verbessern', 3), ('blutet', 8), ('bezaubernd', 4), ('gelaunt', 6), ('furchtlos', 6), ('trauert', 2), ('grinsen', 2), ('harmlos', 4), ('lacht', 12), ('zögert', 5), ('mittellos', 3), ('boss', 3), ('labil', 2), ('bauchgefühl', 2), ('bauch', 9), ('süßigkeit', 1), ('soße', 3), ('charme', 1), ('wasche', 3), ('straße', 19), ('passen', 8), ('ewig', 8), ('zogen', 1), ('vermählt', 2), ('mordsspaß', 2), ('streit', 4), ('mussten', 6), ('bauernhof', 5), ('gäste', 3), ('schüsse', 6), ('helden', 1), ('brauchten', 4), ('respektieren', 4), ('kapitulierten', 1), ('ausgetrickst', 2), ('vertrauten', 3), ('meldeten', 1), ('schi', 2), ('sternhagelvoll', 1), ('hätten', 9), ('begraben', 5), ('herausbekommen', 20), ('anmalen', 1), ('aufhalten', 64), ('brüder', 20), ('entschlossen', 10), ('genies', 2), ('hilflos', 6), ('fürchterlich', 5), ('partner', 5), ('einflussreich', 3), ('studenten', 15), ('land', 23), ('gedanke', 4), ('welcher', 14), ('wofür', 15), ('passieren', 14), ('nützt', 3), ('geldautomaten', 2), ('trinkgeld', 6), ('weggenommen', 6), ('weggeräumt', 4), ('entfernt', 5), ('beseitigt', 4), ('verletzen', 6), ('beisammen', 2), ('werdet', 26), ('wisch', 1), ('wischen', 1), ('könntest', 19), ('führung', 4), ('könnten', 32), ('könntet', 10), ('widerst', 2), ('widern', 1), ('schmeichelst', 2), ('lernst', 8), ('verstört', 2), ('würden', 13), ('würdet', 8), ('schaffst', 3), ('feiges', 1), ('summst', 2), ('fit', 3), ('größte', 5), ('nichtsnutze', 1), ('gewinnst', 2), ('deines', 5), ('schlechter', 51), ('deiner', 33), ('eurer', 7), ('drei', 93), ('fünfzehn', 1), ('kenterte', 1), ('vorschläge', 1), ('getränke', 4), ('rote', 18), ('vorbereitet', 11), ('geist', 5), ('neidisch', 9), ('guckst', 2), ('rentner', 1), ('lächelst', 2), ('arbeitest', 22), ('stattdessen', 1), ('bälle', 1), ('rund', 2), ('bienen', 4), ('honig', 4), ('benehmt', 3), ('benehmen', 3), ('bürste', 3), ('ehemann', 7), ('leisten', 26), ('tüte', 4), ('anschaffen', 1), ('beteiligen', 1), ('danach', 9), ('aufmachen', 6), ('auslassen', 2), ('dus', 2), ('kartons', 2), ('klatsche', 2), ('räum', 8), ('klapp', 1), ('hol’s', 1), ('besuchen', 24), ('nachhause', 8), ('wenn', 57), ('grunde', 2), ('zählt', 6), ('krähen', 3), ('zugestimmt', 8), ('protestiert', 1), ('reagiert', 3), ('fallenlassen', 9), ('gemundet', 1), ('liebtest', 1), ('meintest', 1), ('meinten', 2), ('grabe', 2), ('tiefes', 1), ('krawatte', 16), ('rap', 1), ('erinnerst', 11), ('glaubst', 8), ('glaubt', 32), ('vertraust', 2), ('möchtest', 28), ('möchtet', 8), ('snob', 2), ('knausrig', 1), ('flipp', 1), ('betrink', 1), ('zuleide', 5), ('beleidigen', 1), ('beleidige', 2), ('unterbrich', 1), ('lüg', 4), ('daneben', 9), ('übertreib’s', 1), ('parken', 12), ('widersetze', 1), ('streu', 1), ('wunde', 5), ('erschieße', 1), ('necke', 1), ('vertrau', 3), ('schaf', 3), ('taschen', 9), ('sichs', 1), ('schöne', 21), ('träumt', 6), ('beteten', 1), ('diesem', 18), ('fahrt', 6), ('frösche', 3), ('werkzeugkiste', 1), ('rasen', 8), ('sachen', 21), ('gönne', 5), ('gönnen', 3), ('gönnt', 1), ('mitleid', 5), ('fackelt', 1), ('begann', 33), ('hintergangen', 4), ('morgengrauen', 3), ('erfüllte', 1), ('holte', 5), ('strebsam', 1), ('kamera', 16), ('schlechte', 31), ('reizt', 2), ('äthiopier', 1), ('unmöglicher', 1), ('träumer', 3), ('medium', 1), ('übersinnliche', 2), ('geisteskräfte', 1), ('kräfte', 1), ('schlauer', 5), ('unverheiratet', 9), ('fußball', 25), ('fußballfreund', 2), ('erwähnt', 7), ('wirkt', 11), ('vertreibt', 1), ('radios', 1), ('whisky', 1), ('starrte', 9), ('lernte', 4), ('fleißig', 21), ('zugewinkt', 1), ('wellenreiten', 2), ('surfen', 6), ('komödiant', 1), ('studentenverbindung', 1), ('verbindungsstudent', 1), ('gärtner', 3), ('ganzer', 3), ('unsozial', 2), ('hundemüde', 1), ('bekommt', 10), ('bruder', 67), ('vierzig', 8), ('querschnittsgelähmt', 1), ('fotogen', 3), ('helium', 1), ('hellte', 3), ('heiterer', 1), ('album', 2), ('he', 11), ('ausweis', 3), ('getürkt', 1), ('hisst', 1), ('segel', 1), ('kerze', 10), ('1245\\xa0uhr', 1), ('dreiviertel', 2), ('1245', 1), ('gewagt', 1), ('fühlen', 14), ('fühlst', 13), ('woher', 20), ('interessant', 14), ('gekostet', 7), ('bedauernswert', 1), ('enden', 3), ('hypnose', 1), ('verabscheue', 3), ('totmüde', 1), ('einzudösen', 1), ('spanien', 2), ('tokio', 7), ('eile', 14), ('sitze', 1), ('patsche', 3), ('entkleide', 1), ('schätzen', 5), ('orange', 5), ('apfelsine', 4), ('zunge', 5), ('reserviert', 8), ('gerülpst', 1), ('rauch', 7), ('verleugnen', 1), ('zurückkehren', 4), ('riskieren', 4), ('ungeschehen', 1), ('beriet', 1), ('kontaktiert', 4), ('heruntergeladen', 3), ('tode', 3), ('schippe', 1), ('fiebrig', 2), ('erleichtert', 8), ('genauso', 12), ('isoliert', 1), ('übergangen', 1), ('außen', 1), ('gefühlt', 3), ('300', 3), ('jedes', 17), ('antwort', 42), ('erhalten', 5), ('beerdigungen', 1), ('hausaufgaben', 13), ('politik', 3), ('waschbären', 1), ('reptilien', 1), ('kriechtiere', 1), ('einzukaufen', 4), ('kälte', 3), ('diesen', 78), ('teppich', 4), ('furchtbar', 17), ('hochzeiten', 2), ('esel', 1), ('laptop', 3), ('anwältin', 1), ('schwester', 54), ('theorie', 12), ('ticket', 8), ('fahrkarte', 3), ('trockene', 3), ('haut', 11), ('sommersprossen', 3), ('10', 3), ('trommel', 2), ('geräusch', 11), ('ellbogen', 2), ('eingezogen', 2), ('geduscht', 4), ('grad', 2), ('gespieben', 1), ('andauernd', 3), ('niesen', 4), ('redete', 9), ('namen', 41), ('typen', 3), ('gegend', 5), ('gelernt', 23), ('raum', 19), ('baseball', 6), ('cartoons', 1), ('zeichentrickfilme', 1), ('auberginen', 1), ('kartoffeln', 7), ('rotwein', 9), ('lache', 6), ('feiere', 3), ('interesse', 2), ('broccoli', 1), ('komödien', 1), ('western', 1), ('zufügen', 2), ('böses', 8), ('wiedergesehen', 5), ('eventuell', 2), ('eingeschätzt', 3), ('armee', 6), ('verstand', 13), ('beine', 22), ('unbedingt', 4), ('internet', 1), ('brauch', 3), ('eimer', 5), ('leiter', 5), ('taschentuch', 2), ('koffein', 4), ('stiefel', 7), ('rasieren', 3), ('niemals', 24), ('treffe', 2), ('bestellt', 16), ('rechnungen', 2), ('spielte', 14), ('gitarre', 19), ('gespielt', 7), ('bevorzuge', 1), ('aufgesetzt', 1), ('brief', 32), ('ausgelesen', 1), ('empfehle', 1), ('geahnt', 2), ('ahnte', 1), ('film', 25), ('giraffe', 2), ('muster', 2), ('schüttelte', 4), ('ganzen', 29), ('roch', 5), ('speck', 4), ('schwedisch', 2), ('unterstützte', 2), ('vitamine', 3), ('geredet', 10), ('duschbad', 1), ('duschte', 1), ('gestimmt', 8), ('dasselbe', 3), ('gleiche', 9), ('zuschauen', 1), ('zeuge', 2), ('geboren', 32), ('hingerissen', 2), ('entsetzt', 7), ('zitiert', 1), ('gedemütigt', 6), ('wünschte', 33), ('gingest', 1), ('dauern', 14), ('abstreiten', 11), ('nachgeben', 3), ('einlenken', 1), ('notiert', 1), ('aufgeschrieben', 2), ('gabel', 7), ('limonade', 2), ('ausprobieren', 5), ('bliebe', 1), ('umhören', 1), ('pünktlich', 14), ('verteidigen', 2), ('begleite', 2), ('informieren', 1), ('nachschlagen', 3), ('erwähnen', 1), ('benachrichtigen', 3), ('bestelle', 6), ('kooperieren', 5), ('mitarbeiten', 2), ('jackson', 1), ('gast', 2), ('nichte', 6), ('rivale', 2), ('christ', 3), ('tvsüchtig', 1), ('fernsehsüchtig', 1), ('biologin', 1), ('biologe', 2), ('zimmermann', 3), ('schreiner', 1), ('tischler', 2), ('chauffeur', 2), ('stadtmädchen', 1), ('kommunistin', 1), ('detektiv', 3), ('schütze', 3), ('glücklicher', 9), ('hausfrau', 2), ('rettungsschwimmer', 3), ('bademeister', 2), ('bademeisterin', 1), ('rettungsschwimmerin', 1), ('masochist', 1), ('nachteule', 2), ('nachtmensch', 2), ('nachtschwärmer', 2), ('sanitäter', 1), ('professor', 4), ('professorin', 3), ('therapeut', 1), ('therapeutin', 1), ('risikofreudig', 1), ('abenteuerlustig', 2), ('sternzeichen', 1), ('wassermann', 1), ('ingenieur', 3), ('optimistin', 1), ('flehe', 4), ('langerweile', 3), ('farbenblind', 3), ('farbenfehlsichtig', 1), ('verstopfung', 1), ('kooperiere', 1), ('tagträumen', 1), ('beschämt', 6), ('altere', 1), ('eigener', 3), ('kurzsichtig', 1), ('bereich', 2), ('schlitzohr', 1), ('diebin', 1), ('streite', 6), ('todernst', 3), ('schreie', 1), ('beharrlich', 8), ('ersetzbar', 4), ('spontan', 2), ('copilot', 1), ('peinlich', 6), ('großen', 31), ('gucke', 2), ('kellner', 2), ('genossen', 7), ('faxen', 1), ('dicke', 2), ('reicht’s', 1), ('autistisch', 2), ('plappert', 1), ('blufft', 2), ('kämpft', 4), ('gutaussehend', 6), ('infiziert', 1), ('atmet', 7), ('giftig', 3), ('versalzen', 4), ('ärztin', 8), ('zebra', 1), ('erlaubt', 9), ('café', 2), ('fluss', 10), ('fluß', 1), ('ethisch', 1), ('freitag', 5), ('umgehauen', 1), ('kaputtgegangen', 1), ('notwendig', 6), ('darlehen', 1), ('billig', 18), ('erscheinen', 1), ('klang', 12), ('schmeckte', 4), ('süßen', 5), ('geschmack', 2), ('verlockend', 1), ('herrschte', 2), ('frost', 2), ('handgemacht', 1), ('schmerzlos', 1), ('gelohnt', 1), ('rolle', 8), ('spaßig', 2), ('ne', 1), ('arge', 1), ('großes', 24), ('sackgasse', 1), ('schöner', 16), ('fasan', 1), ('abkürzung', 5), ('überraschung', 5), ('akzeptabel', 2), ('annehmbar', 3), ('frisch', 7), ('spottbillig', 1), ('verdientes', 1), ('schönes', 21), ('wetter', 8), ('unpassend', 1), ('irrelevant', 2), ('belanglos', 2), ('belang', 2), ('bloß', 23), ('zauberei', 1), ('irreführend', 1), ('bombe', 1), ('langt', 1), ('lächerlich', 14), ('erschreckend', 4), ('verpack', 3), ('übe', 1), ('übt', 1), ('rest', 3), ('wechselgeld', 5), ('bewahren', 6), ('knete', 1), ('teig', 1), ('blei', 3), ('metall', 2), ('hinterlasse', 1), ('nachricht', 40), ('hinterlassen', 8), ('verlasst', 1), ('zitronen', 1), ('vortritt', 1), ('saufen', 2), ('betrinken', 3), ('gießen', 1), ('improvisieren', 1), ('zuckerschlecken', 1), ('ponyhof', 1), ('betrachte', 4), ('himmel', 17), ('serviert', 6), ('entscheide', 1), ('verkleinere', 1), ('kleiner', 12), ('verwitwet', 1), ('zitieren', 6), ('anprobieren', 4), ('unvermeidlich', 5), ('benötigt', 3), ('jeans', 5), ('eingelaufen', 2), ('schuhe', 58), ('quietschen', 2), ('anzug', 11), ('grau', 5), ('halsschmerzen', 8), ('„nie“', 1), ('angenehm', 5), ('erfreut', 14), ('freue', 24), ('erkennen', 2), ('ändert', 4), ('oktober', 13), ('flasche', 9), ('fenster', 50), ('aufgegangen', 6), ('streiche', 1), ('zaun', 3), ('feiern', 9), ('stift', 23), ('schäl', 2), ('hierhin', 6), ('drücke', 2), ('druckknopf', 1), ('setze', 4), ('puzzlespielen', 1), ('zurückweisung', 1), ('donut', 2), ('drogen', 4), ('naturwissenschaften', 1), ('sichere', 2), ('worauf', 8), ('hinauswill', 1), ('230', 20), ('schicke', 2), ('haie', 1), ('vergab', 1), ('hübsche', 7), ('botengänge', 1), ('sturkopf', 1), ('gekniffen', 2), ('ohrfeigte', 3), ('ohrfeige', 3), ('erstach', 1), ('erstochen', 3), ('führte', 9), ('fesselte', 1), ('gefesselt', 1), ('chefin', 5), ('aufgeweckt', 4), ('weiße', 9), ('zeigt', 5), ('durchsetzungsvermögen', 1), ('17', 2), ('langgeht', 2), ('karten', 10), ('aufrecht', 1), ('spanisch', 2), ('buchstabieren', 2), ('stiehl', 1), ('unterlasse', 3), ('wimmern', 1), ('fege', 1), ('aspirin', 6), ('tabletten', 3), ('geschichtchen', 1), ('offen', 23), ('freiheraus', 1), ('kostete', 2), ('glatt', 3), ('pagode', 1), ('bleistift', 21), ('betrug', 1), ('kindisch', 5), ('bezweifeln', 2), ('zweifelhaft', 2), ('gewiss', 2), ('kleid', 25), ('zeugs', 1), ('gestern', 58), ('persönlich', 4), ('hase', 6), ('pfeffer', 5), ('feucht', 5), ('voll', 20), ('knurrte', 4), ('erstarb', 1), ('stank', 3), ('see', 15), ('blätter', 3), ('erötete', 1), ('mond', 7), ('bezahlung', 5), ('strom', 2), ('brunnen', 9), ('trocken', 5), ('wind', 15), ('keinerlei', 1), ('seife', 8), ('redeten', 2), ('melonen', 2), ('piloten', 1), ('gelb', 3), ('verdienen', 10), ('scheren', 1), ('fuhren', 6), ('ignorierten', 3), ('wohnen', 23), ('vermissten', 1), ('fehlte', 1), ('verkaufen', 18), ('besuchten', 1), ('dreckig', 12), ('lagen', 2), ('denen', 6), ('russen', 2), ('streiten', 6), ('vettern', 3), ('praktikanten', 1), ('assistenzärzte', 1), ('größten', 1), ('hotel', 8), ('messer', 34), ('pfirsich', 1), ('schicksal', 10), ('stumpfsinnig', 1), ('unnütz', 1), ('neuigkeit', 2), ('jene', 3), ('zeiten', 3), ('jedem', 4), ('beschleunigte', 2), ('handelte', 5), ('benahm', 5), ('betrunkener', 1), ('verängstigt', 8), ('dazugegeben', 1), ('zugegeben', 3), ('ums', 8), ('genehmigt', 1), ('angegriffen', 7), ('backte', 3), ('stumm', 2), ('lippe', 1), ('malen', 3), ('verursacht', 4), ('verfolgte', 4), ('ausgecheckt', 1), ('leistete', 4), ('beitrag', 9), ('geleistet', 12), ('hinterging', 1), ('bestritten', 2), ('entworfen', 3), ('gejagt', 1), ('bestanden', 18), ('rührte', 3), ('ekelt', 1), ('duckte', 1), ('genießt', 5), ('übertrieb', 1), ('übertreibt', 1), ('fütterte', 9), ('verstummte', 2), ('unbehaglich', 3), ('ungutes', 1), ('gefühl', 7), ('narren', 2), ('wehrte', 1), ('gekämpft', 3), ('flippte', 2), ('geärgert', 1), ('geändert', 17), ('erregt', 3), ('panisch', 1), ('gesellschaft', 5), ('husten', 8), ('buckel', 2), ('gewisser', 5), ('hicks', 1), ('ausgesorgt', 1), ('mehrere', 1), ('möglichkeiten', 2), ('kaninchen', 8), ('geheimnisse', 10), ('durchhaltevermögen', 2), ('oper', 2), ('vorschriften', 3), ('inspiriert', 5), ('barbier', 1), ('hohes', 3), ('straßenmusikant', 1), ('einsiedler', 2), ('eremit', 1), ('legende', 1), ('verrückter', 4), ('pirat', 1), ('töpfer', 1), ('priester', 2), ('prinz', 3), ('wahnsinniger', 1), ('rassist', 2), ('rapper', 1), ('einsteiger', 1), ('seemann', 4), ('senior', 1), ('raucher', 6), ('wellenreiter', 1), ('schneider', 1), ('komischer', 3), ('kauz', 1), ('schräger', 1), ('agnostisch', 1), ('athletisch', 5), ('barfuß', 3), ('sorglos', 2), ('charmant', 3), ('fröhlich', 3), ('ahnungslos', 2), ('hustet', 1), ('glaubwürdig', 4), ('kultiviert', 1), ('ausschlaggebend', 2), ('geistesgestört', 1), ('untreu', 2), ('umständen', 1), ('entsprechend', 1), ('unschlüssig', 1), ('durchnässt', 1), ('ertrinkt', 2), ('begeistert', 12), ('gebildet', 1), ('beredt', 1), ('überzeugend', 2), ('flieht', 1), ('ausgehungert', 1), ('flexibel', 4), ('kraftvoll', 1), ('großzügig', 9), ('kichert', 1), ('grinst', 1), ('stöhnt', 1), ('beinen', 2), ('heimwehkrank', 1), ('hoffnungsloser', 6), ('humorvoll', 1), ('unreif', 2), ('unbeweglich', 2), ('schock', 8), ('unsicher', 10), ('involviert', 2), ('kniet', 2), ('klopft', 1), ('verwaltet', 1), ('barmherzig', 1), ('feind', 21), ('neurotisch', 1), ('gehorsam', 2), ('empört', 4), ('pervers', 1), ('rational', 1), ('rücksichtslos', 6), ('reformiert', 1), ('rastlos', 1), ('verrichtet', 2), ('einkäufe', 1), ('einkaufen', 9), ('angewidert', 4), ('unruhig', 4), ('übermütig', 1), ('aufgekratzt', 1), ('niest', 1), ('kontaktfreudig', 2), ('temperamentvoll', 1), ('verhungert', 4), ('starrköpfig', 2), ('selbstmordgefährdet', 2), ('schwitzt', 2), ('taktlos', 1), ('talentiert', 5), ('endstadium', 1), ('kitzelig', 1), ('unermüdlich', 1), ('beunruhigt', 7), ('unvoreingenommen', 3), ('entnervt', 1), ('verschwender', 4), ('verschwenderisch', 4), ('rechthaberisch', 5), ('kleinlich', 1), ('smart', 1), ('taff', 2), ('sprang', 8), ('erschien', 3), ('freilassung', 1), ('kaution', 1), ('gerichtsverhandlung', 1), ('guckte', 2), ('weitergegessen', 1), ('weiterbewegt', 1), ('weiterversucht', 1), ('tötete', 3), ('beugte', 3), ('stich', 8), ('blues', 1), ('salsa', 1), ('zündete', 6), ('streichholz', 2), ('lebte', 5), ('gewohnt', 9), ('kaltem', 1), ('blick', 11), ('verfroren', 1), ('flott', 1), ('festgefahren', 1), ('angespannt', 5), ('abgenommen', 11), ('chili', 1), ('supergerne', 1), ('aussagen', 1), ('möglicherweise', 10), ('vermisste', 2), ('außerhalb', 3), ('überreagiert', 1), ('verschied', 1), ('rugby', 2), ('romane', 3), ('aufgenommen', 3), ('hai', 1), ('erschreckt', 9), ('toller', 6), ('bereitwillig', 2), ('bären', 4), ('tenor', 1), ('schlückchen', 2), ('bremste', 2), ('stach', 3), ('bewahrte', 2), ('ergeben', 3), ('bad', 11), ('badete', 2), ('fotos', 8), ('dressiert', 1), ('erneut', 16), ('wandte', 4), ('warnte', 1), ('beleidigend', 2), ('unnachgiebig', 1), ('alarmiert', 2), ('geblendet', 1), ('gemobbt', 1), ('niedergeschmettert', 2), ('trotzig', 1), ('bedenken', 2), ('betagt', 1), ('ausweichend', 1), ('nachsichtig', 1), ('unartig', 2), ('keuchte', 1), ('schluchzte', 1), ('niedergestochen', 1), ('taser', 1), ('beschossen', 1), ('begleitete', 1), ('teilnehmen', 2), ('fliehen', 4), ('empfängt', 1), ('benützen', 2), ('medaille', 1), ('einwendungen', 1), ('rühren', 6), ('handschuhe', 11), ('herausfinden', 6), ('charmeur', 2), ('experte', 2), ('sank', 1), ('gesunken', 1), ('genial', 2), ('saukomisch', 1), ('cousin', 13), ('neffe', 5), ('abstoßend', 1), ('aufzuhalten', 5), ('gähnen', 3), ('schaltet', 2), ('schalten', 3), ('wände', 1), ('hintrittst', 1), ('wohin', 27), ('zehen', 6), ('verhafteten', 2), ('verhaftet', 8), ('nennen', 10), ('nahmen', 6), ('machten', 6), ('erklärten', 1), ('rohen', 2), ('umgezogen', 3), ('picknicks', 1), ('brachten', 5), ('waffeln', 1), ('fachleute', 1), ('duschten', 1), ('zurückhaben', 1), ('wiederhaben', 10), ('lager', 1), ('aufschlagen', 2), ('kampieren', 1), ('kooperativ', 1), ('hinkommen', 1), ('angler', 1), ('stammen', 1), ('nachbarn', 7), ('optimisten', 1), ('verwandte', 1), ('getrennt', 5), ('seelenverwandt', 2), ('hattest', 8), ('gefürchtet', 1), ('riesiger', 1), ('schlips', 3), ('grober', 1), ('verpasst', 28), ('sagst', 18), ('motivation', 2), ('wieviel', 1), ('darin', 16), ('schiefgelaufen', 2), ('worum', 3), ('gewinn', 1), ('kumpel', 2), ('beruflich', 1), ('kamm', 3), ('ruder', 1), ('zoo', 5), ('beiträge', 6), ('beschimpft', 1), ('ergab', 1), ('weshalb', 5), ('fragten', 1), ('erholen', 3), ('wölfen', 1), ('wärest', 2), ('betreffende', 1), ('versteckst', 2), ('wusstest', 6), ('wusstet', 3), ('wisst', 19), ('leidtun', 3), ('dahinter', 2), ('schönheit', 2), ('sexist', 1), ('störst', 1), ('nervst', 2), ('enervierend', 1), ('überheblich', 3), ('blutest', 2), ('bluten', 3), ('täuschst', 2), ('betrügst', 1), ('schummelst', 1), ('träumst', 2), ('partnerin', 1), ('bemitleidenswert', 1), ('spielst', 5), ('abgelaufen', 2), ('weniger', 2), ('8', 1), ('bellt', 3), ('des', 18), ('wegs', 1), ('sicherung', 1), ('durchgebrannt', 1), ('unsichtbar', 1), ('ans', 4), ('telefon', 36), ('katholisch', 2), ('zauberer', 3), ('sportlich', 3), ('errötest', 1), ('erröten', 2), ('errötet', 2), ('trinkst', 12), ('studierst', 6), ('irgendwas', 11), ('seinem', 23), ('interessierts', 1), ('atlantis', 1), ('achtung', 6), ('aufpassen', 2), ('flexibler', 3), ('flügel', 1), ('zügele', 1), ('atme', 2), ('atmen', 9), ('putzt', 1), ('zähne', 17), ('putzen', 3), ('putze', 2), ('putz', 2), ('zwinge', 4), ('bekennen', 2), ('fordere', 2), ('irgendwann', 2), ('leihen', 7), ('irgendjemand', 4), ('erraten', 3), ('erlauben', 7), ('ernährung', 1), ('bestellung', 5), ('kirschen', 1), ('bedacht', 2), ('unterricht', 10), ('spiegel', 5), ('schließt', 4), ('sag’s', 3), ('konzentriere', 2), ('graben', 4), ('grabt', 1), ('beherrsche', 2), ('reiss', 1), ('reiß', 1), ('riemen', 1), ('überquere', 1), ('normales', 3), ('gedrängt', 1), ('angefasst', 5), ('gebellt', 1), ('jemals', 7), ('je', 12), ('kanntest', 3), ('aufgehalten', 7), ('etwa', 15), ('wollt', 19), ('weinst', 4), ('lehnst', 1), ('pasta', 1), ('ruhst', 1), ('mögt', 14), ('tōfu', 1), ('wohnst', 7), ('lebst', 7), ('besitzen', 2), ('solch', 3), ('unbesorgt', 1), ('störe', 3), ('täusche', 3), ('täuschen', 7), ('täuscht', 1), ('stör', 1), ('erwischen', 5), ('rase', 1), ('belästige', 2), ('weitermachst', 1), ('lärme', 2), ('treib', 2), ('spielchen', 1), ('bescheiß', 1), ('sprecht', 8), ('verpetz', 1), ('verpetzen', 1), ('linie', 7), ('erfüllung', 1), ('saft', 8), ('eiweiß', 1), ('gemüse', 12), ('getanzt', 5), ('sprangen', 1), ('blieben', 8), ('kicherten', 2), ('merkten', 1), ('aufgefallen', 8), ('gemerkt', 5), ('erkläre', 5), ('erklärt', 7), ('füll', 2), ('tank', 2), ('beende', 1), ('befolge', 2), ('welchem', 3), ('weiche', 3), ('getränk', 10), ('schwert', 7), ('schirm', 12), ('zurückgekehrt', 7), ('wunderschönen', 1), ('aufgegessen', 2), ('muffins', 3), ('buk', 7), ('verhalten', 6), ('verstieß', 3), ('gegen', 32), ('fremdgegangen', 1), ('mittags', 1), ('kurzem', 2), ('erfüllt', 4), ('faszinierte', 2), ('rückwärts', 2), ('reparierte', 1), ('flog', 5), ('graues', 2), ('picasso', 1), ('langes', 7), ('verabscheut', 1), ('höflicher', 3), ('bub', 2), ('aggressiv', 6), ('italiener', 1), ('ungesellig', 2), ('vollkommen', 15), ('heimgekommen', 5), ('diesbezüglich', 2), ('angelt', 7), ('jagt', 4), ('orangen', 6), ('tierlieb', 1), ('fischt', 4), ('gemalt', 3), ('hisste', 3), ('flagge', 8), ('geschüttelt', 2), ('stunde', 16), ('arabisch', 7), ('spielzeug', 6), ('geworfen', 2), ('belog', 3), ('wendete', 1), ('früher', 25), ('alkohol', 10), ('freigesprochen', 4), ('frankreich', 5), ('schlafanzug', 2), ('bankrott', 2), ('sonntags', 4), ('franzose', 1), ('gentleman', 6), ('erwachsener', 3), ('historiker', 4), ('geschichtswissenschaftler', 2), ('nichtraucher', 2), ('kluger', 8), ('gespannt', 2), ('senil', 1), ('klasse', 7), ('intelligent', 5), ('knauserig', 2), ('haare', 47), ('brieftasche', 6), ('hieß', 3), ('pferden', 4), ('hüte', 5), ('kindern', 6), ('euren', 21), ('siehts', 1), ('plädieren', 1), ('sonderbar', 3), ('ungemein', 1), ('seiner', 10), ('verkühlung', 1), ('katarrh', 1), ('gewalt', 7), ('pflichte', 1), ('runtergehauen', 1), ('auswärts', 5), ('ausländer', 5), ('brasilien', 1), ('norwegen', 1), ('brate', 1), ('hexe', 1), ('scheiß', 2), ('schwitzen', 5), ('armbanduhr', 10), ('verbeugte', 3), ('beschweren', 4), ('beklagen', 2), ('erreichen', 8), ('erretten', 1), ('behaupten', 2), ('ertragen', 7), ('bunt', 1), ('zurückhalten', 2), ('eingefangen', 2), ('sammle', 3), ('comics', 5), ('gestellt', 11), ('entgegengetreten', 1), ('erwägung', 1), ('gezogen', 5), ('pizzalieferant', 1), ('pizzalieferantin', 1), ('akzeptiere', 6), ('keins', 7), ('fremd', 2), ('keines', 4), ('allesesser', 1), ('prüfung', 21), ('phantastisch', 7), ('gebauchpinselt', 1), ('machtlos', 5), ('beschützt', 1), ('erquickt', 1), ('schmerz', 8), ('mütze', 16), ('6', 2), ('geholt', 1), ('abgezockt', 1), ('630\\xa0uhr', 5), ('schätze', 10), ('schlimme', 3), ('impfen', 1), ('gründe', 3), ('halloween', 4), ('chemie', 4), ('rechner', 8), ('krankenhäuser', 2), ('heuchelei', 1), ('pest', 3), ('granate', 1), ('quittung', 5), ('roller', 2), ('toaster', 1), ('webseite', 4), ('dunkle', 4), ('dunkles', 5), ('wenige', 8), ('heuschnupfen', 2), ('sodbrennen', 2), ('anweisungen', 4), ('wahl', 21), ('lungenentzündung', 3), ('stifte', 6), ('video', 6), ('zwanzig', 2), ('akte', 6), ('datei', 8), ('home', 2), ('run', 2), ('erzielt', 1), ('erzielte', 2), ('mühsam', 1), ('rechte', 10), ('übung', 6), ('vornamen', 2), ('erlaubte', 2), ('hereinzukommen', 2), ('australien', 18), ('samstage', 1), ('astrologie', 1), ('schokolade', 5), ('elefanten', 3), ('frische', 4), ('frischen', 1), ('roman', 6), ('sprachen', 5), ('popmusik', 1), ('überraschungen', 1), ('fahne', 8), ('strand', 9), ('achte', 3), ('suchte', 10), ('pfund', 3), ('fotoapparat', 9), ('portemonnaie', 4), ('abenteuer', 5), ('astronomie', 1), ('sternenkunde', 1), ('dinosaurier', 4), ('gartenarbeit', 1), ('eiscreme', 2), ('alte', 16), ('afroamerikanische', 1), ('küche', 15), ('„seelennahrung“', 1), ('wald', 4), ('weggeschickt', 2), ('begangen', 2), ('angefertigt', 2), ('kochte', 5), ('spaghetti', 3), ('brechstange', 1), ('brecheisen', 1), ('klempner', 3), ('roten', 5), ('spachtel', 1), ('pfannenwender', 1), ('umschläge', 1), ('neue', 30), ('hose', 15), ('band', 6), ('auge', 16), ('bestellte', 10), ('überlistet', 2), ('computer', 13), ('passte', 1), ('schlagzeug', 2), ('querflöte', 1), ('sprit', 2), ('tinte', 6), ('„times“', 1), ('etikett', 1), ('hoffen', 8), ('erkannte', 4), ('erkannt', 8), ('weigerte', 8), ('bereue', 6), ('rieb', 5), ('leidtut', 2), ('„bleib', 1), ('zurück“', 1), ('neben', 19), ('heimgehen', 4), ('ausgegeben', 1), ('regelmäßig', 1), ('selbstgespräche', 2), ('besuchte', 8), ('scheidung', 1), ('i', 1), ('martini', 1), ('aufessen', 1), ('zurücktreten', 8), ('abgelenkt', 2), ('frustriert', 2), ('damals', 9), ('erniedrigt', 1), ('kampf', 8), ('sprachlos', 4), ('siegreich', 2), ('wusch', 8), ('übersetzen', 3), ('bank', 30), ('sonntag', 8), ('freuen', 5), ('hierbleiben', 3), ('bestrafen', 1), ('bestraft', 8), ('allem', 2), ('verzeihen', 9), ('langgehen', 1), ('abnehmen', 5), ('beschützen', 19), ('nehm', 1), ('abwasch', 4), ('fünfundzwanzig', 1), ('fahrer', 7), ('mentor', 2), ('bürger', 1), ('vereinigten', 1), ('staaten', 1), ('groggy', 1), ('busfahrer', 3), ('taxifahrer', 5), ('taxifahrerin', 4), ('hockeyfan', 1), ('journalist', 5), ('langschläfer', 1), ('politiker', 1), ('politikerin', 1), ('fotonarr', 1), ('hobbyfotograf', 1), ('alleinerziehende', 3), ('übersetzerin', 2), ('übersetzer', 2), ('verdrossen', 1), ('beidhänderin', 1), ('beidhänder', 2), ('händen', 5), ('gleichermaßen', 1), ('ehemaliger', 2), ('marinesoldat', 1), ('vermeide', 1), ('backe', 2), ('unzufrieden', 8), ('übertreibe', 1), ('amerika', 7), ('voller', 10), ('hoffnungsvoll', 4), ('high', 2), ('dicht', 1), ('dachboden', 3), ('lobby', 2), ('foyer', 2), ('lade', 3), ('bauer', 4), ('mitglied', 6), ('quicklebendig', 1), ('überdrehe', 1), ('stolz', 28), ('total', 7), ('komplett', 2), ('pensioniert', 1), ('rechtshänderin', 1), ('gestresst', 3), ('vorurteilsfrei', 1), ('hochzufrieden', 2), ('riesendurst', 1), ('diener', 1), ('schlimmeres', 3), ('ausfindig', 2), ('verfügbar', 2), ('selbstsicher', 1), ('erreichbar', 2), ('ansteckend', 3), ('eignet', 2), ('2231374', 1), ('blume', 2), ('verkäuflich', 2), ('bissig', 2), ('schneien', 15), ('euro', 2), ('interessierte', 1), ('zappenduster', 3), ('stockfinster', 2), ('stockdunkel', 2), ('springt', 9), ('erst', 32), ('bedeutet', 12), ('bedeutung', 1), ('waschen', 9), ('erscheint', 2), ('bestimmt', 24), ('warmer', 2), ('dauert', 6), ('einfallen', 2), ('gruppe', 2), ('handy', 2), ('angewohnheit', 1), ('messe', 1), ('traumjob', 2), ('vollmond', 1), ('verrückte', 3), ('regnerischer', 1), ('sonnenblume', 2), ('sonniger', 1), ('windiger', 1), ('illusion', 1), ('mild', 1), ('bitterkalt', 1), ('klart', 2), ('bequem', 5), ('kompliziert', 13), ('denkbar', 1), ('hergeholt', 1), ('gefroren', 3), ('reine', 1), ('glückssache', 1), ('waschtag', 1), ('droge', 6), ('affenfleisch', 1), ('trick', 3), ('gesetzeswidrig', 1), ('sofa', 7), ('regnerisch', 1), ('bedauerlich', 3), ('deren', 5), ('transparent', 1), ('unnötig', 4), ('bitter', 3), ('klebrig', 1), ('schwül', 1), ('stickig', 2), ('privatvergnügen', 2), ('asien', 2), ('nenn', 4), ('nenne', 2), ('verrichte', 3), ('werk', 1), ('kühlen', 1), ('links', 5), ('verrichten', 10), ('rübergehen', 1), ('„vater', 1), ('kind“', 1), ('poker', 4), ('steck', 1), ('zünde', 2), ('unsterblich', 2), ('senke', 1), ('senken', 1), ('leiser', 5), ('sende', 2), ('triff', 2), ('mars', 3), ('planet', 5), ('wildfang', 1), ('verpasste', 1), ('nachher', 2), ('dose', 3), ('deutsches', 2), ('deutschen', 1), ('flöhe', 1), ('entzündet', 2), ('zuckt', 1), ('goldfisch', 2), ('lockiges', 2), ('lockige', 1), ('winzig', 2), ('posteingang', 1), ('langweilige', 2), ('juckt', 5), ('puls', 9), ('socken', 16), ('bauchschmerzen', 3), ('magenschmerzen', 3), ('geldbeutel', 4), ('schlägt', 2), ('kennenzulernen', 4), ('interessieren', 1), ('fleiß', 2), ('schweiß', 3), ('unterrichtete', 2), ('nix', 1), ('stehengeblieben', 5), ('gehorche', 1), ('o', 2), ('behutsam', 5), ('wenden', 3), ('pumpen', 1), ('reifen', 4), ('pump', 1), ('kiste', 21), ('begrabbeln', 1), ('eher', 3), ('artikel', 5), ('wirklichkeit', 1), ('rom', 4), ('italien', 8), ('griff', 4), ('angelaufen', 1), ('bezwungen', 1), ('bezwang', 1), ('verachtete', 1), ('tuberkulose', 2), ('1960', 3), ('scheiden', 4), ('bmw', 2), ('trockenes', 4), ('vergötterte', 1), ('vergöttert', 1), ('beleidigte', 3), ('pianistin', 1), ('lässig', 1), ('eigensinnig', 3), ('hartnäckig', 2), ('angeschaut', 2), ('abgekommen', 2), ('zurückgewiesen', 1), ('kamel', 3), ('geritten', 1), ('ritt', 1), ('lebewohl', 1), ('angelächelt', 1), ('überraschte', 4), ('befördert', 8), ('wucht', 3), ('häuschen', 1), ('wir’s', 2), ('größe', 7), ('schlangen', 4), ('deswegen', 12), ('verspätung', 7), ('starte', 2), ('unterlass', 2), ('tagträumerei', 1), ('hauen', 2), ('einzumischen', 1), ('anzulügen', 1), ('belügen', 5), ('erschrecken', 1), ('prahlen', 1), ('sekkieren', 1), ('supermann', 1), ('schluck', 4), ('pille', 1), ('vorkehrungen', 1), ('vorsichtsmaßnahmen', 1), ('trefft', 1), ('sicherheitsvorkehrungen', 1), ('jemandem', 16), ('neuigkeiten', 9), ('hingehauen', 2), ('ergibt', 3), ('person', 12), ('dürfte', 7), ('duftet', 3), ('ungeschickt', 3), ('vermeiden', 2), ('umgehen', 5), ('überfragt', 1), ('freudige', 1), ('irrsinnig', 1), ('eitles', 1), ('geschwätz', 1), ('unheilbar', 2), ('lachhaft', 2), ('angelegenheit', 5), ('weder', 2), ('punkt', 1), ('ärgerlich', 2), ('zweiundvierzig', 1), ('„nein“', 3), ('batterie', 3), ('vorhang', 2), ('beule', 1), ('riesig', 2), ('gequietscht', 1), ('ziege', 2), ('meckerte', 1), ('löste', 5), ('gilt', 1), ('labor', 5), ('mikrophon', 2), ('milchmann', 2), ('untergegangen', 1), ('party', 17), ('fete', 2), ('beendet', 3), ('vereist', 1), ('rau', 3), ('stürmisch', 1), ('sturm', 11), ('schalter', 3), ('zwillinge', 5), ('woche', 33), ('ertönte', 2), ('verheilte', 1), ('klingel', 3), ('nennt', 10), ('ausgehoben', 1), ('achten', 3), ('entdeckt', 4), ('gedankt', 1), ('verschlossen', 7), ('wiederkehren', 1), ('verfolgen', 3), ('klatschnass', 6), ('verräter', 4), ('knabe', 1), ('839', 2), ('kritisch', 3), ('trainer', 2), ('schwachsinn', 1), ('pathetisch', 3), ('pathos', 2), ('sabotage', 1), ('stoppte', 1), ('ereignen', 3), ('bewundert', 3), ('schlug', 21), ('schluchzen', 1), ('brötchen', 4), ('tagesanbruch', 1), ('hervor', 2), ('angerannt', 2), ('gewechselt', 3), ('eindeutig', 2), ('kletterte', 2), ('konzentrierte', 1), ('berichtigte', 1), ('verbesserte', 1), ('korrigierte', 3), ('erschaffen', 2), ('dekoriert', 1), ('einwände', 2), ('h', 1), ('2009', 1), ('2013', 8), ('kleidet', 2), ('verliebte', 1), ('behandelt', 2), ('verzeiht', 1), ('vergibt', 1), ('briet', 1), ('warf', 11), ('tätowieren', 2), ('strafzettel', 1), ('erhielt', 2), ('ängstlich', 9), ('aufgewachsen', 8), ('vision', 1), ('ehrgeiz', 6), ('alibi', 5), ('hausdiener', 1), ('geschwür', 1), ('charisma', 1), ('hühner', 2), ('fertiggemacht', 1), ('immunität', 2), ('schlafstörungen', 1), ('leukämie', 1), ('trunkenheit', 1), ('steuer', 3), ('belangt', 1), ('oliven', 2), ('süden', 2), ('sirenen', 3), ('schwarze', 16), ('hoffte', 3), ('summte', 2), ('verletzte', 3), ('beeindruckte', 1), ('marie', 5), ('marys', 7), ('böser', 4), ('hochstapler', 2), ('schlagzeuger', 2), ('schlagzeugspieler', 1), ('faschist', 1), ('turner', 1), ('pianist', 3), ('installateur', 2), ('hellseher', 2), ('realist', 1), ('makler', 1), ('immobilienmakler', 1), ('flüchtling', 1), ('mistkerl', 1), ('lkwfahrer', 2), ('lastwagenfahrer', 3), ('lasterfahrer', 3), ('jodler', 1), ('anpassungsfähig', 1), ('praktikant', 1), ('selbstbewusst', 3), ('abkömmlich', 1), ('bartlos', 1), ('bilingual', 1), ('engagiert', 3), ('verpflichtet', 3), ('kompetent', 3), ('zuvorkommend', 2), ('betrügerisch', 1), ('defensiv', 1), ('delirium', 2), ('anspruchsvoll', 2), ('unehrlich', 1), ('gestört', 2), ('exzentrisch', 1), ('effektiv', 2), ('effizient', 2), ('woanders', 2), ('emotional', 4), ('energisch', 1), ('ausgezeichnet', 3), ('überschwänglich', 2), ('fanatisch', 1), ('tollkühn', 1), ('vergesslich', 9), ('grotesk', 1), ('murrt', 1), ('urkomisch', 3), ('ehrenhaft', 1), ('hitzköpfig', 1), ('unlogisch', 1), ('unparteiisch', 2), ('teilnahmslos', 1), ('fortschritte', 2), ('impulsiv', 4), ('bande', 4), ('unaufrichtig', 4), ('erfinderisch', 5), ('lüstern', 1), ('legendär', 1), ('unbarmherzig', 2), ('miserabel', 2), ('murmelt', 1), ('nachlässig', 7), ('unausstehlich', 3), ('obsessiv', 1), ('widerspenstig', 2), ('organisiert', 2), ('führer', 5), ('nimmt', 9), ('blatt', 8), ('freimütig', 2), ('überglücklich', 3), ('perplex', 2), ('besessen', 1), ('praktisch', 5), ('bedauert', 1), ('zurückhaltend', 2), ('seriös', 1), ('belastbar', 1), ('sarkastisch', 3), ('geheimnisvoll', 2), ('sensibel', 2), ('schamlos', 1), ('hemd', 33), ('hemdlos', 1), ('skizziert', 1), ('hockt', 1), ('suspendiert', 5), ('gesprächig', 5), ('unentschieden', 1), ('alleinstehend', 2), ('unbeliebt', 1), ('begriff', 4), ('wacht', 2), ('schwächer', 2), ('pfeift', 3), ('jude', 1), ('langweiler', 1), ('kauft', 6), ('familienmitglied', 1), ('aufgeführt', 2), ('stabil', 1), ('drogeneinfluss', 1), ('geniest', 1), ('zugeschaut', 2), ('wühlte', 1), ('packte', 3), ('schob', 4), ('weitergesungen', 1), ('textete', 1), ('menschenkenntnis', 1), ('230\\xa0uhr', 9), ('hockey', 3), ('naturfreund', 1), ('ponys', 1), ('boxt', 1), ('vorn', 5), ('angesehen', 6), ('geistreich', 1), ('wirkte', 9), ('wackelig', 1), ('arbeitsplatz', 2), ('tassen', 1), ('schrank', 3), ('anmerken', 1), ('genickt', 2), ('belauscht', 1), ('zwickte', 1), ('bridge', 1), ('vorhergesagt', 1), ('„senden“', 1), ('druck', 2), ('wahrscheinlich', 20), ('achtet', 2), ('baumstamm', 1), ('schalt', 2), ('punktete', 1), ('herrisch', 1), ('widerstandsfähig', 1), ('gutzugehen', 1), ('schlurfte', 2), ('scheußlich', 3), ('stiehlt', 1), ('erstarrt', 1), ('studierte', 5), ('vorgeschlagen', 1), ('flucht', 3), ('yogaunterricht', 1), ('kitzelte', 1), ('quälte', 1), ('veränderung', 3), ('landwirt', 2), ('plapperte', 1), ('bluffte', 1), ('prahlte', 3), ('aufgeräumt', 5), ('aufmunternd', 1), ('eingeäschert', 2), ('besiegt', 2), ('deportiert', 1), ('eingesperrt', 2), ('treulos', 1), ('träumte', 1), ('ekstatisch', 1), ('hingerichtet', 4), ('starke', 8), ('ermordet', 13), ('begnadigt', 1), ('freigelassen', 3), ('ausgewählt', 1), ('hungerte', 1), ('unrasiert', 1), ('beobachtete', 1), ('jogging', 1), ('bettnässer', 1), ('trophäe', 2), ('wettlauf', 2), ('bemerken', 1), ('akzeptieren', 2), ('zusagen', 1), ('einwilligen', 1), ('wassermangel', 2), ('dehydriert', 1), ('wahnhafte', 2), ('störungen', 2), ('erbleichte', 1), ('hysterisch', 3), ('innovativ', 2), ('klingelte', 8), ('misstrauisch', 2), ('ungeschlagen', 2), ('folter', 1), ('auszubrechen', 1), ('stellt', 5), ('biegen', 3), ('heizung', 1), ('lauft', 3), ('gieß', 1), ('ebenfalls', 4), ('fingen', 8), ('1830\\xa0uhr', 1), ('verlangen', 3), ('angewiesen', 6), ('mitbekommen', 2), ('störten', 1), ('frühstück', 13), ('verabscheuen', 2), ('vernahmen', 1), ('armen', 3), ('meinen’s', 2), ('wollten', 5), ('kennengelernt', 14), ('irrten', 1), ('gestrandet', 1), ('sieg', 4), ('davongetragen', 1), ('schrieben', 1), ('nachfolgen', 2), ('klassenkameraden', 2), ('nicken', 1), ('osten', 3), ('analphabeten', 1), ('meditieren', 2), ('furchtsam', 2), ('verwandt', 6), ('umzingelt', 4), ('besitzer', 5), ('ausprobiert', 1), ('aussicht', 2), ('welch', 5), ('ausblick', 2), ('lustiger', 4), ('schwere', 3), ('heuchler', 4), ('albtraum', 2), ('alptraum', 6), ('kluges', 2), ('kerlchen', 1), ('besagt', 1), ('wovon', 3), ('ziehst', 2), ('wunsch', 5), ('endet', 4), ('zoll', 1), ('sitzplatz', 2), ('terminkalender', 9), ('mami', 1), ('ausgang', 2), ('billiger', 3), ('festgenommen', 5), ('hergebracht', 2), ('dame', 5), ('benachrichtigt', 4), ('hamlet', 2), ('wessen', 52), ('gesperrt', 3), ('wolle', 2), ('färben', 3), ('eigelbe', 1), ('vermasselt', 3), ('kucken', 1), ('leistest', 3), ('jünger', 8), ('steckenpferd', 2), ('therapie', 4), ('schienst', 1), ('wart’s', 3), ('lögest', 1), ('löget', 1), ('lögen', 1), ('freundin', 22), ('starrsinnig', 1), ('schreist', 1), ('zitterst', 2), ('zittern', 5), ('redselig', 3), ('versicherung', 1), ('vogelscheuche', 1), ('wertlos', 1), ('rotes', 9), ('hosenstall', 2), ('regnete', 6), ('heftig', 4), ('heftiger', 1), ('schraube', 6), ('gewitter', 1), ('unwetter', 2), ('fügen', 2), ('nachvollziehen', 3), ('einzige', 19), ('ammoniak', 1), ('lauge', 1), ('kerzen', 9), ('bettwanzen', 1), ('vampire', 1), ('vampir', 1), ('zweisprachig', 2), ('bürgermeister', 4), ('polizisten', 2), ('schutzmann', 1), ('meide', 1), ('schlechten', 3), ('umgang', 2), ('anderen', 18), ('warnung', 2), ('dieben', 1), ('bauen', 8), ('nester', 1), ('faszinieren', 1), ('krankenwagen', 4), ('krankenhaus', 14), ('ausleihen', 5), ('bissen', 1), ('verschieben', 1), ('springschnurspringen', 1), ('schleife', 1), ('binden', 1), ('rausschmeißen', 5), ('feuern', 2), ('hochheben', 1), ('champagner', 1), ('kokain', 1), ('vergleiche', 1), ('fakten', 4), ('rückgeld', 1), ('verhandlung', 2), ('vertagt', 2), ('lohnt', 6), ('verteidigt', 1), ('hierhergekommen', 4), ('beschäftigten', 3), ('ort', 8), ('genannt', 9), ('rausgeworfen', 2), ('gezeichnet', 1), ('wohntest', 1), ('wohntet', 1), ('wohnten', 2), ('beabsichtigt', 3), ('gewaschen', 14), ('alarmanlage', 2), ('ameisen', 1), ('zuliebe', 1), ('stimmst', 3), ('haustier', 3), ('latein', 3), ('maisgrütze', 2), ('rose', 4), ('verkaufst', 3), ('sahne', 1), ('gewogen', 1), ('relevant', 1), ('enttäusch', 3), ('enttäuschen', 3), ('palme', 1), ('erwähne', 1), ('wiederhol', 1), ('wiederholen', 5), ('menschenseele', 3), ('droh', 1), ('fehle', 3), ('waffen', 7), ('erde', 3), ('mutti', 1), ('mamma', 1), ('busse', 1), ('jede', 10), ('schrien', 2), ('krischen', 1), ('überlebten', 1), ('butter', 6), ('heiz', 1), ('grill', 1), ('teuer', 27), ('brat', 1), ('bratet', 1), ('braten', 1), ('bettfertig', 1), ('decken', 4), ('tempotuch', 2), ('tage', 6), ('—', 1), ('irgendwo', 5), ('geradeaus', 3), ('männern', 4), ('damen', 1), ('hamster', 1), ('jahrestag', 1), ('geläutet', 1), ('heu', 1), ('wohlbehalten', 2), ('rasend', 2), ('erpresste', 2), ('erpresst', 2), ('blockierte', 1), ('honda', 4), ('neigte', 3), ('stock', 3), ('aufgetaucht', 3), ('letztes', 5), ('verstorben', 1), ('abgekratzt', 1), ('abgegeben', 3), ('lotus', 1), ('vase', 4), ('lebensunterhalt', 1), ('erfroren', 2), ('schachtel', 11), ('steckte', 3), ('tipp', 2), ('ermüdete', 2), ('erholte', 2), ('genas', 2), ('ergriff', 6), ('erhängte', 1), ('hängte', 3), ('blonde', 1), ('blondes', 4), ('braune', 7), ('braunes', 3), ('grüne', 3), ('reue', 1), ('kurzes', 4), ('kurze', 9), ('kleine', 14), ('geborener', 2), ('mutiger', 3), ('draufgänger', 2), ('dramatiker', 1), ('physiker', 2), ('echter', 11), ('wissenschaftler', 3), ('ungefähr', 19), ('unrettbar', 2), ('inkompetent', 7), ('unfähig', 2), ('vertrauenswürdig', 2), ('momentan', 2), ('sms', 2), ('beging', 5), ('selbstmord', 3), ('hals', 7), ('abgereist', 2), ('kyoto', 3), ('osaka', 1), ('augenlicht', 3), ('offenbar', 2), ('beiseite', 6), ('hob', 15), ('meilen', 2), ('chinesisch', 5), ('russisch', 2), ('aufgeblieben', 2), ('stahl', 6), ('lehrt', 8), ('freigenommen', 1), ('umgedreht', 2), ('übte', 1), ('verrat', 1), ('verdrehte', 3), ('verstoßen', 3), ('übertreten', 1), ('strahlte', 2), ('ganze', 42), ('äußerst', 9), ('rastete', 2), ('hinwegkommen', 6), ('studienanfänger', 1), ('anfangssemestern', 1), ('hochverschuldet', 1), ('georgia', 1), ('georgien', 1), ('knast', 3), ('sahnt', 1), ('vertrauensselig', 3), ('nägel', 3), ('bitteschön', 1), ('adresse', 16), ('geländer', 1), ('schatz', 1), ('wär’s', 21), ('enttäuschend', 2), ('wende', 2), ('kosten', 4), ('aufenthalt', 4), ('pflichtete', 1), ('ecuador', 1), ('gleichen', 4), ('hamburger', 3), ('bade', 5), ('täglich', 3), ('vwbus', 1), ('bulli', 1), ('kaktus', 1), ('hybridauto', 1), ('plötzlich', 11), ('finger', 13), ('bürstete', 2), ('anbrennen', 1), ('wachschutz', 1), ('wachdienst', 3), ('chopin', 4), ('vorwurf', 9), ('heiraten', 12), ('krieg’', 1), ('fleck', 2), ('einordnen', 1), ('aufs', 7), ('ertrage', 1), ('umentschieden', 1), ('gekriegt', 2), ('app', 2), ('gelöscht', 4), ('verlange', 3), ('rückvergütung', 1), ('besseres', 5), ('universitätsabschluss', 1), ('gekannt', 6), ('steuererklärung', 1), ('werfe', 1), ('pool', 3), ('bedauere', 2), ('durchgefahren', 1), ('klausur', 4), ('schließlich', 3), ('letztendlich', 1), ('schal', 4), ('ausweg', 2), ('note', 1), ('reifenpanne', 1), ('blauen', 1), ('eingefallen', 1), ('unfall', 10), ('interviews', 1), ('vorstellungsgespräche', 1), ('regnerische', 1), ('regentage', 1), ('wüste', 1), ('tochter', 22), ('schnelles', 1), ('schnellen', 1), ('rosa', 5), ('rosafarbenes', 1), ('vorschlag', 5), ('segelboot', 1), ('lösung', 5), ('ohrenschmerzen', 2), ('altes', 8), ('mundgeruch', 1), ('schwarzes', 5), ('vorstehende', 1), ('privatleben', 1), ('sonnenbrille', 2), ('reagieren', 2), ('nichten', 2), ('unterbrach', 2), ('marine', 1), ('hierhergezogen', 1), ('gedrückt', 3), ('fliegt', 3), ('selbstvertrauen', 3), ('herausforderungen', 2), ('volkslieder', 1), ('rockmusik', 1), ('sandwiches', 1), ('sauerkraut', 2), ('farben', 6), ('modell', 4), ('stil', 9), ('komfortabel', 2), ('scharfes', 4), ('photo', 2), ('laden', 6), ('feilsche', 1), ('serie', 1), ('minuten', 7), ('kalender', 1), ('tastatur', 1), ('zahnpasta', 1), ('gemocht', 10), ('verschlafe', 1), ('verdanke', 3), ('football', 1), ('zerrung', 1), ('zugezogen', 3), ('ampel', 6), ('treibstoff', 2), ('hügel', 7), ('empfohlen', 3), ('sonnenaufgang', 3), ('geschaut', 1), ('mitteilen', 1), ('unterschrieb', 7), ('formular', 1), ('käfer', 1), ('verschluckt', 1), ('erdkundelehrer', 1), ('erdkundelehrerin', 1), ('deucht', 1), ('highway', 1), ('58', 2), ('fernstraße', 1), ('gerächt', 1), ('gewöhnlich', 4), ('wasserbett', 1), ('teller', 4), ('hereinkommen', 6), ('jacke', 7), ('mitgefühl', 1), ('sympathie', 1), ('pfadfinder', 3), ('schüchternes', 1), ('fremder', 3), ('entmutigt', 2), ('dämmerte', 1), ('zurückgelassen', 3), ('überwältigt', 1), ('geträumt', 4), ('herumgeschäkert', 1), ('aufgewacht', 3), ('lotto', 3), ('anziehen', 5), ('arbeitszeit', 3), ('montags', 1), ('ausführen', 2), ('besorge', 1), ('zurückgeben', 1), ('hinkriegen', 1), ('freilassen', 1), ('überraschen', 1), ('verständigen', 1), ('feuerwehrfrau', 1), ('opa', 2), ('sportlehrer', 1), ('sportlehrerin', 1), ('frisör', 1), ('verheirateter', 4), ('geduldiger', 3), ('völliges', 2), ('wrack', 4), ('astronom', 1), ('einzelkind', 8), ('gedulde', 1), ('gewissenhaft', 4), ('erwarte', 8), ('baff', 2), ('springe', 2), ('unersetzlich', 4), ('austauschbar', 1), ('lediglich', 3), ('vermute', 4), ('fanatikerin', 1), ('spielerin', 1), ('ungeheuer', 3), ('monster', 2), ('hellsehen', 1), ('stalker', 1), ('künstlerin', 2), ('religiös', 3), ('eigentümer', 2), ('eigentümerin', 1), ('besitzerin', 1), ('allzu', 10), ('dienstmädchen', 1), ('altmodisch', 2), ('schwebe', 2), ('siebten', 1), ('wolke', 1), ('atem', 10), ('direkt', 6), ('unwohl', 2), ('kunden', 5), ('nachbar', 7), ('mitbewohner', 4), ('mitbewohnerin', 2), ('vertrieben', 1), ('marias', 18), ('kuckt', 1), ('also', 6), ('reines', 4), ('ausgangssperre', 1), ('sperrstunde', 1), ('belohnung', 2), ('tödlich', 1), ('zerfiel', 1), ('stücke', 2), ('angegossen', 1), ('richtungen', 1), ('wiederholt', 1), ('abgekühlt', 1), ('notlüge', 1), ('sonnig', 1), ('ägyptisch', 1), ('geregnet', 4), ('pausenlos', 1), ('ununterbrochen', 1), ('bedrückend', 3), ('deprimierend', 2), ('beeindruckend', 5), ('reinste', 1), ('chaos', 2), ('geplant', 6), ('ungeplant', 2), ('wächst', 5), ('verwirren', 3), ('20', 4), ('büro', 18), ('bißchen', 1), ('fettig', 3), ('wacklig', 1), ('frachtschiff', 1), ('frachter', 1), ('bewölkter', 1), ('wörterbuch', 9), ('immerhin', 1), ('anfang', 3), ('tolle', 8), ('angenehmer', 3), ('holder', 1), ('nette', 8), ('blödes', 1), ('wahre', 11), ('notfall', 4), ('hässliche', 1), ('wolkig', 2), ('vertraulich', 1), ('kälter', 2), ('ausgabe', 1), ('thema', 7), ('unverkäuflich', 1), ('teil', 12), ('lebens', 2), ('möglichkeit', 3), ('schlafenszeit', 1), ('aufzuhören', 4), ('inakzeptabel', 2), ('heia', 1), ('leg’s', 1), ('weiterraten', 1), ('merke', 2), ('rechten', 3), ('entwischen', 1), ('strohhalme', 4), ('beschleunigen', 2), ('drängeln', 1), ('aufbrechen', 4), ('personalausweis', 4), ('reichen', 4), ('ausflug', 2), ('unternehmen', 4), ('entzünden', 2), ('sterne', 4), ('vorhersage', 4), ('hebamme', 1), ('lebhaft', 2), ('segnen', 1), ('meisten', 2), ('schmutzige', 2), ('gebunden', 1), ('entlaufen', 2), ('abgestürzt', 4), ('notebook', 2), ('brett', 2), ('hirn', 1), ('leergefegt', 1), ('vibrierte', 1), ('schweinestall', 1), ('schulterschmerzen', 2), ('schultern', 4), ('widerstehen', 3), ('beschwerte', 2), ('traut', 5), ('wettet', 3), ('sichtweite', 1), ('sicht', 1), ('bemerkte', 2), ('erkenne', 7), ('überredet', 1), ('gegensätze', 1), ('methode', 1), ('bezahl', 1), ('beschuldigten', 1), ('informiere', 1), ('verhalte', 1), ('einpacken', 1), ('packen', 6), ('packe', 3), ('mir’s', 2), ('bind', 1), ('schürze', 2), ('masken', 2), ('lege', 9), ('belästigen', 3), ('zeitverschwendung', 3), ('vergeude', 3), ('duften', 1), ('kommenden', 2), ('lautstark', 1), ('entschied', 6), ('hinzugehen', 1), ('treibt', 3), ('frühaufsteherin', 2), ('bild', 21), ('blaue', 7), ('attraktiv', 6), ('einunddreißig', 2), ('asozial', 1), ('umgeschaut', 1), ('ausgesehen', 5), ('drängte', 1), ('französin', 2), ('polnisch', 1), ('rausgeschmissen', 2), ('schmiss', 1), ('depressionen', 1), ('modebewusst', 4), ('argument', 1), ('überaktiv', 1), ('badewanne', 3), ('vertrag', 6), ('unterschreibt', 1), ('schweigen', 3), ('seide', 3), ('faultiere', 1), ('löse', 1), ('irgendwie', 12), ('dazwischengekommen', 1), ('netze', 2), ('weben', 1), ('stehlen', 3), ('quälen', 1), ('rumzumachen', 1), ('nachzulaufen', 1), ('unterbrechungen', 1), ('augenblicklich', 1), ('wäsche', 5), ('pillen', 1), ('ratschlag', 2), ('gefangenen', 1), ('hiervon', 4), ('medizin', 2), ('nächsten', 14), ('freunden', 11), ('termiten', 1), ('herzen', 3), ('nachfrage', 2), ('unverzichtbar', 2), ('essentiell', 1), ('prächtig', 2), ('wundert', 1), ('armselig', 1), ('schwerer', 2), ('tanne', 1), ('tannenbaum', 1), ('gürtellinie', 1), ('wetten', 3), ('ersten', 4), ('supereinfach', 1), ('schreckenerregend', 1), ('richtige', 12), ('einstellung', 4), ('gürtel', 1), ('düsten', 1), ('frisst', 2), ('scheck', 10), ('geplatzt', 1), ('takt', 1), ('publikum', 2), ('knarrte', 2), ('spalt', 1), ('dreht', 2), ('erlosch', 3), ('klemmt', 3), ('pistole', 7), ('ladehemmung', 1), ('heimmannschaft', 1), ('stumpf', 3), ('zitrone', 1), ('deckel', 1), ('augenlid', 1), ('liebenden', 1), ('markt', 2), ('konferenz', 1), ('endete', 5), ('meeting', 2), ('erschütterte', 1), ('schiff', 13), ('soldaten', 5), ('strahlt', 1), ('ausgeschaltet', 5), ('taktik', 2), ('funktionierte', 4), ('kofferraum', 3), ('urteil', 1), ('schlimmste', 3), ('überstanden', 1), ('götter', 1), ('glaubten', 1), ('erröteten', 1), ('schoben', 1), ('tranken', 4), ('fühlten', 1), ('bedroht', 10), ('folgten', 1), ('jagten', 1), ('füchse', 1), ('gekidnappt', 1), ('folterten', 1), ('keuchten', 1), ('gernhaben', 2), ('kannibalen', 1), ('identisch', 1), ('mörder', 7), ('wundervoll', 3), ('mitgenommen', 1), ('ihrige', 1), ('ihrs', 3), ('undicht', 2), ('betrifft', 6), ('brennen', 2), ('kokosnuss', 1), ('adverb', 1), ('berechtigt', 1), ('gerechtfertigt', 1), ('unbezahlbar', 1), ('haltestelle', 3), ('silber', 1), ('sonnabend', 2), ('donnerstag', 2), ('zurückgeantwortet', 1), ('frühstückte', 2), ('keks', 6), ('keuchen', 1), ('gezwinkert', 1), ('geliehen', 7), ('ausgeborgt', 1), ('zuzusehen', 1), ('bewältigen', 1), ('gesichtsfarbe', 1), ('rückzieher', 4), ('behauptet', 3), ('betracht', 2), ('gehustet', 1), ('verlangte', 1), ('verschmäht', 1), ('abgekauft', 2), ('widerstand', 2), ('kehrte', 5), ('gelitten', 1), ('bettler', 1), ('kürzlich', 1), ('starker', 4), ('suv', 1), ('gefärbt', 1), ('hastig', 3), ('schafe', 5), ('zurückgestoßen', 1), ('abgestoßen', 1), ('behoben', 2), ('zugenommen', 8), ('gewicht', 2), ('bewertet', 1), ('sonnenbrand', 4), ('rhabarber', 1), ('anfall', 1), ('gefrühstückt', 4), ('windows', 1), ('7', 3), ('falschen', 2), ('hohen', 2), ('iq', 1), ('ruderboot', 2), ('allergien', 3), ('iphone', 1), ('arthritis', 1), ('hautfarbe', 1), ('plattfüße', 1), ('unentschuldigt', 1), ('arme', 6), ('andere', 25), ('potenzial', 1), ('möhren', 5), ('joggt', 1), ('ahmte', 1), ('bücherwurm', 2), ('diplomat', 2), ('braves', 2), ('artiges', 1), ('braver', 1), ('juwelier', 1), ('sprachwissenschaftler', 1), ('linguist', 1), ('mechaniker', 1), ('pfarrer', 2), ('kerl', 14), ('sträfling', 1), ('halbes', 2), ('reporter', 1), ('großgewachsener', 1), ('hochgewachsener', 1), ('telepath', 1), ('virtuose', 1), ('kriegsheld', 1), ('dilettant', 1), ('analytisch', 1), ('redegewandt', 1), ('großkopfig', 1), ('schielt', 1), ('mutlos', 1), ('diplomatisch', 1), ('widerlich', 2), ('unbekümmert', 1), ('entbehrlich', 2), ('gesellig', 3), ('gelegt', 3), ('hitzkopf', 1), ('unentschlossen', 3), ('indiskret', 2), ('unfehlbar', 2), ('unflexibel', 1), ('einsichtig', 1), ('aufschlussreich', 1), ('intolerant', 1), ('marmelade', 3), ('meditiert', 2), ('methodisch', 1), ('sorgfältig', 2), ('akribisch', 1), ('bewegungslos', 1), ('tomás', 1), ('verlobter', 1), ('stiefpapa', 2), ('stiefsohn', 2), ('mysteriös', 1), ('alten', 4), ('kunde', 2), ('ältester', 2), ('empörend', 1), ('leidenschaftlich', 1), ('photogen', 1), ('dickköpfig', 1), ('besitzergreifend', 2), ('produktiv', 1), ('unerbittlich', 1), ('bemerkenswert', 2), ('reumütig', 1), ('respektvoll', 1), ('probe', 1), ('anführer', 2), ('nachdenklich', 3), ('betroffen', 2), ('unschlagbar', 2), ('unbeirrt', 1), ('entkleidet', 1), ('unangenehm', 1), ('unvorbereitet', 1), ('unbegabt', 2), ('offenherzig', 1), ('fromm', 1), ('verletzlich', 2), ('einzelgänger', 2), ('bergarbeiter', 2), ('heiratsantrag', 2), ('abgehauen', 1), ('behält', 1), ('putzte', 6), ('kroch', 2), ('klopfte', 1), ('geklopft', 1), ('einfühlungsvermögen', 1), ('gewichte', 1), ('blondhaarige', 1), ('blondinen', 1), ('zeltet', 1), ('landwirtschaft', 1), ('hummer', 2), ('wurst', 1), ('eislaufen', 1), ('surft', 2), ('bowling', 4), ('wohnte', 3), ('schuldbewusst', 1), ('mutet', 1), ('ausgezehrt', 1), ('zappelig', 1), ('verdutzt', 3), ('geschockt', 3), ('dünner', 1), ('geduld', 6), ('angelte', 1), ('risotto', 1), ('rituale', 1), ('pfannkuchen', 1), ('missverstanden', 2), ('missverstand', 1), ('agiert', 1), ('klamotten', 2), ('ausgezahlt', 1), ('schuldet', 6), ('miete', 4), ('spähte', 1), ('bäume', 5), ('gepflanzt', 3), ('kricket', 1), ('vergiftete', 2), ('kandidierte', 2), ('bürgermeisteramt', 1), ('kandidat', 1), ('pfanne', 2), ('verpfiffen', 1), ('reagierte', 2), ('mietete', 2), ('fünfundsechzig', 1), ('erwiderte', 3), ('\\u200b\\u200bund', 1), ('rettung', 1), ('schmerze', 1), ('bestrebt', 1), ('spürte', 2), ('hierhergeschickt', 1), ('servierte', 3), ('deckte', 1), ('wechselte', 5), ('gänge', 1), ('gangart', 1), ('schief', 5), ('ausfallen', 1), ('freien', 1), ('geklungen', 4), ('hockte', 2), ('versetzt', 1), ('steif', 2), ('drohte', 4), ('weggeworfen', 3), ('ausgeführt', 1), ('angebissen', 1), ('reist', 9), ('videoband', 1), ('aufgezeichnet', 1), ('spuckte', 2), ('erbrach', 1), ('schwor', 1), ('hineingegangen', 2), ('gassi', 2), ('lösungen', 1), ('verlangt', 4), ('respekt', 4), ('ergebnisse', 2), ('sinnt', 1), ('updates', 1), ('trachtet', 1), ('ungezogenes', 1), ('durchsetzungsstark', 1), ('verprügelt', 1), ('brillant', 1), ('bekümmert', 1), ('hocherfreut', 1), ('unbeschwert', 1), ('koma', 4), ('not', 2), ('elend', 1), ('abschied', 1), ('clubben', 1), ('besiegen', 4), ('gestehen', 1), ('filzhut', 1), ('smoking', 3), ('leuchten', 2), ('fantasievoll', 2), ('kinnlade', 1), ('stinkt’s', 2), ('zahltag', 2), ('wechsle', 2), ('kanal', 1), ('biege', 1), ('winterschlaf', 1), ('acrylfarbe', 1), ('nutzt', 2), ('rastet', 1), ('rostet', 1), ('venus', 1), ('findest', 8), ('ausschau', 2), ('flüssigkeit', 1), ('verabredet', 1), ('fordern', 3), ('sturzbetrunken', 3), ('stiegen', 1), ('voreinander', 1), ('zulieferer', 1), ('lernten', 2), ('ließen', 2), ('sehnen', 1), ('suchten', 2), ('parks', 1), ('spenden', 2), ('wahrlich', 1), ('kanu', 2), ('gemietet', 2), ('streben', 1), ('garten', 17), ('schlacht', 1), ('befragen', 1), ('konsultieren', 1), ('wirken', 3), ('wehrlos', 2), ('schutzlos', 2), ('trauer', 2), ('journalisten', 1), ('ausdauernd', 1), ('losfahren', 3), ('bestohlen', 1), ('0', 1), ('warme', 1), ('kleider', 1), ('depp', 1), ('großartige', 5), ('großartiger', 6), ('einfall', 1), ('herrlicher', 1), ('ausgesucht', 4), ('hattet', 4), ('angehabt', 3), ('denkst', 12), ('wiegst', 2), ('wiegen', 2), ('wiegt', 4), ('bittet', 2), ('bastelt', 1), ('sack', 2), ('woraus', 9), ('hauptfach', 5), ('stellst', 1), ('105', 1), ('flugsteig', 1), ('brandy', 1), ('einladung', 6), ('rückerstattung', 3), ('wodka', 3), ('hergestellt', 4), ('mona', 1), ('lisa', 1), ('verantwortung', 1), ('„befriedigend“', 1), ('gibst', 7), ('verkehrt', 2), ('sowas', 3), ('lust', 7), ('mitzumachen', 1), ('entzündlich', 1), ('brennbar', 1), ('schauspielerinnen', 1), ('solcher', 2), ('kamst', 1), ('beantworten', 4), ('verneinen', 1), ('verfehlen', 4), ('hättest', 7), ('europäisch', 3), ('japanisch', 6), ('irritiert', 3), ('fabelhaft', 1), ('umwerfend', 4), ('atemberaubend', 1), ('sahst', 1), ('bringst', 3), ('zauberst', 1), ('dürft', 7), ('ausgelassen', 2), ('sinnen', 2), ('benötigen', 10), ('rufst', 1), ('stress', 3), ('nimmst', 5), ('mörderin', 2), ('widerwärtig', 1), ('ekelerregend', 1), ('ungebildet', 1), ('steckst', 1), ('veralberst', 1), ('sicherer', 1), ('ferkel', 1), ('schwein', 8), ('erzählst', 1), ('expertin', 2), ('fachfrau', 1), ('gekratzt', 1), ('aufstand', 2), ('verwirre', 3), ('weiterer', 1), ('verging', 2), ('beantworte', 3), ('beantwortet', 1), ('mahlzeiten', 3), ('inbegriffen', 3), ('inkludiert', 1), ('buddhist', 2), ('gläubig', 1), ('krimineller', 2), ('gewaffnet', 1), ('spinnt', 2), ('befinden', 2), ('überdrüssig', 2), ('dessen', 7), ('verwendest', 1), ('vegetarier', 5), ('vegetarierin', 1), ('kalte', 4), ('enthält', 2), ('hopfen', 1), ('zwitschern', 2), ('kissen', 4), ('schläger', 2), ('mieten', 3), ('aufheben', 1), ('noten', 5), ('weiterlaufen', 1), ('kaltes', 1), ('beherrscht', 1), ('beherrschen', 1), ('lohnen', 1), ('befasse', 1), ('bestochen', 1), ('hierfür', 1), ('bedankt', 4), ('überprüft', 8), ('nachgeprüft', 4), ('rechtsanwältin', 2), ('genäht', 2), ('klinge', 1), ('blog', 3), ('ehepartner', 2), ('irgendeinen', 1), ('sprichst', 5), ('mozart', 4), ('roboter', 3), ('mitfahrgelegenheit', 3), ('happen', 1), ('zahnfleischbluten', 1), ('erkälte', 3), ('abhängig', 1), ('verlegenheit', 3), ('versteh', 1), ('paranoid', 1), ('enttäusche', 2), ('gekränkt', 1), ('szene', 1), ('mucks', 2), ('zwing', 3), ('zwingt', 1), ('zwingen', 3), ('verpass', 1), ('gönnerhaft', 3), ('spare', 1), ('leutseliges', 1), ('dummheiten', 1), ('blödsinn', 4), ('weitersagen', 1), ('steine', 2), ('könig', 6), ('zerronnen', 1), ('rückseite', 2), ('gerieten', 1), ('drehten', 1), ('zögerten', 1), ('einzigartig', 2), ('leeren', 1), ('felder', 1), ('füllt', 1), ('lücken', 1), ('füllen', 1), ('formularfelder', 1), ('wichtigste', 1), ('bedanke', 1), ('beispiel', 10), ('gib\\xa0mir', 1), ('erschieß', 1), ('helm', 6), ('stufen', 2), ('fernbedienung', 1), ('fröhliches', 1), ('erntedankfest', 1), ('flug', 14), ('erlitten', 1), ('riet', 2), ('rechtzeitig', 9), ('erkundigt', 3), ('bat', 25), ('spitze', 4), ('meile', 2), ('radfahren', 2), ('zwang', 4), ('überholt', 1), ('alzheimer', 2), ('schwaches', 1), ('klappe', 8), ('langen', 9), ('fettiges', 1), ('fußschritte', 1), ('autofahrer', 2), ('einfacher', 4), ('kriegswaise', 1), ('arbeitstier', 2), ('fbiagent', 2), ('klassenkamerad', 2), ('kommilitone', 1), ('arbeitskollege', 1), ('kollege', 2), ('scharfen', 3), ('herzlos', 1), ('handkuss', 1), ('urteilsvermögen', 1), ('luxus', 1), ('temperament', 3), ('durchgegangen', 2), ('aufmerksamkeit', 6), ('schwatzen', 3), ('liebend', 2), ('verreist', 3), ('müsste', 4), ('berührte', 3), ('nutzte', 1), ('gefälschten', 2), ('zuneigung', 1), ('„ipad\\xa04“', 2), ('vergeltung', 2), ('allmählich', 5), ('siebzig', 1), ('kilo', 2), ('weitergearbeitet', 2), ('kreationist', 1), ('dreckiger', 3), ('phantomschreiber', 1), ('abstinenzler', 1), ('vollkommenes', 1), ('wohlhabender', 3), ('morgenaktiver', 1), ('ehrlicher', 5), ('bodenständig', 1), ('kartenspiel', 1), ('selbständig', 1), ('schilde', 3), ('anmarsch', 2), ('zerrissen', 1), ('ruß', 1), ('papiere', 5), ('unterlagen', 1), ('anschrift', 2), ('hi', 1), ('besiegelt', 1), ('erkaltet', 1), ('schritte', 2), ('bewerkstelligt', 2), ('verwirklichen', 1), ('umsetzen', 1), ('standet', 1), ('wirtschaftslage', 2), ('ich’s', 4), ('eheleben', 2), ('angebot', 15), ('berate', 1), ('willigte', 2), ('portugal', 1), ('grille', 1), ('prophet', 1), ('183', 1), ('m', 1), ('meter', 2), ('dreiundachtzig', 1), ('vorausgesehen', 1), ('pro', 4), ('magie', 2), ('tshirt', 3), ('bestätigen', 8), ('aushelfen', 1), ('vorstellen', 8), ('reiten', 3), ('radel', 1), ('vertrage', 2), ('ausschließen', 2), ('hereinlassen', 3), ('anlügen', 4), ('sünde', 1), ('code', 1), ('geknackt', 1), ('scheinheiligkeit', 1), ('bezweifele', 3), ('tablett', 2), ('heruntergefallen', 2), ('runtergefallen', 2), ('betrat', 2), ('höhle', 3), ('elendiglich', 1), ('befürchtete', 2), ('hundekalt', 1), ('becken', 2), ('heftigen', 1), ('hinreißen', 1), ('lampenfieber', 2), ('haufen', 3), ('reichte', 4), ('unanständige', 1), ('augenbrauen', 1), ('fernzusehen', 1), ('schwarzen', 3), ('blaues', 3), ('festen', 2), ('beschwerde', 5), ('reklamation', 2), ('aquarium', 1), ('glasauge', 1), ('grünes', 3), ('kleines', 9), ('zahnschmerzen', 4), ('zahnweh', 1), ('fettige', 1), ('eigenes', 8), ('geschwister', 5), ('feinmachen', 1), ('kriegen', 3), ('proben', 1), ('weglaufen', 6), ('abhauen', 2), ('kameras', 3), ('fotoapparate', 2), ('cousinen', 5), ('explosionen', 1), ('kreischen', 2), ('schulter', 3), ('jogge', 1), ('email', 8), ('umgelegt', 1), ('witwe', 1), ('weiss', 1), ('vorstellungsvermögen', 1), ('unverschlossen', 1), ('la', 1), ('liebsten', 3), ('kerzenlicht', 2), ('diskomusik', 1), ('pferderennen', 1), ('himbeeren', 1), ('tomatensuppe', 1), ('armut', 1), ('sehne', 1), ('anstellung', 3), ('autoschlüssel', 8), ('regenschirm', 14), ('verlegt', 1), ('koreanisches', 1), ('apfelwein', 1), ('bärtige', 1), ('schmetterlinge', 1), ('märchen', 1), ('ziegenkäse', 2), ('sommerregen', 1), ('übersetze', 2), ('videospiele', 3), ('versprechungen', 2), ('oftmals', 1), ('verfehlt', 2), ('letzten', 9), ('monat', 8), ('mähte', 3), ('tätigen', 1), ('moneten', 1), ('mauspad', 1), ('mausunterlage', 1), ('stoppuhr', 1), ('freiwilligen', 2), ('briefumschlag', 2), ('körperlotion', 1), ('handcreme', 1), ('informationen', 2), ('inspiration', 4), ('gläser', 3), ('dahinterkommen', 2), ('häufig', 4), ('eingesteckt', 3), ('ideen', 5), ('comichefte', 1), ('neulich', 2), ('freigehalten', 3), ('unlängst', 1), ('bilder', 3), ('dusche', 11), ('stunden', 6), ('psychologie', 1), ('glaub', 2), ('nachgedacht', 5), ('wüsstest', 2), ('dableiben', 2), ('kümmerte', 3), ('reiste', 6), ('per', 6), ('pedes', 1), ('unversucht', 1), ('stecker', 5), ('fernsehers', 2), ('herausgezogen', 1), ('bulle', 1), ('streicheltiger', 1), ('details', 2), ('singst', 5), ('dableibst', 1), ('dableibt', 1), ('aufhörst', 3), ('wartest', 1), ('dickliches', 1), ('ironisch', 3), ('1972', 1), ('1979', 1), ('1980', 1), ('1982', 1), ('1988', 2), ('gezwungen', 2), ('verhört', 1), ('stinklangweilig', 1), ('heidenangst', 3), ('wiege', 3), ('130', 1), ('verneint', 2), ('kochbuch', 1), ('begleiten', 17), ('herbringen', 1), ('küchenchef', 1), ('kürze', 1), ('ess', 1), ('loswerden', 4), ('gieße', 1), ('decke', 3), ('eingehen', 2), ('überlege', 1), ('verlobte', 2), ('vormund', 1), ('vermieter', 1), ('nachbarin', 4), ('städter', 1), ('schwimmer', 6), ('lausiger', 1), ('fotograf', 1), ('drehbuchautor', 2), ('lastwagenfahrerin', 1), ('lasterfahrerin', 1), ('furcht', 3), ('hunden', 13), ('kunststudent', 1), ('bibliothek', 7), ('klaustrophob', 2), ('ihretwegen', 1), ('singapur', 1), ('zustimmst', 1), ('zuzuhören', 2), ('wanne', 1), ('urlaubsreisender', 1), ('puffmais', 1), ('socke', 2), ('kriminelle', 1), ('sklave', 2), ('arbeitsfrei', 2), ('balkon', 2), ('überwunden', 1), ('verdaut', 1), ('französischen', 4), ('anzufangen', 3), ('geldmangel', 1), ('schuldige', 2), ('doppelt', 3), ('getäuscht', 5), ('berg', 5), ('fuji', 7), ('unwissenheit', 1), ('seligkeit', 1), ('feiert', 4), ('kompliment', 2), ('reparatur', 2), ('eichhörnchen', 4), ('überhaupt', 43), ('geladen', 4), ('echtes', 2), ('brücke', 3), ('angekettet', 1), ('recyclebar', 1), ('wiederverwertbar', 1), ('handtasche', 8), ('nimmer', 1), ('streich', 1), ('hoax', 1), ('leichter', 5), ('vergleichbares', 1), ('schmerzhaft', 2), ('großem', 1), ('nutzen', 1), ('eimern', 1), ('schüttet', 1), ('vorzüglich', 1), ('beseitigen', 3), ('wegschaffen', 1), ('tagelang', 2), ('schwierige', 5), ('traurige', 3), ('handgefertigt', 1), ('faszinierend', 2), ('hypnotisierend', 1), ('verhindert', 1), ('spießig', 1), ('persönliches', 1), ('profil', 1), ('kubanische', 1), ('zigarre', 1), ('französisches', 1), ('grausame', 1), ('regelung', 1), ('bewiesene', 1), ('ablenkungsmanöver', 1), ('dumme', 2), ('blöde', 4), ('tippfehler', 2), ('druckfehler', 1), ('unklare', 1), ('experiment', 3), ('ecke', 3), ('jenseits', 2), ('vernunft', 1), ('kühlschrank', 6), ('messing', 3), ('gefertigt', 2), ('erstes', 3), ('unpersönlich', 1), ('überfüllt', 1), ('unvergesslich', 2), ('beunruhigend', 2), ('weitem', 1), ('europa', 5), ('griechenland', 1), ('konfitüre', 1), ('urteile', 2), ('betreten', 1), ('rasens', 1), ('wäschewaschen', 1), ('hausarbeit', 1), ('gesetze', 1), ('lektion', 3), ('anschauen', 5), ('verzichten', 3), ('empor', 1), ('ausgerechnet', 1), ('unvernunft', 1), ('gewendet', 1), ('widmet', 1), ('glasierte', 1), ('kellnerin', 2), ('sopran', 1), ('vergelte', 1), ('dir’s', 2), ('vergelten', 1), ('nahrhaft', 2), ('feiertag', 4), ('endgültig', 5), ('akku', 2), ('toyota', 2), ('krabbeln', 1), ('versiegelt', 1), ('raste', 2), ('„warum“', 1), ('magen', 2), ('ists', 1), ('achtete', 2), ('angeles', 1), ('wünscht', 4), ('währt', 2), ('offiziell', 2), ('lehrern', 1), ('koffer', 11), ('liegengeblieben', 1), ('projekt', 2), ('fehl', 2), ('misslang', 2), ('bambus', 1), ('schäle', 3), ('gurken', 7), ('schält', 1), ('sprunghaft', 1), ('spielsachen', 3), ('verband', 1), ('spar', 2), ('kraft', 3), ('schulen', 3), ('meerwasser', 1), ('salzig', 4), ('luftpost', 5), ('senden', 1), ('postkarte', 3), ('schütteln', 1), ('rasur', 1), ('text', 4), ('hühnerfleich', 1), ('tauchte', 4), ('gleichmäßige', 1), ('manieren', 2), ('zauberin', 1), ('stammt', 3), ('hinterließ', 1), ('antiquitäten', 2), ('star', 1), ('pflückte', 1), ('gedroht', 1), ('reize', 1), ('pfiffiges', 1), ('intelligentes', 1), ('alkoholikerin', 1), ('besprechung', 2), ('somalia', 2), ('klassenkameradin', 2), ('kommilitonin', 2), ('patentante', 2), ('patin', 1), ('dreiunddreißig', 1), ('auszubessern', 1), ('ständig', 9), ('versagern', 1), ('herumzualbern', 1), ('anzuschauen', 1), ('anzustarren', 2), ('anzuschreien', 4), ('kitzelt', 2), ('op', 1), ('maske', 5), ('mittel', 1), ('anwälten', 1), ('hinweis', 4), ('überraschend', 4), ('schmackhaft', 1), ('jahren', 3), ('wär', 1), ('männerarbeit', 1), ('hübscher', 2), ('hübsches', 6), ('totale', 1), ('trottel', 5), ('nervig', 1), ('botschaft', 4), ('auslöser', 2), ('unvermeidbar', 1), ('deshalb', 11), ('wecker', 3), ('geklingelt', 3), ('„ja“', 2), ('achse', 1), ('kneipe', 2), ('proppenvoll', 1), ('stall', 1), ('scheune', 4), ('weggeflogen', 2), ('altbacken', 1), ('summer', 1), ('panne', 1), ('konzert', 7), ('krähe', 5), ('fortgeflogen', 1), ('dannen', 1), ('disko', 1), ('hechelt', 1), ('türknauf', 2), ('wirtschaft', 1), ('flamme', 1), ('gelichtet', 1), ('tratschten', 1), ('eingestürzt', 1), ('geschmolzen', 2), ('schmilzt', 2), ('taut', 1), ('hell', 3), ('piepste', 1), ('ozean', 2), ('papagei', 1), ('teich', 4), ('zugefroren', 4), ('drucker', 2), ('papierstau', 2), ('manipuliert', 2), ('fels', 1), ('server', 2), ('ausgefallen', 2), ('hemden', 4), ('signal', 1), ('lichtete', 1), ('feuerten', 1), ('gelöst', 5), ('umgefallen', 2), ('wellen', 1), ('verfault', 1), ('weht', 4), ('worte', 2), ('wörter', 2), ('adoptierten', 1), ('ringer', 1), ('hergebeten', 1), ('krochen', 1), ('fanden', 1), ('ausgelacht', 2), ('alleingelassen', 1), ('heimlich', 1), ('liefen', 4), ('umher', 1), ('umhergelaufen', 1), ('antun', 5), ('nelken', 1), ('überall', 10), ('ausländerinnen', 2), ('cousine', 8), ('harte', 3), ('kerle', 3), ('garnichts', 1), ('zottelig', 1), ('ergebnis', 2), ('spiels', 1), ('ali', 1), ('alis', 1), ('straßenkarte', 1), ('empfinde', 2), ('meiste', 1), ('gatte', 4), ('diebstahl', 2), ('geistigen', 1), ('eigentums', 1), ('misslich', 1), ('ordinär', 1), ('erdboden', 1), ('unterhose', 2), ('tacos', 1), ('stoßen', 1), ('binde', 2), ('schnürsenkel', 3), ('schrauben', 3), ('drehen', 1), ('fraß', 3), ('schnarchen', 4), ('schweinefleisch', 5), ('aushalten', 5), ('erwischte', 2), ('forelle', 3), ('tröstete', 1), ('überzeugte', 1), ('riss', 1), ('stapel', 1), ('abgestritten', 2), ('angetan', 4), ('verhungerte', 2), ('hungers', 2), ('fleckfieber', 1), ('sondern', 3), ('leistet', 4), ('schnallt', 2), ('verwendet', 1), ('zeichnete', 2), ('schneemann', 5), ('floh', 1), ('kanada', 2), ('befolgt', 1), ('rang', 1), ('wacker', 1), ('kappe', 1), ('beraten', 1), ('besorgte', 1), ('erhängt', 1), ('coolen', 1), ('pferdeschwanz', 1), ('wampe', 1), ('waschbrettbauch', 1), ('dreirad', 1), ('rücklagen', 1), ('dichtes', 1), ('schreiten', 1), ('differential', 1), ('integralrechnung', 1), ('zielscheibe', 1), ('steinbock', 1), ('barkeeper', 1), ('imker', 1), ('bienenzüchter', 1), ('züchtet', 2), ('esser', 4), ('kapee', 1), ('geborene', 2), ('wackerer', 1), ('kommunist', 2), ('fröhlicher', 1), ('landei', 1), ('hinterwäldler', 1), ('bibliothekar', 1), ('nerd', 1), ('kanaille', 1), ('schnorchler', 1), ('sozialist', 1), ('zweiten', 1), ('studienjahr', 1), ('terrorist', 1), ('zäher', 1), ('wahrer', 5), ('frauenheld', 1), ('schürzenjäger', 1), ('zoowärter', 1), ('angestellter', 1), ('optiker', 1), ('streitlustig', 2), ('rücksichtsvoll', 1), ('kooperiert', 2), ('new', 2), ('yorker', 1), ('hyperaktiv', 1), ('besserung', 3), ('wege', 3), ('hof', 1), ('unsensibel', 1), ('belügt', 2), ('jagd', 2), ('pessimistisch', 1), ('relativ', 1), ('launenhaft', 1), ('schwächlich', 1), ('superschnell', 2), ('stalkt', 1), ('splitternackt', 1), ('splitterfasernackt', 2), ('begriffsstutzig', 1), ('übergibt', 1), ('guckt', 3), ('entführte', 1), ('bewusst', 2), ('gutem', 1), ('lacrosse', 1), ('makkaroni', 1), ('rothaarige', 1), ('93', 1), ('97', 1), ('innenstadt', 2), ('partylöwe', 3), ('veranlasste', 1), ('abgelegt', 4), ('bereitete', 4), ('meint’s', 1), ('melkte', 1), ('kuh', 3), ('theaters', 1), ('vermutlich', 1), ('haaren', 4), ('lüftete', 1), ('orchideen', 1), ('nachgelaufen', 1), ('beruhigte', 2), ('empfehlung', 1), ('ausgesprochen', 2), ('wohltätigkeitsorganisation', 1), ('charity', 1), ('beleibt', 1), ('salzte', 1), ('anspannung', 1), ('schickte', 7), ('rudern', 1), ('schwingt', 1), ('schluckte', 2), ('beigebracht', 10), ('versetzte', 1), ('schrecken', 2), ('dankte', 2), ('gereist', 4), ('feuerrot', 1), ('aufgefunden', 1), ('klemme', 2), ('ausgestoßen', 1), ('geächtet', 1), ('geschubst', 1), ('speichelte', 1), ('ulkig', 1), ('verspürte', 1), ('schwenkte', 1), ('kontaktlinsen', 2), ('geknickt', 1), ('zurückrufen', 3), ('anwenden', 1), ('zugezwinkert', 1), ('kostenloses', 2), ('zugeben', 1), ('testament', 1), ('weiteten', 1), ('wehte', 3), ('brummte', 1), ('niedrigen', 1), ('alarm', 4), ('ton', 1), ('lautstärke', 1), ('uranus', 1), ('instinkt', 5), ('geschmeckt', 1), ('gereicht', 1), ('spass', 1), ('überein', 1), ('fertigwerden', 1), ('haltmachen', 1), ('mieteten', 2), ('hindurch', 3), ('kilometerweit', 1), ('lebend', 3), ('weizen', 2), ('nahrungsmittel', 1), ('beenden', 2), ('unterbinden', 1), ('einstellen', 1), ('einhalt', 1), ('gebieten', 1), ('arretieren', 1), ('einander', 11), ('getätigt', 2), ('anzukommen', 1), ('ausfahrt', 1), ('abfahrt', 1), ('achtsam', 1), ('zusätzliche', 1), ('freiwillige', 1), ('gezeltet', 1), ('zelt', 1), ('begannen', 1), ('kino', 4), ('amüsierten', 4), ('massel', 1), ('fahrgäste', 1), ('weile', 2), ('konservativ', 3), ('enthusiastisch', 1), ('flitterwochen', 2), ('hüten', 2), ('überdrehen', 1), ('vorerst', 4), ('johannsens', 2), ('gleichaltrig', 2), ('alters', 1), ('verschwenden', 5), ('cia', 1), ('wale', 2), ('säugetiere', 3), ('kürbis', 1), ('zufall', 2), ('langer', 3), ('niederträchtiger', 1), ('seltsamer', 3), ('absonderlicher', 1), ('zeitgenosse', 1), ('ah', 1), ('hornochse', 1), ('hässliches', 1), ('dienen', 1), ('sauwetter', 1), ('schreckliches', 2), ('erwartest', 1), ('nützen', 2), ('hämoglobin', 1), ('hierbei', 2), ('welchen', 3), ('trieb', 5), ('angetrieben', 3), ('gewürze', 3), ('station', 2), ('widerliches', 1), ('ekelhaftes', 1), ('besprochen', 2), ('bekommst', 5), ('backst', 1), ('worin', 5), ('stärken', 1), ('stachelschwein', 1), ('laus', 1), ('leber', 1), ('zahl', 1), ('stehst', 4), ('beerdigung', 1), ('hochzeit', 3), ('hingelegt', 4), ('hingestellt', 4), ('hingetan', 4), ('beteiligt', 2), ('richter', 1), ('richterin', 1), ('uniform', 3), ('bäckerei', 1), ('museum', 3), ('toilette', 11), ('hereingelassen', 4), ('umfrage', 1), ('durchgeführt', 2), ('aufgestellt', 1), ('eigner', 1), ('schiffs', 1), ('überdreht', 2), ('eigentlich', 8), ('wärst', 4), ('eid', 1), ('tollen', 1), ('jagst', 2), ('schreck', 1), ('eingejagt', 1), ('starten', 1), ('verpatzt', 1), ('ablauf', 2), ('blaß', 1), ('legtest', 1), ('legten', 2), ('begegnest', 1), ('friseur', 4), ('loslassen', 1), ('zunichte', 2), ('gefährdet', 1), ('entfernen', 2), ('bereuen', 5), ('gemahlin', 1), ('schlaumeier', 1), ('feiglinge', 2), ('rassisten', 1), ('meidest', 1), ('meiden', 1), ('charismatisch', 3), ('kooperierst', 1), ('extrovertiert', 3), ('introvertiert', 3), ('belügst', 1), ('prinzessin', 2), ('bekleidet', 5), ('durchschaubar', 2), ('übernimmst', 1), ('„wen', 1), ('kümmert’s“\\xa0–', 1), ('„mich“', 1), ('kalter', 1), ('schläfchen', 1), ('bruch', 1), ('ratschläge', 2), ('rundum', 1), ('umtausch', 1), ('aluminium', 1), ('bilde', 2), ('schwäne', 1), ('plätze', 3), ('gerüchte', 3), ('überlebende', 1), ('verfolgt', 2), ('versuchst', 1), ('erfahrung', 2), ('phantasie', 13), ('unabhängig', 2), ('facebook', 9), ('schreibst', 5), ('spionierst', 2), ('überwachst', 1), ('wenigstens', 4), ('entenküken', 1), ('löwenjunge', 1), ('angewohnheiten', 2), ('abzulegen', 1), ('überlebenskünstler', 2), ('schwermütig', 1), ('überbewertet', 1), ('kleidung', 3), ('badeanzug', 1), ('verbrenn', 1), ('anmelden', 1), ('plätzchen', 5), ('kontaktieren', 1), ('aufnehmen', 2), ('kopien', 1), ('abholen', 4), ('scheuern', 1), ('kau', 2), ('kauen', 2), ('kaut', 2), ('ritterlichkeit', 1), ('räumt', 1), ('räumen', 1), ('messen', 1), ('jederzeit', 2), ('wettbewerb', 3), ('kontaktiere', 1), ('virus', 1), ('zypern', 1), ('insel', 3), ('unausweichlich', 1), ('lösche', 1), ('löscht', 1), ('löschen', 1), ('tempel', 2), ('zerstöre', 2), ('empfindliche', 2), ('empfindlichen', 1), ('erworben', 3), ('angeschrien', 6), ('irgendwer', 2), ('irgendjemanden', 2), ('dagelassen', 3), ('spieltest', 1), ('gebadet', 1), ('kanntet', 1), ('fluche', 1), ('sarkasmus', 3), ('vernehme', 1), ('solange', 3), ('b', 1), ('übereinstimmung', 1), ('motto', 1), ('kompaktdisks', 1), ('kaugummis', 3), ('führst', 1), ('englische', 2), ('kochst', 3), ('apfelsinen', 3), ('surfst', 1), ('erkennst', 1), ('erkennt', 1), ('zigarren', 3), ('gefällig', 1), ('trägst', 2), ('brillenträgerin', 2), ('trauben', 3), ('beängstigt', 1), ('wärt', 1), ('kletter', 1), ('öffentlichkeit', 2), ('quere', 2), ('zweifle', 1), ('wage', 2), ('anzufassen', 2), ('untersteh', 1), ('rage', 3), ('schmeißen', 2), ('verzapf', 1), ('schmarren', 1), ('frierst', 1), ('traust', 3), ('krise', 1), ('klatschten', 2), ('lot', 2), ('freiheit', 3), ('schaffe', 4), ('portmonee', 1), ('oma', 1), ('halblang', 1), ('wochen', 7), ('chance', 15), ('stärke', 2), ('halbe', 3), ('reiche', 1), ('wochenende', 11), ('missbraucht', 2), ('gereizt', 2), ('fingerhut', 1), ('tränen', 11), ('flöte', 3), ('einbrecher', 2), ('bestieg', 1), ('wales', 1), ('übereinander', 2), ('entkräftete', 1), ('gewiesen', 1), ('gegenteil', 2), ('traurigen', 1), ('todes', 1), ('ferrari', 1), ('verfehlte', 3), ('meister', 1), ('ehrenwort', 1), ('begrüßte', 1), ('begrüßt', 1), ('amüsierte', 1), ('tiefe', 2), ('lustigen', 1), ('laute', 4), ('nasenbluten', 1), ('rundes', 2), ('zweitarbeit', 2), ('gehandelt', 1), ('begabungen', 1), ('picassos', 1), ('flugreisen', 2), ('fischhändler', 3), ('eifersüchtiger', 2), ('gelehrter', 2), ('gemeiner', 1), ('ungezogener', 2), ('unhöflicher', 1), ('frauenhasser', 2), ('statur', 1), ('buße', 2), ('streut', 1), ('asche', 1), ('haupt', 1), ('gutherzig', 2), ('wäscht', 3), ('lieh', 2), ('pesos', 1), ('warzenmelonen', 2), ('cantaloupemelonen', 1), ('cardiff', 1), ('komfortables', 2), ('nebenan', 3), ('verdächtig', 2), ('nachtlokale', 2), ('witzige', 2), ('bemerkung', 2), ('helfer', 2), ('käfige', 2), ('stubste', 1), ('erreichte', 5), ('schuhgeschäft', 2), ('irrte', 1), ('wienerte', 1), ('unterzeichnete', 1), ('fluchen', 4), ('verblieb', 2), ('behandelte', 2), ('christentum', 1), ('ohio', 1), ('warteschlange', 2), ('anfangs', 5), ('bedauern', 2), ('goldmedaille', 3), ('jenem', 2), ('bericht', 4), ('kehrt', 1), ('kardiologe', 2), ('kettenraucher', 2), ('flink', 1), ('spätentwickler', 1), ('spätzünder', 2), ('eingerostet', 1), ('angeheitert', 1), ('unberechenbar', 1), ('kondition', 1), ('physischer', 1), ('verfassung', 3), ('ausgezeichneter', 1), ('körperlicher', 1), ('opernliebhaber', 1), ('opernfan', 1), ('verhält', 3), ('benimmt', 2), ('heimreise', 2), ('arg', 3), ('bedrängnis', 1), ('bester', 8), ('tetris', 1), ('greift', 1), ('wangen', 1), ('abweisend', 1), ('körper', 7), ('großfamilie', 1), ('verkaufte', 2), ('pullover', 6), ('halfter', 1), ('verdirbt', 1), ('revanche', 1), ('mochtest', 2), ('magnete', 1), ('buchstabiert', 1), ('bedingungen', 4), ('elektriker', 1), ('bohre', 1), ('erstarke', 1), ('indien', 2), ('pflücke', 1), ('ausnahmsweise', 3), ('auserwählte', 2), ('kurznachricht', 1), ('gespenster', 1), ('24', 1), ('bleistifte', 2), ('kostüm', 1), ('sandwich', 4), ('belegtes', 2), ('baumhaus', 1), ('schälen', 1), ('hinnehmen', 1), ('hühnchen', 1), ('erdnüsse', 2), ('einschlafen', 1), ('nirgendwohin', 3), ('identifizieren', 2), ('missachten', 1), ('kann’s', 1), ('räumte', 4), ('postkarten', 1), ('vollständig', 5), ('bremsen', 4), ('zählte', 2), ('200', 1), ('zweihundert', 2), ('gezählt', 5), ('zurückgeschrieben', 2), ('manchmal', 7), ('date', 1), ('geländewagen', 1), ('banken', 1), ('müsli', 1), ('einkaufszentrum', 2), ('deplatziert', 1), ('handtücher', 4), ('zusammengelegt', 1), ('seltsame', 7), ('heimgezahlt', 1), ('abgerechnet', 1), ('empfangen', 2), ('vorahnung', 1), ('festnehmen', 1), ('raushängen', 1), ('hass', 1), ('dorf', 1), ('bierbauch', 2), ('behinderung', 1), ('laufende', 1), ('gästezimmer', 1), ('blinddarmentzündung', 2), ('bohrenden', 1), ('freizeit', 1), ('gegner', 1), ('tennisarm', 1), ('bedanken', 1), ('geschah', 3), ('flüstern', 3), ('versteckte', 11), ('aufgehoben', 4), ('aufregen', 1), ('anfühlt', 1), ('funkioniert', 2), ('chinesisches', 2), ('french', 1), ('toast', 1), ('käsepizza', 1), ('drachenfrüchte', 1), ('helle', 4), ('liebesgeschichten', 2), ('kartoffelsalat', 5), ('hacke', 1), ('vortrag', 2), ('sperrte', 1), ('nachgesehen', 3), ('beherrschung', 1), ('brombeeren', 1), ('erdbeeren', 1), ('firma', 4), ('pulli', 1), ('kochkunst', 1), ('abgebogen', 4), ('gelang', 3), ('hineinzukommen', 2), ('zufällig', 5), ('club', 1), ('überzeugen', 2), ('aussehen', 6), ('gesessen', 1), ('leichten', 2), ('niere', 1), ('schmerzmittel', 2), ('tuch', 1), ('papiertaschentuch', 1), ('kleiderbügel', 1), ('passwort', 3), ('kennwort', 1), ('wiedergutmachung', 1), ('streitereien', 1), ('angeboten', 7), ('öfters', 1), ('3000', 1), ('gestrichen', 1), ('geputzt', 1), ('beeilte', 1), ('blitz', 2), ('bonus', 1), ('überarbeitete', 1), ('revidierte', 1), ('revidiert', 1), ('vorige', 1), ('antrag', 1), ('gesandt', 1), ('kunstgeschichte', 1), ('unterdrückte', 2), ('geprüft', 1), ('daraufgesetzt', 1), ('ratte', 1), ('kreuz', 1), ('verrissen', 1), ('gekümmert', 2), ('zerriss', 2), ('hinzusehen', 1), ('angemacht', 2), ('freimütigkeit', 3), ('mikroskop', 1), ('geschehe', 1), ('zwar', 1), ('orangensaft', 2), ('steak', 3), ('besaufen', 1), ('vermögenden', 1), ('ruhiges', 1), ('fürchtete', 2), ('bauklötze', 1), ('gestaunt', 1), ('vorhin', 2), ('bange', 1), ('einzelheiten', 2), ('freuden', 1), ('verreisen', 3), ('deutsch', 5), ('kapierte', 1), ('hörtest', 1), ('werds', 2), ('ginge', 3), ('zugesagt', 1), ('bejaht', 2), ('hierherkommen', 1), ('stadtplan', 4), ('daiquiri', 1), ('arbeitszimmer', 2), ('magermilch', 1), ('vereinfache', 1), ('wiedergutmachen', 2), ('vorlesen', 3), ('überdenken', 1), ('überleg’s', 1), ('aktualisieren', 1), ('assistent', 2), ('assistentin', 2), ('leibwächter', 1), ('leibwächterin', 1), ('zuhörer', 1), ('zuhörerin', 1), ('verheiratete', 1), ('perfektionist', 2), ('tattookünstlerin', 1), ('tennisspieler', 6), ('tennisspielerin', 2), ('vorm', 2), ('autowaschanlage', 1), ('diensten', 1), ('abgeholt', 1), ('rechne', 3), ('entwerfe', 1), ('verdurste', 2), ('maßen', 3), ('schwerhörig', 1), ('apartment', 1), ('berühmtheit', 1), ('wissenschaftlerin', 1), ('beschwere', 1), ('stimmung', 3), ('mische', 1), ('eingeschüchtert', 1), ('geschäftsführer', 2), ('judo', 1), ('englischen', 3), ('opfer', 1), ('leichtem', 1), ('derzeit', 2), ('arbeitsstelle', 5), ('vollen', 2), ('füllung', 1), ('geldbörse', 2), ('vertan', 1), ('1', 1), ('primzahl', 1), ('weihnachtsmann', 1), ('alkoholiker', 1), ('arrest', 2), ('irgendetwas', 10), ('japanisches', 3), ('uboot', 1), ('kanonen', 1), ('spatzen', 2), ('kanonenfeuer', 1), ('spatzenbekämpfung', 1), ('eiskalt', 3), ('schneeweiß', 1), ('prophezeiung', 1), ('schmiert', 1), ('dauerte', 4), ('sonnenenergie', 2), ('geschäftige', 2), ('kompromiss', 2), ('stockdunkle', 1), ('fabelhafte', 1), ('törichte', 1), ('kinderspiel', 4), ('steinhart', 1), ('stein', 3), ('eng', 1), ('verdammt', 1), ('günstig', 1), ('unverzeihlich', 2), ('unentschuldbar', 1), ('unwichtig', 4), ('echte', 3), ('liebstes', 1), ('liebster', 1), ('liebste', 1), ('knobelaufgabe', 1), ('trostloser', 1), ('freies', 2), ('riesenfehler', 1), ('hohe', 1), ('betrag', 1), ('störung', 2), ('\\u200b\\u200bgroß', 1), ('11', 2), ('elf', 3), ('insiderwitz', 1), ('eingeweihte', 1), ('älteres', 1), ('außerordentlich', 1), ('wolken', 1), ('bricht', 2), ('chic', 1), ('modisch', 1), ('bloßes', 1), ('hirngespinst', 2), ('placebo', 3), ('verhandelbar', 1), ('unbekannt', 1), ('kratzer', 1), ('vorübergehend', 2), ('zeitaufwendig', 2), ('wirksam', 1), ('eigene', 6), ('jupiter', 1), ('portion', 2), ('pommes', 2), ('frites', 1), ('erfordet', 1), ('art', 3), ('anteil', 1), ('feierabend', 1), ('bierchen', 1), ('obergeschoss', 1), ('überreagieren', 2), ('ruinieren', 2), ('termin', 1), ('merlin', 1), ('1791', 1), ('kanadierin', 7), ('tierarzt', 1), ('katzenminze', 1), ('garnelen', 1), ('geschwollen', 1), ('bescheidene', 1), ('ziele', 2), ('heimat', 3), ('spukt', 7), ('muter', 1), ('pflegerin', 1), ('notizbuch', 3), ('klingelt', 2), ('zimmerschlüssel', 2), ('zimmernummer', 3), ('rachen', 1), ('wimper', 1), ('gezuckt', 1), ('geringste', 3), ('aufschlag', 1), ('gewohnheiten', 1), ('abzuschütteln', 1), ('strauße', 1), ('verbündeten', 1), ('sinkt', 2), ('begrenzt', 1), ('pfirsiche', 1), ('volk', 1), ('lüfte', 2), ('lüftet', 2), ('lüften', 2), ('korrigieren', 1), ('nuschele', 2), ('blinker', 2), ('schlafanzüge', 1), ('bekleide', 1), ('schriftlich', 1), ('armband', 2), ('rambo', 2), ('älteren', 1), ('leuten', 3), ('krempel', 1), ('ärmel', 2), ('demnächst', 1), ('übermorgen', 1), ('geschenkt', 2), ('schenkte', 5), ('2000', 1), ('klatschbase', 1), ('gutmütig', 1), ('geachtet', 1), ('fräulein', 1), ('strotzt', 1), ('wohlbefinden', 1), ('quatschte', 1), ('wange', 2), ('schnürte', 1), ('bass', 1), ('verpfändet', 1), ('reservierte', 2), ('buchte', 1), ('gebucht', 1), ('wies', 6), ('modernes', 1), ('willensstark', 2), ('freches', 1), ('freche', 2), ('gästebuch', 2), ('scheiben', 1), ('schneid', 1), ('einigen', 1), ('gefällt’s', 1), ('dazwischen', 1), ('tages', 2), ('kritisieren', 1), ('blödeln', 1), ('herumzuspielen', 1), ('herumzuhacken', 1), ('herzumzublödeln', 1), ('thailand', 1), ('information', 1), ('jenes', 2), ('einiges', 2), ('fachgebiet', 1), ('ordentlicher', 1), ('unerwartet', 3), ('marke', 1), ('ausgezeichnete', 2), ('tolles', 2), ('gedicht', 6), ('zitronenbaum', 2), ('rekord', 1), ('ausnahme', 2), ('entspricht', 1), ('gesunden', 1), ('menschenverstand', 2), ('entmutigend', 1), ('beschämend', 2), ('rausgeschmissenes', 1), ('blödsinnig', 1), ('binsenwahrheit', 1), ('hinzunehmen', 1), ('unannehmbar', 1), ('unangebracht', 1), ('ebendas', 1), ('ebendarum', 1), ('erwärmte', 1), ('auktion', 1), ('zuschauer', 1), ('läutet', 1), ('meinige', 1), ('bluse', 4), ('busch', 1), ('ranzig', 1), ('knopf', 3), ('putzig', 1), ('tische', 1), ('bänke', 1), ('drastisch', 1), ('getreide', 1), ('sprung', 1), ('angerichtet', 3), ('schuh', 1), ('zufriedenen', 3), ('feueralarm', 2), ('erscholl', 1), ('lebensmittel', 1), ('lichter', 1), ('brüllt', 1), ('endlos', 1), ('lumpen', 1), ('zart', 2), ('affe', 2), ('schockierte', 1), ('vorratskammer', 1), ('aller', 3), ('sau', 1), ('fror', 2), ('saal', 1), ('rappelvoll', 1), ('narbe', 2), ('verheilt', 2), ('verdunkelte', 1), ('verkehrsbedingungen', 1), ('trüb', 1), ('netzpräsenz', 1), ('nachgelassen', 2), ('reißverschluss', 3), ('angeschlagen', 2), ('weitere', 1), ('zeugen', 4), ('zweie', 1), ('bedingung', 1), ('aufzug', 3), ('fahrstuhl', 1), ('rasselbande', 1), ('schuhen', 1), ('christen', 1), ('bauern', 2), ('schlachtfeld', 1), ('investoren', 1), ('erkannten', 1), ('chor', 1), ('möbel', 1), ('eröffneten', 2), ('untergrundbahn', 2), ('brave', 1), ('unzertrennlich', 2), ('verspotten', 1), ('normale', 1), ('landwirte', 1), ('geortet', 1), ('kanne', 2), ('bedeuten', 2), ('schublade', 3), ('goldmine', 1), ('handel', 1), ('enormer', 1), ('gewaltiger', 1), ('zeitung', 10), ('makabrer', 1), ('eiswürfel', 2), ('tolerieren', 2), ('inderin', 1), ('rumpelkammer', 1), ('ohrwurm', 1), ('herren', 1), ('lauten', 2), ('solche', 7), ('tōkyō', 1), ('missbrauchte', 1), ('berufstätig', 1), ('fertiggericht', 1), ('tiefkühlgericht', 1), ('gestoßen', 2), ('tänzer', 7), ('nägeln', 2), ('netzkamera', 1), ('möglichen', 1), ('schimpfwörter', 1), ('ölwechsel', 1), ('überprüfte', 2), ('ölstand', 2), ('sammelt', 3), ('kämmte', 1), ('konfrontierte', 1), ('zustande', 1), ('teilte', 1), ('beschloss', 2), ('liefert', 3), ('pizzas', 1), ('pizzen', 1), ('handstand', 4), ('lausige', 1), ('auffassung', 1), ('tragische', 1), ('enttäuschte', 2), ('trocknete', 1), ('datsun', 1), ('ermunterte', 1), ('zwickmühle', 1), ('täuschte', 1), ('tauben', 1), ('verschränkte', 1), ('ängstigte', 1), ('630', 2), ('überholte', 2), ('klitschnass', 1), ('schnurrbart', 1), ('bösen', 1), ('kapuzenpulli', 1), ('krampf', 1), ('kahle', 1), ('lippenspalte', 1), ('vergangenheit', 1), ('knieschmerzen', 1), ('lungenkrebs', 2), ('angina', 1), ('mandelentzündung', 1), ('erhitzte', 1), ('verbarg', 1), ('schuppen', 1), ('tiefpunkt', 1), ('angelangt', 1), ('hupte', 1), ('hupe', 1), ('demütigte', 1), ('telefonat', 1), ('unternimmt', 1), ('rucksackreisen', 1), ('biochemiker', 1), ('labertasche', 1), ('tagträumer', 1), ('straftäter', 1), ('tellerwäscher', 1), ('familienmensch', 1), ('feuerschlucker', 1), ('normaler', 1), ('pfandleiher', 1), ('programmierer', 1), ('psychopath', 1), ('wagehals', 1), ('waghalsiger', 1), ('wagemutiger', 1), ('steinmetz', 1), ('starkes', 2), ('dummer', 1), ('arbeitswütig', 3), ('architekt', 1), ('geizhals', 2), ('knurrig', 1), ('grantig', 1), ('geartet', 1), ('hütet', 1), ('unwiderstehlich', 3), ('hüpft', 1), ('verlässt', 1), ('psychisch', 1), ('selbstverliebt', 1), ('13', 1), ('jüngster', 1), ('versnobt', 1), ('rechtshänder', 1), ('spioniert', 1), ('versager', 1), ('schwachkopf', 1), ('memme', 1), ('jüngste', 1), ('begabt', 7), ('warmherzig', 1), ('vergeudet', 1), ('vertut', 2), ('verschwendet', 5), ('brünette', 1), ('curry', 1), ('angesteckt', 3), ('elendsviertel', 2), ('slum', 2), ('armenviertel', 1), ('verwirrten', 1), ('zögerlich', 1), ('würdevoll', 1), ('gehetzten', 1), ('johannes', 2), ('glückssspiel', 1), ('tratschtante', 1), ('rückte', 1), ('schweigend', 1), ('geldschrank', 2), ('siebensachen', 1), ('schälte', 2), ('pflanzte', 4), ('kopfsalat', 1), ('5\\u202fkm', 1), ('weigert', 3), ('bereut', 1), ('bereute', 1), ('schwieg', 1), ('gegenüber', 2), ('entschuppte', 1), ('lockerer', 1), ('schlürfte', 1), ('übersprungen', 1), ('startete', 1), ('zeh', 4), ('biologie', 2), ('geologie', 2), ('gelehrt', 2), ('bedrohte', 1), ('pflegte', 1), ('tapferer', 1), ('verschollen', 1), ('verscholl', 1), ('gesteckt', 3), ('ersticken', 1), ('gedankenlos', 2), ('traumatisiert', 1), ('abgewiesen', 1), ('unterzog', 1), ('entziehungskur', 1), ('wischte', 2), ('erwachte', 2), ('schutzhelm', 1), ('einzelhandel', 1), ('halluziniert', 1), ('unaufgeräumt', 1), ('schatten', 3), ('ausstellen', 1), ('kaffees', 2), ('fahrkarten', 1), ('eintrittskarten', 2), ('regenschirme', 1), ('nebenkosten', 1), ('erleidet', 1), ('mangel', 1), ('mannschaften', 1), ('gefasst', 6), ('vereinbarung', 1), ('mündliche', 1), ('einkauf', 1), ('hoffentlich', 1), ('losgelegt', 3), ('stellten', 1), ('forderungen', 1), ('herausforderung', 2), ('dampfschiff', 1), ('eisenstange', 1), ('würzen', 1), ('richtung', 1), ('umkehren', 1), ('dachten', 3), ('wüssten', 1), ('wüsstet', 1), ('reisten', 1), ('kennenlernen', 10), ('wuschen', 1), ('täten', 2), ('häftlinge', 1), ('fremden', 1), ('zeitplan', 1), ('einzuhalten', 1), ('unserem', 2), ('klub', 1), ('bizarre', 1), ('herrliches', 1), ('absurde', 1), ('optionen', 2), ('bäckst', 1), ('fertigst', 1), ('bastelst', 1), ('krieges', 1), ('nachgeschlagen', 1), ('schlägst', 1), ('buchstabe', 1), ('sonnenuntergang', 1), ('krach', 1), ('punktestand', 1), ('bewandert', 1), ('hindert', 1), ('busfahrschein', 1), ('dient', 2), ('datum', 1), ('wievielte', 4), ('heutige', 1), ('menü', 1), ('liebling', 1), ('pension', 1), ('brichst', 1), ('dateien', 2), ('akten', 1), ('gingt', 1), ('rotstift', 1), ('weißbrot', 1), ('vergesse', 2), ('villa', 1), ('ausgedacht', 4), ('bibel', 2), ('verfasst', 1), ('verfasste', 1), ('fremde', 1), ('humpelst', 1), ('schmollst', 1), ('gähnst', 1), ('zögerst', 1), ('begleitet', 1), ('güte', 3), ('kasten', 2), ('karton', 4), ('puh', 1), ('kurzen', 1), ('aufsatz', 1), ('lügenbold', 2), ('kanadierinnen', 4), ('überlegst', 1), ('ausborgen', 2), ('bezwingen', 1), ('einfälle', 2), ('liebhabe', 1), ('ohrring', 3), ('spielhebel', 1), ('joystick', 3), ('aufwachen', 1), ('erwachen', 1), ('überfahren', 1), ('duftest', 1), ('klingst', 3), ('superhübsch', 1), ('erkälten', 1), ('lustiges', 2), ('arbeitshai', 2), ('streitsüchtig', 3), ('verwirrst', 3), ('unverbesserlich', 4), ('unüberlegt', 1), ('überreagierst', 1), ('süßeste', 2), ('hilfsbereit', 2), ('vergeudest', 2), ('munition', 2), ('verschwendest', 2), ('vergeuden', 1), ('emsig', 1), ('zebras', 1), ('streifen', 1), ('zucchini', 1), ('„hallo“', 1), ('kalmar', 1), ('tentakel', 1), ('füg', 1), ('fügt', 1), ('amputation', 1), ('strauß', 1), ('jedenfalls', 2), ('affen', 2), ('brillen', 1), ('maschine', 1), ('ängstigst', 1), ('ängstigen', 1), ('drehst', 1), ('sauna', 1), ('geisteskrankheit', 1), ('flugfertig', 1), ('flugbereit', 1), ('nonne', 2), ('spionieren', 1), ('drollig', 1), ('fälschungen', 1), ('blas', 1), ('blast', 1), ('erwünscht', 2), ('vollversion', 1), ('110', 2), ('verlängern', 1), ('ausrichten', 1), ('anschalten', 1), ('anmachen', 1), ('empfinden', 1), ('zulegen', 1), ('liefern', 1), ('überbringen', 3), ('spülbecken', 3), ('reichst', 1), ('c', 2), ('programmieren', 2), ('rinder', 1), ('veränderungen', 1), ('erkältungen', 1), ('kontext', 1), ('baumwolle', 3), ('wechseln', 1), ('hundert', 2), ('tote', 1), ('beglichen', 1), ('überbring', 1), ('diamanten', 1), ('erbeten', 1), ('kauftest', 1), ('katzenfutter', 1), ('löcher', 1), ('öfter', 1), ('färbst', 1), ('ißt', 1), ('besuchst', 1), ('tätowierung', 2), ('tattoo', 1), ('haustiere', 3), ('tesafilm', 1), ('klebeband', 1), ('diabetes', 3), ('brokkoli', 2), ('brezeln', 1), ('schwimmst', 1), ('feierst', 1), ('meditierst', 1), ('anglistik', 1), ('redest', 2), ('kimono', 1), ('sinnvoll', 1), ('delphine', 1), ('delfine', 1), ('verzage', 1), ('negativ', 1), ('brich', 1), ('friss', 1), ('vergesst', 1), ('rege', 1), ('steigere', 1), ('steigern', 1), ('doll', 2), ('bohr', 1), ('zupf', 1), ('ankommen', 5), ('verschütten', 1), ('schmeiß', 1), ('schmeißt', 2), ('rühre', 3), ('dublin', 3), ('irland', 3), ('fürchteten', 1), ('ungeschicklichkeit', 1), ('unbeholfenheit', 3), ('unterschiede', 1), ('grenzt', 1), ('apparat', 3), ('besorg', 2), ('gönn', 1), ('rucksack', 3), ('beschuldigt', 1), ('genieß', 1), ('fertiggestellt', 4), ('vermessen', 4), ('ausgemessen', 4), ('gemessen', 2), ('angenommen', 4), ('zielte', 1), ('katholik', 2), ('atemzug', 3), ('genf', 1), ('überquerte', 5), ('anmut', 1), ('entschloss', 4), ('verschlang', 2), ('mahlzeit', 1), ('einziges', 2), ('leerte', 2), ('doktortitel', 1), ('22', 1), ('hungrigen', 1), ('50', 2), ('jegliche', 1), ('ausländisches', 2), ('aussprache', 1), ('behaarte', 2), ('einkommen', 3), ('angenehme', 1), ('kräftige', 3), ('gehör', 3), ('sonderbare', 2), ('vorstellungen', 2), ('töchter', 3), ('versehen', 2), ('japanischer', 1), ('athlet', 1), ('redner', 2), ('scharfer', 1), ('kritiker', 1), ('fauler', 3), ('abgebrüht', 2), ('immerzu', 3), ('sechzig', 3), ('zweiundfünfzig', 1), ('energie', 2), ('tauchen', 4), ('zufriedenzustellen', 3), ('herr', 4), ('bäckt', 4), ('backt', 3), ('einfaches', 4), ('indisch', 1), ('schweres', 2), ('yokohama', 2), ('unhöfliche', 2), ('unverschämte', 1), ('ausrede', 2), ('durchaus', 4), ('bügelte', 7), ('hosen', 5), ('nackig', 1), ('rausgerannt', 1), ('verspottet', 2), ('notiz', 4), ('zugesteckt', 1), ('portugiesisch', 2), ('erkrankte', 1), ('solle', 4), ('bänderriss', 1), ('geübt', 3), ('augenklappe', 2), ('hilfskellner', 1), ('abräumer', 1), ('bedienungsgehilfe', 1), ('billigen', 1), ('nervenbündel', 1), ('nervliches', 1), ('waschechter', 1), ('spanier', 1), ('scheut', 1), ('amateur', 2), ('halbbruder', 3), ('mitzuhelfen', 1), ('duscht', 2), ('klassenclown', 1), ('behandlung', 1), ('beschützend', 1), ('unlauter', 1), ('allerseits', 1), ('herausgefunden', 5), ('ergangen', 1), ('stoppt', 1), ('personen', 1), ('heilig', 1), ('abbitte', 1), ('verzeihung', 3), ('unternehmer', 1), ('baue', 1), ('mauer', 1), ('fußballbegeisterter', 1), ('kleide', 1), ('verlache', 2), ('baskisch', 1), ('ähnele', 1), ('melke', 1), ('wische', 1), ('schrecklichen', 1), ('vertue', 1), ('verschwende', 2), ('beantragt', 1), ('apfelkuchen', 1), ('inständig', 1), ('dazubleiben', 1), ('lampe', 1), ('frisches', 1), ('aschenbecher', 1), ('fingerkuppe', 2), ('tippen', 1), ('gegenübertreten', 1), ('einmischen', 1), ('wegzugehen', 2), ('seltene', 1), ('münzen', 1), ('konsultiert', 1), ('überquert', 1), ('paarmal', 1), ('liegestütze', 1), ('informiert', 1), ('durchgelesen', 1), ('großstädte', 1), ('interessiere', 1), ('diskriminiere', 1), ('angeschwindelt', 1), ('nachtragend', 1), ('geheuer', 1), ('stille', 3), ('behagt', 1), ('scheitere', 1), ('drink', 3), ('wohltätigkeit', 1), ('almosen', 1), ('hinsehen', 2), ('ärger', 2), ('poesie', 1), ('spende', 1), ('faxte', 1), ('gesucht', 4), ('gebäude', 4), ('bisweilen', 1), ('gehemmt', 1), ('physik', 1), ('herzinfarkt', 1), ('herzanfall', 2), ('missgeschick', 1), ('eingebung', 1), ('eifersüchtige', 2), ('abschiede', 2), ('erdnussbutter', 2), ('stummfilme', 1), ('schlimmen', 1), ('bessere', 2), ('besseren', 3), ('hirntumor', 2), ('kreditkarte', 2), ('shirt', 1), ('halbschwester', 3), ('reservierung', 2), ('vorbehalt', 1), ('leichte', 3), ('leichtes', 3), ('halsweh', 1), ('wunden', 3), ('stiefbruder', 2), ('bauchweh', 1), ('naschkatze', 2), ('zwillingsschwester', 1), ('holzkamm', 2), ('rückenprobleme', 1), ('sehvermögen', 1), ('beurteilt', 5), ('verkannt', 1), ('nirgends', 3), ('absolute', 3), ('kehlkopfkrebs', 1), ('voranmachen', 1), ('gelangen', 1), ('prioritäten', 1), ('schimmer', 2), ('grade', 1), ('gebärdensprache', 1), ('herrn', 1), ('hinauswillst', 1), ('dosen', 1), ('dosenobst', 1), ('country', 1), ('dunklen', 1), ('angebraten', 1), ('male', 1), ('ohrringe', 2), ('optimismus', 1), ('betrachtete', 2), ('paprika', 1), ('technischen', 1), ('spielereien', 1), ('papierflugzeug', 1), ('papierflieger', 1), ('gebastelt', 1), ('wirtschaftswissenschaft', 2), ('soziologie', 1), ('ebensogut', 1), ('respektlos', 2), ('riesenmist', 1), ('mittagszeit', 1), ('januar', 1), ('kochkünste', 1), ('dampf', 1), ('ablassen', 1), ('schale', 1), ('sauberes', 1), ('übersetzung', 1), ('notizblock', 1), ('erlaubnis', 1), ('genehmigung', 1), ('autorisiert', 1), ('bettdecken', 1), ('anleitung', 1), ('bedenkzeit', 1), ('bezweifelt', 1), ('gelebt', 2), ('eistee', 1), ('fünfzigtausend', 2), ('spannte', 1), ('reut', 2), ('widerstrebend', 1), ('„lass', 1), ('sein“', 1), ('ewigkeit', 1), ('schlafenden', 1), ('mischte', 1), ('angeschnitten', 1), ('eröffnet', 1), ('kenn', 1), ('seiest', 3), ('fotografiert', 1), ('anprobiert', 1), ('anzurufen', 4), ('hahn', 1), ('zugedreht', 1), ('unterschätzt', 3), ('hinaufgegangen', 1), ('mp3player', 1), ('mp3spieler', 1), ('experimentieren', 1), ('segeln', 1), ('benimmst', 1), ('zuhörst', 1), ('befürchtet', 1), ('einzelgängerin', 1), ('bücherei', 1), ('theater', 3), ('geblutet', 1), ('todlangweilig', 1), ('strafe', 3), ('biene', 1), ('hackedicht', 1), ('bürgen', 1), ('wünscht’', 1), ('wär’', 2), ('vögelein', 1), ('seele', 3), ('bieten', 1), ('manhattan', 1), ('vorsichtiger', 1), ('bittest', 1), ('rächen', 1), ('sozialhilfe', 1), ('wahrnehmen', 2), ('dazusein', 1), ('stiefvater', 2), ('französischlehrer', 1), ('französischlehrerin', 1), ('krebspatient', 1), ('blondine', 2), ('polizeibeamter', 1), ('polizistin', 1), ('privatperson', 1), ('flugangst', 1), ('gesetzesentwurf', 1), ('katzenallergie', 2), ('allergisch', 4), ('maisallergie', 1), ('mais', 1), ('hundeallergie', 1), ('stauballergie', 1), ('archäologin', 1), ('archäologe', 1), ('achtklässler', 1), ('verfügung', 1), ('erpresse', 1), ('verzehre', 1), ('frühstücke', 1), ('freust', 1), ('fitnessstudio', 1), ('geschäftlich', 3), ('demselben', 1), ('ultramüde', 1), ('bügele', 1), ('reinemachen', 1), ('vergewissere', 1), ('essbarem', 1), ('abhalten', 2), ('gewöhnt', 5), ('anzeige', 1), ('erstatten', 1), ('schlamm', 1), ('lesens', 1), ('schreibens', 1), ('vorgeladen', 1), ('abgebrochen', 1), ('verrückten', 1), ('herzschrittmacher', 1), ('lausigen', 1), ('entschluss', 1), ('island', 1), ('augenzeuge', 1), ('kurs', 2), ('betrachtet', 1), ('23', 1), ('geständnis', 1), ('stundenplan', 1), ('rind', 1), ('diamant', 1), ('ausderhaut', 1), ('nieseln', 1), ('tröpfeln', 1), ('leuchtet', 1), ('dunkeln', 3), ('gekennzeichnet', 1), ('kindische', 1), ('handlung', 1), ('wertvoll', 1), ('mode', 2), ('ente', 1), ('höflichkeit', 1), ('fehlalarm', 1), ('gepasst', 4), ('bescheuerte', 2), ('blöder', 1), ('höherer', 1), ('schreckliche', 2), ('einbruch', 1), ('absichtlich', 4), ('zeitlang', 1), ('familiengeheimnis', 1), ('erkrankung', 1), ('kopfhaut', 1), ('undankbare', 1), ('volle', 2), ('böhmische', 1), ('dörfer', 1), ('extremfall', 1), ('tagen', 4), ('kochend', 1), ('vorstellbar', 1), ('keller', 5), ('leder', 1), ('speisekarte', 1), ('vorhersehbar', 2), ('aufzuwachen', 1), ('ohnehin', 1), ('befriedigend', 1), ('zufriedenstellend', 1), ('täte', 3), ('vermögen', 1), ('halbinsel', 1), ('kämm', 1), ('schweig', 1), ('lämmer', 1), ('lämmchen', 1), ('handfläche', 1), ('diskutieren', 2), ('frühstücken', 3), ('verschnaufen', 1), ('lincoln', 1), ('1865', 1), ('wägen', 1), ('lenken', 2), ('grenzen', 1), ('umgestürzt', 1), ('feilte', 1), ('gesichtshaut', 1), ('straffen', 1), ('fetengängerin', 1), ('ausschließlich', 1), ('irgendwelchen', 1), ('veranstaltungen', 1), ('kutschieren', 1), ('unattraktiv', 1), ('gestrickt', 1), ('strickte', 1), ('halskette', 1), ('gnädige', 1), ('eingangshalle', 1), ('geteiltes', 1), ('nikon', 1), ('doktor', 2), ('entsetzlich', 3), ('pochen', 1), ('burg', 2), ('abgebrannt', 1), ('linke', 4), ('motorrad', 1), ('idiotin', 1), ('sohnes', 1), ('lila', 1), ('alpträume', 4), ('furchteinflößend', 1), ('angsteinflößend', 1), ('entrinnt', 1), ('bisher', 2), ('schlimmes', 2), ('öl', 1), ('aufgebraucht', 1), ('bewerben', 1), ('städte', 1), ('ehe', 1), ('verletz', 1), ('tötet', 1), ('anwesenheit', 1), ('irritieren', 1), ('verschließe', 1), ('verschone', 1), ('umblättern', 2), ('versprich', 1), ('schubfach', 1), ('zwecklos', 2), ('schulanfang', 1), ('doppelter', 1), ('ausführung', 1), ('briefträgerin', 1), ('teeservice', 2), ('erschienen', 1), ('snack', 1), ('tänzerin', 4), ('schriftstellerin', 1), ('botin', 1), ('miniröcke', 1), ('stopfte', 1), ('knallte', 1), ('geklaut', 7), ('forderte', 2), ('anzuhalten', 1), ('befunden', 2), ('picknick', 1), ('bauchtänzerin', 1), ('gelenkig', 2), ('strumpfhosen', 2), ('ausgeht', 1), ('oberhalb', 4), ('unterschrift', 2), ('smog', 2), ('gehüllt', 1), ('bedeckt', 1), ('bedeckte', 1), ('manche', 1), ('erspare', 1), ('aktienkurse', 1), ('sumatra', 1), ('schaff', 1), ('aufgehen', 3), ('bushaltestelle', 3), ('einzelne', 1), ('hühnchenfleisch', 1), ('erlebnis', 1), ('vorherzusehen', 1), ('phantastische', 1), ('günstiges', 1), ('günstiger', 2), ('brosche', 1), ('kluge', 2), ('frauenarbeit', 1), ('despektierlich', 1), ('katz', 1), ('spezialität', 1), ('verwundbare', 1), ('schwachstelle', 1), ('zahnbürste', 2), ('ratsam', 1), ('anzuraten', 1), ('alternative', 1), ('pseudowissenschaft', 1), ('purer', 1), ('haupttor', 1), ('wünschen', 6), ('beginnt', 3), ('säugling', 2), ('krabbelt', 1), ('grenze', 1), ('kabinett', 1), ('miauen', 1), ('tickt', 1), ('versammlung', 1), ('gericht', 2), ('zugehen', 1), ('gate', 1), ('geistern', 2), ('heimgesucht', 2), ('flammen', 2), ('seen', 1), ('beleuchtung', 1), ('postsendung', 1), ('übergekocht', 1), ('löst', 1), ('desto', 3), ('speisekammer', 1), ('reinfall', 1), ('taube', 1), ('gurrt', 1), ('trivial', 1), ('ufer', 1), ('unwahr', 1), ('bettlaken', 3), ('sprecher', 1), ('speer', 1), ('bleicht', 1), ('temperatur', 1), ('4', 1), ('nachmittags', 1), ('tumor', 1), ('gutartig', 1), ('wasserleitung', 3), ('platzte', 1), ('verdreckt', 2), ('heilt', 3), ('ausnahmen', 1), ('gegenmittel', 1), ('gegengift', 1), ('unterschied', 3), ('heißes', 1), ('kapitän', 2), ('hauptmann', 1), ('bekämpften', 1), ('angebaut', 1), ('lebten', 1), ('ernannt', 1), ('tägliche', 1), ('pflege', 1), ('blicken', 1), ('zahlten', 1), ('basketball', 5), ('schienen', 1), ('ubahn', 1), ('treppauf', 1), ('touristen', 1), ('unschuldige', 1), ('bedrohung', 1), ('freudentränen', 1), ('losgegangen', 1), ('weich', 3), ('kläffer', 1), ('zustimmung', 1), ('kanarienvogel', 1), ('spind', 1), ('gesichtspunkt', 1), ('großartiges', 1), ('zauberstab', 1), ('leihwagen', 1), ('mietwagen', 1), ('selbstgemachte', 1), ('traumberuf', 1), ('glückstag', 3), ('totlachen', 1), ('schlafzimmer', 4), ('hinhauen', 1), ('brechend', 1), ('verzehr', 1), ('essbar', 1), ('beengt', 1), ('sweatshirt', 1), ('zerbrechlich', 2), ('wand', 1), ('häuser', 2), ('zeitplanung', 1), ('tabak', 1), ('riesige', 2), ('eigenmächtig', 1), ('verfährt', 1), ('verläuft', 2), ('gummibärchen', 1), ('zögern', 1), ('flehte', 3), ('gnade', 1), ('hauchte', 1), ('rühmte', 1), ('bilanzen', 1), ('hingekriegt', 1), ('sehnte', 1), ('giert', 1), ('gepfuscht', 1), ('schlampig', 1), ('schludrige', 1), ('durchgehalten', 1), ('verschwieg', 1), ('zurückgewinkt', 1), ('schlampige', 1), ('spatz', 1), ('vögelchen', 1), ('landete', 2), ('ertrug', 1), ('kläglich', 1), ('benebelt', 1), ('feuerte', 2), ('hergeschafft', 1), ('einsen', 1), ('kribbelig', 1), ('9\\xa0uhr', 1), ('17\\xa0uhr', 1), ('gebrochenen', 1), ('vollbart', 1), ('grammophon', 2), ('nettes', 1), ('platzt', 1), ('hutschnur', 1), ('seidenschal', 1), ('steifen', 2), ('wutprobleme', 1), ('ruhiggestellt', 1), ('übergeschnappt', 1), ('talente', 1), ('autorität', 1), ('gespräch', 3), ('gebügelt', 1), ('vetter', 1), ('bodybuilder', 1), ('vielbeschäftigte', 1), ('verbreiteter', 1), ('hirsche', 1), ('hundetrainer', 1), ('drogenabhängig', 2), ('berühmter', 1), ('farmarbeiter', 1), ('pingeliger', 1), ('bandenmitglied', 1), ('glasbläser', 1), ('golfspieler', 1), ('arbeiter', 3), ('frauentyp', 1), ('berauscht', 1), ('millionär', 1), ('neurologe', 1), ('nervenarzt', 1), ('parkwächter', 1), ('konditor', 1), ('dürres', 1), ('gemächlicher', 1), ('fußgänger', 1), ('berufserfahrener', 1), ('synchronsprecher', 1), ('buchhalter', 1), ('kunstkritiker', 1), ('kunsthändler', 1), ('aufrichtiger', 1), ('belästigt', 1), ('unsportlich', 1), ('hirnschaden', 1), ('hackt', 1), ('rauschgift', 1), ('extrem', 2), ('brät', 1), ('kartenspielen', 1), ('grillt', 1), ('verantwortungslos', 1), ('unverantwortlich', 1), ('gießt', 1), ('vorname', 1), ('engstirnig', 1), ('bußgeld', 1), ('schizophren', 1), ('schilt', 2), ('schimpft', 1), ('egozentriker', 1), ('versendet', 1), ('fax', 2), ('faxt', 1), ('erkrankt', 1), ('183\\u202fm', 1), ('stärkste', 1), ('uninteressant', 4), ('verlässlich', 2), ('ehegatte', 1), ('schlauste', 1), ('gleichgewicht', 1), ('system', 3), ('mangelt', 3), ('gebricht', 1), ('disziplin', 2), ('antrieb', 1), ('herzlich', 1), ('volksmusik', 1), ('wortspiele', 1), ('haust', 1), ('belud', 1), ('versteinert', 1), ('gehörsinn', 1), ('senkte', 5), ('erklärung', 5), ('omelette', 1), ('goss', 3), ('schauspiel', 1), ('hereingekommen', 1), ('moppte', 1), ('mauszeiger', 1), ('situiert', 1), ('murmelte', 1), ('schutz', 1), ('pink', 1), ('übermannte', 1), ('überwältigte', 1), ('inhaber', 1), ('spielzeugladens', 1), ('kassierer', 1), ('warteliste', 1), ('löschte', 1), ('neige', 1), ('empfahl', 1), ('lockerte', 1), ('benannte', 1), ('sträubte', 1), ('spulte', 1), ('spülte', 1), ('schnellsten', 1), ('unsauber', 2), ('couch', 1), ('kanapee', 1), ('tam', 1), ('chaiselongue', 1), ('punkte', 1), ('dünger', 1), ('dreimal', 1), ('nippte', 2), ('friedlich', 1), ('verschüttete', 2), ('verschüttet', 2), ('zertrat', 1), ('insekt', 1), ('kichern', 2), ('unterkriegen', 1), ('standhaft', 1), ('trommeln', 1), ('neigt', 3), ('trägheit', 1), ('ellenbogen', 1), ('fährte', 1), ('rehs', 1), ('bestreiten', 1), ('umzubringen', 4), ('schaltete', 3), ('eingeschaltet', 2), ('benutzte', 2), ('zahnstocher', 1), ('bang', 1), ('nervosität', 1), ('auspacken', 1), ('einrad', 1), ('holzfäller', 1), ('lebendigem', 1), ('leibe', 1), ('elektrisch', 1), ('geisel', 1), ('hauslehrer', 1), ('kabine', 1), ('führerhaus', 1), ('kajüte', 1), ('hütte', 1), ('beschützer', 1), ('selbstmordkandidat', 1), ('skrupellos', 1), ('populär', 2), ('geguckt', 1), ('safari', 1), ('klapperte', 1), ('sehenswürdigkeiten', 2), ('wackelte', 2), ('weiterhin', 2), ('nikolausmütze', 1), ('strohhut', 1), ('zusammengearbeitet', 1), ('zurückschlagen', 1), ('karriere', 3), ('mobiltelefon', 1), ('zitterten', 1), ('trockenen', 1), ('instinkten', 4), ('intuition', 1), ('sauce', 1), ('arbeitslosigkeit', 1), ('strenge', 1), ('besucher', 1), ('anstellen', 1), ('reflektiert', 1), ('spiegelt', 1), ('wider', 1), ('geschnitzt', 1), ('klären', 1), ('davonlaufen', 1), ('schützen', 1), ('paddelten', 1), ('flussabwärts', 2), ('gemeinsam', 3), ('falsches', 2), ('zuschulden', 1), ('wählten', 2), ('bürgermeisterin', 1), ('vollendeten', 1), ('mitglieder', 1), ('flugzeuge', 1), ('gegenseitig', 3), ('zeitnehmer', 1), ('losfuhr', 1), ('apfelsinensaft', 1), ('pünktlichkeit', 2), ('spielten', 1), ('fabrik', 1), ('glückliche', 1), ('klaustrophobisch', 1), ('intim', 1), ('nähern', 1), ('dritter', 1), ('terroristen', 1), ('säen', 1), ('samen', 1), ('fußballer', 2), ('unterschiedlich', 1), ('alkoholisiert', 3), ('würdevoller', 1), ('perfekte', 1), ('selbstsüchtige', 1), ('egoistische', 1), ('gattin', 1), ('zeichnest', 1), ('pflichten', 1), ('wünschst', 1), ('brandursache', 1), ('ursache', 2), ('brandes', 1), ('bell', 1), ('pelikane', 1), ('zugestoßen', 1), ('widerfahren', 1), ('denkfabrik', 1), ('plus', 2), ('weiterzumachen', 1), ('motiv', 1), ('gedenkst', 1), ('bereitest', 1), ('dekorierst', 1), ('beobachtest', 1), ('korb', 1), ('tumult', 1), ('diagnose', 3), ('analyse', 3), ('spitzname', 2), ('benutzername', 2), ('vorgefallen', 1), ('aufgetragen', 1), ('messgeräte', 1), ('parkuhren', 1), ('übernachten', 5), ('tanten', 2), ('hintun', 1), ('botschaftsgebäude', 1), ('briefkasten', 1), ('bahnhof', 3), ('aktentasche', 1), ('badezimmer', 4), ('klo', 2), ('eingang', 2), ('apotheke', 1), ('sekretär', 1), ('gehalt', 2), ('wes', 1), ('lachst', 2), ('schlaft', 1), ('herzurichten', 1), ('funkeln', 1), ('antwortest', 1), ('brüllst', 1), ('hättet', 2), ('verdienst', 5), ('beeindruckst', 1), ('imponierst', 1), ('segen', 2), ('einbildungskraft', 1), ('stimmts', 1), ('ungezwungen', 3), ('bedeutest', 1), ('wesentliche', 1), ('berühren', 3), ('überschätzt', 1), ('unterschätzen', 1), ('gemeine', 2), ('weichst', 1), ('weichen', 1), ('parkst', 1), ('außergewöhnlich', 2), ('unentbehrlich', 1), ('unabkömmlich', 1), ('tatverdächtige', 2), ('wachst', 1), ('hasenfuß', 1), ('’n', 1), ('knall', 1), ('forderst', 1), ('fordert', 1), ('sündenbock', 1), ('einfallslos', 1), ('phantasielos', 1), ('unvorhersehbar', 4), ('willensstärke', 3), ('gebessert', 1), ('„wer', 1), ('das“\\xa0—', 1), ('„ich', 1), ('das“', 1), ('schwanz', 1), ('delfin', 1), ('säugetier', 2), ('dächern', 1), ('dingen', 1), ('unfälle', 1), ('anwälte', 3), ('gesamtes', 1), ('gesamte', 1), ('stets', 2), ('triffst', 1), ('ermüdest', 1), ('kindermädchen', 2), ('tierkinder', 1), ('verbreiten', 2), ('barcelona', 1), ('hinuntergehst', 1), ('taschendieben', 2), ('scharfe', 1), ('milchflaschen', 1), ('heimatstadt', 1), ('behauptungen', 1), ('brad', 1), ('pitt', 1), ('studentenausweis', 2), ('geschäfte', 1), ('abschreiben', 1), ('anbieten', 1), ('vorspielen', 1), ('ausmachen', 1), ('ausschalten', 3), ('annehmen', 1), ('rangehen', 1), ('abschließen', 2), ('gefangennehmen', 1), ('freinehmen', 3), ('wandel', 1), ('wandels', 1), ('erwachsene', 1), ('kohle', 1), ('fossiler', 1), ('brennstoff', 1), ('bevor', 3), ('vormittag', 3), ('kompasse', 1), ('norden', 1), ('schlaue', 1), ('aufgerufen', 1), ('haareschneider', 1), ('haarschneider', 1), ('massieren', 2), ('massage', 3), ('verpassen', 2), ('registrieren', 1), ('einschreiben', 1), ('salzen', 1), ('hingehe', 1), ('umsteigen', 1), ('fliegst', 1), ('budweiser', 3), ('light', 3), ('feuerzeug', 2), ('website', 2), ('konfektionsgröße', 1), ('bohnensuppe', 1), ('schweinelende', 1), ('wurzelbier', 1), ('piano', 3), ('batterien', 1), ('rasierwasser', 1), ('aftershave', 3), ('bettle', 1), ('hinausgehen', 1), ('zurückzutreten', 5), ('färbt', 1), ('vergraben', 1), ('knochen', 1), ('mauerblümchen', 1), ('seifenblase', 1), ('platzen', 1), ('alkoholeinfluss', 1), ('trau', 1), ('wunder', 2), ('sentimental', 2), ('halbem', 1), ('halber', 1), ('strecke', 1), ('zögere', 1), ('verlier', 1), ('rüttle', 1), ('plaudere', 1), ('starre', 1), ('kontinent', 1), ('blindes', 1), ('korn', 2), ('schätzt', 1), ('unerwartete', 1), ('erwartungen', 2), ('gering', 2), ('schnallen', 1), ('anschnallen', 1), ('hold', 1), ('pelzmäntel', 1), ('sonderangebot', 1), ('wiederzusehen', 4), ('wohnzimmer', 1), ('erschuf', 2), ('all', 3), ('geschellt', 1), ('bekannte', 1), ('adoptierte', 1), ('rächte', 1), ('ganzes', 2), ('scham', 1), ('königin', 1), ('linken', 2), ('gelächter', 1), ('mehrmals', 1), ('abzuholen', 1), ('räusperte', 1), ('england', 1), ('möbeln', 1), ('besiegte', 1), ('vergoss', 1), ('träne', 1), ('arbeitsüberlastung', 1), ('überanstrengung', 1), ('ausgerenkt', 1), ('tiefen', 2), ('abschleppwagen', 1), ('zehntausend', 2), ('üble', 1), ('angehängt', 1), ('deutschland', 3), ('zuletzt', 1), ('medikamentenallergie', 1), ('perfekten', 1), ('seltsamen', 1), ('dolmetschte', 1), ('gebürtiger', 1), ('deutscher', 2), ('geburt', 2), ('heroinabhängig', 1), ('vernunftmensch', 1), ('selfmademan', 1), ('hochgearbeitet', 1), ('scharfschütze', 1), ('verzogenes', 1), ('verdacht', 1), ('erhaben', 1), ('munter', 1), ('fidel', 1), ('heiter', 1), ('allzeit', 1), ('armeeoffizier', 1), ('eh', 1), ('diebstahls', 1), ('intimfreund', 1), ('gewöhnlicher', 1), ('angeber', 1), ('seines', 1), ('sieges', 1), ('unverwandt', 1), ('gesundem', 1), ('italienisches', 1), ('neunzig', 1), ('öffentlichen', 1), ('versorgungsnetzen', 1), ('schauspielerin', 3), ('60', 2), ('beraubte', 1), ('zuzustimmen', 1), ('lustige', 1), ('erwürgen', 1), ('zugedrückt', 1), ('ipad', 1), ('mini', 1), ('neunzehn', 1), ('rugbyspieler', 1), ('afrika', 1), ('begierig', 1), ('exkommuniziert', 1), ('einziger', 2), ('schnarchte', 2), ('geräuschvoll', 1), ('stierte', 1), ('bronzemedaille', 1), ('silbermedaille', 1), ('einzelgängerisch', 1), ('stattlicher', 1), ('junger', 1), ('meereskundler', 1), ('meeresforscher', 1), ('ozeanograph', 1), ('geschäftsreise', 1), ('durchgeknallt', 1), ('veralbert', 1), ('älterer', 1), ('zahnfleisch', 1), ('verdächtiger', 1), ('heizen', 1), ('bediene', 1), ('räder', 1), ('klingen', 2), ('wittern', 1), ('konntest', 3), ('konntet', 1), ('schnitte', 1), ('schnittwunden', 1), ('entgangen', 1), ('dahintergekommen', 2), ('stadtmitte', 1), ('womit', 3), ('melkt', 1), ('prüfst', 1), ('gegenwärtig', 1), ('mathetest', 1), ('mathearbeit', 1), ('matheprüfung', 1), ('matheklausur', 1), ('empfang', 1), ('tapferkeit', 3), ('bürojob', 1), ('zwinkere', 1), ('speiübel', 1), ('ernte', 1), ('heize', 1), ('klassenzimmer', 1), ('bahnhofs', 1), ('erwartete', 1), ('glasvase', 1), ('gebrauchten', 1), ('verabschieden', 2), ('zaubertricks', 1), ('bezeugen', 1), ('schild', 1), ('begehen', 1), ('hitze', 3), ('fällte', 1), ('durchquerte', 1), ('illegales', 1), ('rechtswidriges', 1), ('rechnete', 1), ('sonderlich', 3), ('zugemacht', 2), ('angeben', 1), ('lakritz', 2), ('dunkelheit', 1), ('ratgeber', 1), ('oboe', 1), ('rasiere', 2), ('briefe', 1), ('cabrio', 1), ('erklärte', 1), ('verlängerte', 1), ('neugeboren', 1), ('amöbe', 1), ('erdbeben', 1), ('vernachlässigt', 1), ('rezept', 1), ('verbiete', 1), ('vorgefunden', 1), ('unterhaltung', 1), ('klassentreffen', 1), ('geschichtsunterricht', 1), ('verknallt', 1), ('erinnerungsvermögen', 3), ('tropfenden', 1), ('wasserhahn', 6), ('studentenvisum', 1), ('touristenvisum', 1), ('zwillingsbruder', 1), ('gewisse', 1), ('spielschulden', 1), ('hergekommen', 1), ('lebensversicherung', 2), ('geldprobleme', 1), ('eigenen', 2), ('ausweichplan', 1), ('furchtbare', 1), ('fürchterliche', 1), ('exfrauen', 1), ('fönen', 1), ('füttern', 1), ('einlegen', 2), ('wecken', 2), ('beschluss', 1), ('nachtigall', 1), ('läuten', 1), ('seiet', 2), ('gutgeht', 1), ('eule', 1), ('opossum', 1), ('sabía', 1), ('que', 2), ('tenía', 1), ('hacerlo', 1), ('wűrdest', 1), ('aussieht', 1), ('wurscht', 1), ('koreanische', 1), ('herangehensweise', 1), ('titellied', 1), ('liebeslied', 2), ('färbe', 1), ('animes', 2), ('offenheit', 1), ('freimut', 1), ('geraden', 1), ('blicks', 1), ('find’s', 1), ('anzusehen', 1), ('anrufe', 1), ('häppchen', 1), ('spannung', 1), ('eilen', 1), ('zurückzahlen', 2), ('größeren', 1), ('matratze', 1), ('kleiderschrank', 1), ('sonnenöl', 1), ('sonnencreme', 2), ('rohrzucker', 1), ('halbtags', 1), ('hunderttausend', 1), ('öcken', 1), ('vollgestopft', 1), ('verschob', 1), ('veranstaltung', 1), ('wiedererkannt', 6), ('tennisspielen', 2), ('bäuchlings', 1), ('morgens', 2), ('kenntest', 1), ('gutgehe', 1), ('türgriff', 2), ('gedreht', 1), ('vorstellungskraft', 1), ('zusammensein', 2), ('mango', 1), ('korea', 1), ('bereisen', 1), ('sekretärin', 1), ('gesundes', 1), ('zweifellos', 1), ('angeklagt', 1), ('bezug', 1), ('irrtest', 1), ('ködern', 1), ('wüsste', 1), ('fortging', 1), ('mcdonalds', 1), ('riete', 1), ('verwetten', 1), ('nachkontrollieren', 1), ('rätst', 1), ('großmutter', 1), ('golfanhänger', 1), ('golffan', 1), ('golfliebhaber', 1), ('golfsportbegeisterter', 1), ('college', 1), ('landjunge', 1), ('rennwagenfahrer', 1), ('rennwagenfahrerin', 1), ('romantiker', 1), ('fürchterlicher', 2), ('schrecklicher', 3), ('höhenangst', 1), ('akrophobie', 1), ('restaurant', 1), ('beeinflussen', 2), ('beeinflussbar', 1), ('handwerk', 1), ('verbittert', 2), ('keineswegs', 1), ('geldsack', 1), ('hierauf', 1), ('verdienste', 1), ('bestellungen', 3), ('schlaftrunken', 1), ('festes', 1), ('mittagspause', 2), ('videospiel', 1), ('spitäler', 1), ('arbeitssuche', 1), ('ersticke', 1), ('entsetzlicher', 1), ('schachspieler', 1), ('inzwischen', 1), ('mitgeteilt', 1), ('fudschi', 1), ('bestiegen', 2), ('hab’', 1), ('heimgekehrt', 1), ('entdeckung', 1), ('drohungen', 1), ('eingegangen', 2), ('dienstag', 2), ('direktflug', 1), ('actionfilm', 1), ('hauses', 3), ('geläufiger', 1), ('weitverbreiteter', 1), ('parfüm', 1), ('dresscode', 1), ('kleiderordnung', 1), ('schulbus', 1), ('irgendein', 1), ('biologisch', 1), ('abbaubar', 1), ('material', 1), ('kopfschmerz', 1), ('frustrierend', 2), ('gänsehaut', 2), ('natürliche', 1), ('bestätigt', 1), ('unanständig', 1), ('geringen', 1), ('geringem', 1), ('erweisen', 1), ('angemessen', 2), ('liebhaberei', 1), ('tango', 1), ('samstagabend', 1), ('gemeinsame', 1), ('anstrengung', 1), ('riesenerfolg', 2), ('magischer', 1), ('einfachere', 1), ('furchtbarer', 1), ('unerträglich', 2), ('verwirrend', 4), ('klärt', 1), ('vorkommen', 1), ('zweites', 1), ('wärmer', 1), ('investition', 1), ('häufiger', 1), ('notwendiges', 1), ('fesselnde', 1), ('rutschiger', 1), ('abhang', 1), ('klarer', 1), ('geldverschwendung', 1), ('explodiert', 3), ('schwieriges', 1), ('beschreiben', 1), ('komplex', 1), ('formalität', 1), ('lieblingsessen', 1), ('lieblingslied', 1), ('ungleicher', 1), ('haltbar', 2), ('leiste', 1), ('holzauge', 1), ('klopfe', 2), ('hereinkommst', 1), ('sätze', 2), ('schlafende', 1), ('erbauen', 1), ('überstürzen', 1), ('volleyball', 3), ('stamm', 1), ('sungen', 1), ('holzfällen', 1), ('markieren', 1), ('model', 1), ('exfrau', 1), ('häusliches', 1), ('hulatänzerin', 1), ('hula', 1), ('onkologin', 1), ('stiefmutter', 1), ('stiefschwester', 1), ('spärlich', 1), ('borgen', 1), ('rüberkommen', 1), ('herumführen', 1), ('mai', 1), ('april', 1), ('andermal', 1), ('anspringen', 2), ('angeschwollen', 1), ('graue', 1), ('getrogen', 1), ('linker', 1), ('vibriert', 1), ('gebete', 1), ('erhört', 1), ('darunter', 1), ('abgetragen', 1), ('einkaufstasche', 1), ('faulenzt', 1), ('nachgehen', 1), ('weisheitszahn', 2), ('bestärkte', 1), ('ermutigte', 3), ('leugnet', 1), ('ermutigt', 1), ('experten', 1), ('entgeht', 3), ('kernenergie', 1), ('phase', 1), ('herüber', 1), ('urteilt', 1), ('urteilen', 1), ('erhitze', 1), ('bügle', 1), ('zündet', 1), ('zähler', 1), ('übersetzt', 1), ('vermehren', 1), ('leidenschaft', 1), ('augenbinde', 1), ('rollschuhlaufen', 1), ('klartext', 2), ('katalog', 1), ('theaterstück', 1), ('totgeschlagen', 1), ('startsignal', 1), ('1996', 1), ('doppelkinn', 2), ('figur', 2), ('lispelt', 1), ('schmale', 1), ('taille', 1), ('schwimmerin', 1), ('kyūshū', 1), ('näht', 1), ('russischen', 1), ('pop', 1), ('york', 1), ('ausgeschlagen', 1), ('getauft', 2), ('jätete', 2), ('unkraut', 2), ('gejätet', 1), ('hundertzwanzig', 1), ('rührung', 1), ('hübschen', 2), ('dickköpfiges', 1), ('ältere', 1), ('unmündig', 1), ('dritten', 1), ('reisepass', 2), ('skizzen', 2), ('einfachheit', 1), ('trumpf', 1), ('lehn', 1), ('hautpflege', 1), ('manchen', 1), ('verspäteten', 1), ('gange', 1), ('zuweilen', 1), ('verirren', 1), ('schlechtzumachen', 1), ('quälgeist', 1), ('vorwürfe', 1), ('anzubaggern', 1), ('anzumachen', 1), ('kaulquappen', 1), ('traten', 1), ('wiederkomme', 3), ('benötigst', 1), ('gespenstergeschichte', 1), ('umgekommen', 1), ('update', 1), ('bandit', 1), ('halunke', 1), ('beweist', 2), ('vielversprechend', 1), ('leck', 1), ('direkter', 1), ('unerhebliches', 1), ('detail', 1), ('wonach', 1), ('überlaufen', 2), ('tropfen', 1), ('hauptsache', 1), ('strategie', 2), ('verständlich', 1), ('vollkommener', 1), ('ebendahin', 1), ('jacksons', 1), ('flughafen', 2), ('antilope', 1), ('buchladen', 1), ('buchhandlung', 1), ('kugel', 1), ('fauchte', 1), ('stühle', 2), ('aufeinanderstapeln', 1), ('frieren', 1), ('entzückt', 1), ('gefäß', 1), ('daten', 1), ('knarrend', 1), ('brummt', 1), ('misserfolg', 1), ('scheiterte', 1), ('tropft', 1), ('beruht', 1), ('gegenseitigkeit', 1), ('erwidert', 1), ('lichten', 1), ('weinten', 1), ('muskel', 1), ('brand', 1), ('menschenleer', 1), ('zustand', 1), ('patienten', 1), ('verschlechterte', 1), ('pastete', 1), ('meinerseits', 1), ('ausgetrocknet', 1), ('sickerte', 1), ('durchgesickert', 1), ('spann', 1), ('unterhaltsam', 1), ('straßen', 2), ('operation', 2), ('überflutet', 1), ('taifun', 1), ('1945', 1), ('neunzehnhundertvierundfünfzig', 1), ('1954', 1), ('lauwarm', 1), ('walfisch', 1), ('dritt', 1), ('fettfleck', 1), ('gelbe', 2), ('mäusespeck', 1), ('brachen', 2), ('schweden', 1), ('tauschten', 1), ('grüße', 1), ('veranlassten', 1), ('verpassten', 1), ('zurückgeblieben', 1), ('verachteten', 1), ('teilten', 1), ('untereinander', 1), ('unterhielten', 1), ('stundenlang', 1), ('wahrheitsserum', 1), ('vortäuschungen', 1), ('fähige', 1), ('matheunterricht', 1), ('kriminellen', 1), ('spielkarten', 1), ('tellerrand', 2), ('hinausschauen', 1), ('stoff', 1), ('currygericht', 1), ('verschoben', 1), ('chinesischer', 2), ('fächer', 1), ('geschäftsauto', 1), ('firmenwagen', 1), ('apfelbaum', 1), ('heldenroman', 1), ('unangemessen', 1), ('rathaus', 1), ('birne', 1), ('vips', 1), ('wichtige', 1), ('persönlichkeiten', 1), ('vermieten', 1), ('feste', 1), ('schnur', 1), ('lehrbuch', 2), ('leere', 1), ('anordnungen', 1), ('trinkgelder', 1), ('zwischenprüfung', 1), ('bravour', 1), ('kleinkind', 1), ('schlimmsten', 1), ('minister', 1), ('seifenblasen', 1), ('gebrauchtwagen', 1), ('bonbons', 1), ('zäumte', 1), ('striegelte', 2), ('vogelhaus', 2), ('knöpfte', 1), ('zerlegte', 1), ('truthahn', 1), ('unterhielt', 1), ('netzbriefkasten', 1), ('durchgesehen', 1), ('ballte', 1), ('verstrickt', 1), ('traute', 1), ('frühen', 1), ('explosion', 2), ('pier', 1), ('scheunendrescher', 1), ('flirtete', 1), ('mädchenhaft', 1), ('ungeschoren', 1), ('hauptrolle', 1), ('wuchs', 1), ('schätzte', 1), ('blendende', 1), ('hektische', 2), ('aussichten', 1), ('beheiztes', 1), ('privatjet', 1), ('privatflugzeug', 1), ('reiskocher', 1), ('rosengarten', 1), ('stichfestes', 1), ('verstopfte', 1), ('aufbrausendes', 1), ('waffeleisen', 1), ('verwiesen', 1), ('ausgehalten', 1), ('reflexe', 1), ('beigetreten', 1), ('klagen', 1), ('prinzipien', 1), ('makellose', 1), ('felsen', 1), ('büschen', 1), ('gebüsch', 1), ('verkroch', 1), ('hörer', 1), ('johns', 1), ('verlogener', 1), ('vogelbeobachter', 1), ('automechaniker', 1), ('autoverkäufer', 1), ('konservativer', 1), ('drückeberger', 1), ('wunderheiler', 1), ('drummer', 1), ('chirurg', 1), ('gutaussehender', 2), ('hausmann', 1), ('freundlicher', 1), ('kleptomane', 1), ('armer', 1), ('mächtiger', 1), ('psychiater', 1), ('psychologe', 1), ('schafzüchter', 1), ('unruhestifter', 1), ('medizinmann', 1), ('schamane', 1), ('yogalehrer', 1), ('fähiger', 1), ('bankier', 1), ('unterhalter', 1), ('ungewöhnliches', 1), ('bereitet', 1), ('gräbt', 1), ('spendet', 1), ('gesundheitszustand', 1), ('gesundheitlich', 1), ('bügelt', 1), ('adoptivsohn', 1), ('großvater', 1), ('waffel', 1), ('dienstfrei', 1), ('lotse', 1), ('spaßverderber', 1), ('höchstens', 1), ('geschwätzig', 1), ('makeup', 1), ('geschminkt', 1), ('umgibt', 1), ('distanz', 1), ('erschlug', 2), ('flexibilität', 1), ('laufenlassen', 1), ('angelassen', 1), ('indisches', 1), ('tschaikowski', 1), ('schimpansen', 1), ('rohe', 3), ('mohrrüben', 1), ('30\\xa0kg', 1), ('kilogramm', 1), ('superdoll', 1), ('dämpfte', 1), ('pilgerfahrt', 1), ('strengte', 1), ('russische', 1), ('geldes', 1), ('bot', 1), ('lebenslauf', 1), ('aufgebauscht', 1), ('strich', 2), ('setzlinge', 1), ('trompete', 1), ('machtwort', 1), ('kessel', 1), ('pulle', 1), ('ergriffen', 1), ('comicbuch', 1), ('loszulassen', 1), ('kratzte', 1), ('schrubbte', 1), ('durchsuchte', 1), ('sichtlich', 1), ('intelligenten', 1), ('bewundernd', 1), ('gespart', 1), ('vorteil', 2), ('unterweist', 1), ('waschlappen', 1), ('spielend', 1), ('übernahm', 1), ('knallrot', 1), ('aufgedreht', 2), ('unterzogen', 1), ('rechenschieber', 1), ('erpresser', 1), ('liebeskummer', 1), ('getragen', 1), ('aufgepasst', 1), ('dritte', 1), ('donner', 1), ('entenjagd', 1), ('ausrasten', 1), ('gedulden', 1), ('schreiend', 1), ('stipendium', 1), ('triathlon', 1), ('seidenhemd', 1), ('amerikanische', 1), ('steuerbehörde', 3), ('indische', 1), ('ghanaische', 1), ('streckte', 1), ('feuchte', 1), ('bäumte', 1), ('trocknet', 2), ('1939', 1), ('1941', 1), ('kalorien', 1), ('stören', 1), ('begruben', 1), ('kriegsbeil', 1), ('beigelegt', 1), ('flinte', 1), ('veränderten', 1), ('änderten', 1), ('bezwangen', 1), ('verlustes', 1), ('frühstücksspeck', 2), ('beschwerden', 1), ('übriggelassen', 1), ('offengelassen', 1), ('großstadt', 1), ('sandburg', 1), ('sommerlager', 1), ('zusammenarbeiten', 2), ('posierten', 1), ('ruhten', 1), ('angekuckt', 1), ('kindheit', 1), ('verbracht', 1), ('abheben', 1), ('nachdem', 1), ('abreisen', 1), ('heimweg', 2), ('nachhauseweg', 1), ('erlebt', 1), ('nachspioniert', 2), ('enttäuschung', 1), ('scheußliche', 1), ('großzügiges', 1), ('wundervolle', 1), ('glücksfall', 1), ('wasserverschwendung', 1), ('aufregendes', 1), ('spannendes', 1), ('symptome', 1), ('unterstellen', 1), ('hobbys', 1), ('beibringen', 1), ('lehren', 1), ('mitteilung', 1), ('nennst', 1), ('bezeichnest', 1), ('bezieht', 1), ('außerdem', 1), ('nützte', 1), ('beschlossen', 1), ('dahinterkommt', 1), ('gings', 1), ('lautete', 1), ('planen', 1), ('kisten', 1), ('wichtiger', 1), ('vollständiger', 1), ('nachnamen', 1), ('nachname', 1), ('schuhgröße', 2), ('seit', 1), ('fähre', 1), ('dokumente', 3), ('lift', 1), ('mikrofon', 1), ('telefonbuch', 1), ('schenk', 1), ('geschenkeladen', 1), ('präsident', 1), ('enkelsohn', 1), ('fürchtest', 1), ('radium', 1), ('dynamit', 1), ('taufpatin', 1), ('ausbildung', 1), ('eingemischt', 1), ('zurückgewichen', 1), ('zurückgezogen', 1), ('geparkt', 3), ('bahn', 1), ('aufziehen', 1), ('aufklaren', 1), ('begleitest', 1), ('weisheit', 1), ('begründen', 1), ('eingeloggt', 1), ('500', 1), ('zähmen', 1), ('anschreien', 1), ('ängstigt', 1), ('armseliger', 1), ('hinbekommen', 1), ('freak', 1), ('geborgen', 1), ('erfüllen', 1), ('fleißiger', 1)])\n"
     ]
    }
   ],
   "source": [
    "print(deu_tokenizer.word_counts)"
   ]
  },
  {
   "cell_type": "markdown",
   "metadata": {
    "colab_type": "text",
    "id": "sOe2OF-oncM0"
   },
   "source": [
    "Given below is a function to prepare the sequences. It will also perform sequence padding to a maximum sentence length as mentioned above. "
   ]
  },
  {
   "cell_type": "code",
   "execution_count": 19,
   "metadata": {
    "colab": {},
    "colab_type": "code",
    "id": "SxYyvx9-ncM0"
   },
   "outputs": [],
   "source": [
    "# encode and pad sequences\n",
    "def encode_sequences(tokenizer, length, lines):\n",
    "    # integer encode sequences\n",
    "    seq = tokenizer.texts_to_sequences(lines)\n",
    "    # pad sequences with 0 values\n",
    "    seq = pad_sequences(seq, maxlen=length, padding='post')\n",
    "    print(seq)\n",
    "    print(len(seq))\n",
    "    return seq"
   ]
  },
  {
   "cell_type": "code",
   "execution_count": null,
   "metadata": {
    "colab": {},
    "colab_type": "code",
    "id": "iibu0Do5ncM2",
    "outputId": "1187ae4c-573d-4fc2-8154-1b850592253e"
   },
   "outputs": [],
   "source": []
  },
  {
   "cell_type": "markdown",
   "metadata": {
    "colab_type": "text",
    "id": "COTp2b97ncM6"
   },
   "source": [
    "### Model Building"
   ]
  },
  {
   "cell_type": "markdown",
   "metadata": {
    "colab_type": "text",
    "id": "bTE0hZwAncM7"
   },
   "source": [
    "We will now split the data into train and test set for model training and evaluation, respectively."
   ]
  },
  {
   "cell_type": "code",
   "execution_count": 20,
   "metadata": {
    "colab": {},
    "colab_type": "code",
    "id": "J0h6uK7incM8"
   },
   "outputs": [],
   "source": [
    "from sklearn.model_selection import train_test_split\n",
    "train, test = train_test_split(deu_eng, test_size=0.2, random_state = 12)"
   ]
  },
  {
   "cell_type": "markdown",
   "metadata": {
    "colab_type": "text",
    "id": "9WzvagkyncM_"
   },
   "source": [
    "It's time to encode the sentences. We will encode German sentences as the input sequences and English sentences as the target sequences. It will be done for both train and test datasets."
   ]
  },
  {
   "cell_type": "code",
   "execution_count": 21,
   "metadata": {
    "colab": {},
    "colab_type": "code",
    "id": "l56qk2unncM_",
    "outputId": "181118f3-573a-49f6-d457-d1897acab8ba"
   },
   "outputs": [
    {
     "name": "stdout",
     "output_type": "stream",
     "text": [
      "[[   1  109    5 ...    0    0    0]\n",
      " [   9    1 1705 ...    0    0    0]\n",
      " [   7    3   93 ...    0    0    0]\n",
      " ...\n",
      " [  11  929   23 ...    0    0    0]\n",
      " [   2   68   53 ...    0    0    0]\n",
      " [  56 4878    0 ...    0    0    0]]\n",
      "40000\n",
      "[[   1  356  113 ...    0    0    0]\n",
      " [  22    1  111 ...    0    0    0]\n",
      " [  23  207   69 ...    0    0    0]\n",
      " ...\n",
      " [  12 1086   40 ...    0    0    0]\n",
      " [   2   36   61 ...    0    0    0]\n",
      " [1286   68    0 ...    0    0    0]]\n",
      "40000\n"
     ]
    }
   ],
   "source": [
    "# prepare training data\n",
    "trainX = encode_sequences(deu_tokenizer, deu_length, train[:, 1])\n",
    "trainY = encode_sequences(eng_tokenizer, eng_length, train[:, 0])"
   ]
  },
  {
   "cell_type": "code",
   "execution_count": 22,
   "metadata": {
    "colab": {},
    "colab_type": "code",
    "id": "n1lRd8N4ncND",
    "outputId": "3290923d-ac4c-45ec-a0c8-10d01b69cd94"
   },
   "outputs": [
    {
     "name": "stdout",
     "output_type": "stream",
     "text": [
      "(40000, 8)\n",
      "(40000, 8)\n"
     ]
    }
   ],
   "source": [
    "print(trainX.shape)\n",
    "print(trainY.shape)"
   ]
  },
  {
   "cell_type": "code",
   "execution_count": 23,
   "metadata": {
    "colab": {},
    "colab_type": "code",
    "id": "42hOicsUncNH",
    "outputId": "9ff5a84e-1f61-4cc6-a02b-3868fdf86eda"
   },
   "outputs": [
    {
     "name": "stdout",
     "output_type": "stream",
     "text": [
      "[[   1 2074   27 ...    0    0    0]\n",
      " [  11    3 2921 ...    0    0    0]\n",
      " [   2   55 3669 ...    0    0    0]\n",
      " ...\n",
      " [1021    4   56 ...    0    0    0]\n",
      " [   5   81    3 ...    0    0    0]\n",
      " [  21 1030   18 ...    0    0    0]]\n",
      "10000\n",
      "[[   1 2663   58 ...    0    0    0]\n",
      " [  12    4    5 ...    0    0    0]\n",
      " [   2   24 2845 ...    0    0    0]\n",
      " ...\n",
      " [  68  543   34 ...    0    0    0]\n",
      " [   7   81    4 ...    0    0    0]\n",
      " [   3  142    9 ...    0    0    0]]\n",
      "10000\n"
     ]
    }
   ],
   "source": [
    "# prepare validation data\n",
    "testX = encode_sequences(deu_tokenizer, deu_length, test[:, 1])\n",
    "testY = encode_sequences(eng_tokenizer, eng_length, test[:, 0])"
   ]
  },
  {
   "cell_type": "code",
   "execution_count": 24,
   "metadata": {
    "colab": {},
    "colab_type": "code",
    "id": "r2g4v-pfncNL",
    "outputId": "5c96a335-3d27-4e1e-c21f-94eaae033392"
   },
   "outputs": [
    {
     "name": "stdout",
     "output_type": "stream",
     "text": [
      "(10000, 8)\n",
      "(10000, 8)\n"
     ]
    }
   ],
   "source": [
    "print(testX.shape)\n",
    "print(testY.shape)"
   ]
  },
  {
   "cell_type": "markdown",
   "metadata": {
    "colab_type": "text",
    "id": "64oI5hJFncNO"
   },
   "source": [
    "Now comes the exciting part! Let us define our Seq2Seq model architecture. We are using an Embedding layer and an LSTM layer as our encoder and another LSTM layer followed by a Dense layer as the decoder.  "
   ]
  },
  {
   "cell_type": "code",
   "execution_count": 25,
   "metadata": {
    "colab": {},
    "colab_type": "code",
    "id": "N_N717h9ncNO"
   },
   "outputs": [],
   "source": [
    "from keras.layers import GRU\n",
    "# build NMT model\n",
    "def build_model(in_vocab, out_vocab, in_timesteps, out_timesteps, units):\n",
    "    model = Sequential()\n",
    "    model.add(Embedding(in_vocab, units, input_length=in_timesteps, mask_zero=True))\n",
    "    model.add(GRU(units))\n",
    "    model.add(RepeatVector(out_timesteps))    \n",
    "    model.add(GRU(units, return_sequences=True))\n",
    "    model.add(Dense(out_vocab, activation='softmax'))\n",
    "    return model"
   ]
  },
  {
   "cell_type": "markdown",
   "metadata": {
    "colab_type": "text",
    "id": "CP0ooQh2ncNQ"
   },
   "source": [
    "Details about the RepeatVector :  https://campus.datacamp.com/courses/machine-translation-in-python/implementing-an-encoder-decoder-model-with-keras?ex=6"
   ]
  },
  {
   "cell_type": "markdown",
   "metadata": {
    "colab_type": "text",
    "id": "3Rif14BCncNR"
   },
   "source": [
    "We are using RMSprop optimizer in this model as it is usually a good choice for recurrent neural networks."
   ]
  },
  {
   "cell_type": "code",
   "execution_count": 26,
   "metadata": {
    "colab": {},
    "colab_type": "code",
    "id": "oZzY3IlFncNR",
    "outputId": "a72f4521-9424-4196-c744-837d68ca24d2"
   },
   "outputs": [
    {
     "name": "stdout",
     "output_type": "stream",
     "text": [
      "10455\n",
      "6331\n",
      "8\n",
      "8\n"
     ]
    }
   ],
   "source": [
    "print(deu_vocab_size)\n",
    "print(eng_vocab_size)\n",
    "print(deu_length)\n",
    "print(eng_length)"
   ]
  },
  {
   "cell_type": "code",
   "execution_count": 27,
   "metadata": {
    "colab": {},
    "colab_type": "code",
    "id": "2m9ZcmjkncNV"
   },
   "outputs": [
    {
     "name": "stdout",
     "output_type": "stream",
     "text": [
      "WARNING:tensorflow:From C:\\Archivos de programa\\Anaconda\\envs\\tfenv\\lib\\site-packages\\tensorflow\\python\\ops\\resource_variable_ops.py:435: colocate_with (from tensorflow.python.framework.ops) is deprecated and will be removed in a future version.\n",
      "Instructions for updating:\n",
      "Colocations handled automatically by placer.\n"
     ]
    }
   ],
   "source": [
    "model = build_model(deu_vocab_size, eng_vocab_size, deu_length, eng_length, 512)\n",
    "rms = optimizers.RMSprop(lr=0.001)\n",
    "model.compile(optimizer=rms, loss='sparse_categorical_crossentropy')"
   ]
  },
  {
   "cell_type": "markdown",
   "metadata": {
    "colab_type": "text",
    "id": "BTazMn1gncNX"
   },
   "source": [
    "Please note that we have used __'sparse_categorical_crossentropy'__ as the loss function because it allows us to use the target sequence as it is instead of one hot encoded format. One hot encoding the target sequences with such a huge vocabulary might consume our system's entire memory."
   ]
  },
  {
   "cell_type": "markdown",
   "metadata": {
    "colab_type": "text",
    "id": "psRNLxz1ncNY"
   },
   "source": [
    "It seems we are all set to start training our model. We will train it for 30 epochs and with a batch size of 512. You may change and play these hyperparameters. We will also be using __ModelCheckpoint()__ to save the best model with lowest validation loss. I personally prefer this method over early stopping."
   ]
  },
  {
   "cell_type": "code",
   "execution_count": 29,
   "metadata": {
    "colab": {},
    "colab_type": "code",
    "id": "mmU5c-IfncNY",
    "outputId": "72d928d5-1807-4b39-f458-6a47c09e6a01",
    "scrolled": true
   },
   "outputs": [
    {
     "name": "stdout",
     "output_type": "stream",
     "text": [
      "Train on 32000 samples, validate on 8000 samples\n",
      "Epoch 1/30\n",
      "32000/32000 [==============================] - 287s 9ms/step - loss: 2.4785 - val_loss: 2.4988\n",
      "\n",
      "Epoch 00001: val_loss improved from inf to 2.49884, saving model to model.h1.24_jan_19\n",
      "Epoch 2/30\n",
      "32000/32000 [==============================] - 287s 9ms/step - loss: 2.3410 - val_loss: 2.3552\n",
      "\n",
      "Epoch 00002: val_loss improved from 2.49884 to 2.35520, saving model to model.h1.24_jan_19\n",
      "Epoch 3/30\n",
      "32000/32000 [==============================] - 288s 9ms/step - loss: 2.2061 - val_loss: 2.2658\n",
      "\n",
      "Epoch 00003: val_loss improved from 2.35520 to 2.26580, saving model to model.h1.24_jan_19\n",
      "Epoch 4/30\n",
      "32000/32000 [==============================] - 293s 9ms/step - loss: 2.0726 - val_loss: 2.1588\n",
      "\n",
      "Epoch 00004: val_loss improved from 2.26580 to 2.15884, saving model to model.h1.24_jan_19\n",
      "Epoch 5/30\n",
      "32000/32000 [==============================] - 289s 9ms/step - loss: 1.9520 - val_loss: 2.0807\n",
      "\n",
      "Epoch 00005: val_loss improved from 2.15884 to 2.08072, saving model to model.h1.24_jan_19\n",
      "Epoch 6/30\n",
      "32000/32000 [==============================] - 290s 9ms/step - loss: 1.8364 - val_loss: 2.0082\n",
      "\n",
      "Epoch 00006: val_loss improved from 2.08072 to 2.00823, saving model to model.h1.24_jan_19\n",
      "Epoch 7/30\n",
      "32000/32000 [==============================] - 289s 9ms/step - loss: 1.7210 - val_loss: 1.9193\n",
      "\n",
      "Epoch 00007: val_loss improved from 2.00823 to 1.91930, saving model to model.h1.24_jan_19\n",
      "Epoch 8/30\n",
      "32000/32000 [==============================] - 288s 9ms/step - loss: 1.6111 - val_loss: 1.8280\n",
      "\n",
      "Epoch 00008: val_loss improved from 1.91930 to 1.82801, saving model to model.h1.24_jan_19\n",
      "Epoch 9/30\n",
      "32000/32000 [==============================] - 291s 9ms/step - loss: 1.5010 - val_loss: 1.7579\n",
      "\n",
      "Epoch 00009: val_loss improved from 1.82801 to 1.75789, saving model to model.h1.24_jan_19\n",
      "Epoch 10/30\n",
      "32000/32000 [==============================] - 288s 9ms/step - loss: 1.4005 - val_loss: 1.7286\n",
      "\n",
      "Epoch 00010: val_loss improved from 1.75789 to 1.72859, saving model to model.h1.24_jan_19\n",
      "Epoch 11/30\n",
      "32000/32000 [==============================] - 289s 9ms/step - loss: 1.3068 - val_loss: 1.6556\n",
      "\n",
      "Epoch 00011: val_loss improved from 1.72859 to 1.65564, saving model to model.h1.24_jan_19\n",
      "Epoch 12/30\n",
      "32000/32000 [==============================] - 290s 9ms/step - loss: 1.2196 - val_loss: 1.6004\n",
      "\n",
      "Epoch 00012: val_loss improved from 1.65564 to 1.60038, saving model to model.h1.24_jan_19\n",
      "Epoch 13/30\n",
      "32000/32000 [==============================] - 288s 9ms/step - loss: 1.1382 - val_loss: 1.5612\n",
      "\n",
      "Epoch 00013: val_loss improved from 1.60038 to 1.56117, saving model to model.h1.24_jan_19\n",
      "Epoch 14/30\n",
      "32000/32000 [==============================] - 288s 9ms/step - loss: 1.0597 - val_loss: 1.5198\n",
      "\n",
      "Epoch 00014: val_loss improved from 1.56117 to 1.51983, saving model to model.h1.24_jan_19\n",
      "Epoch 15/30\n",
      "32000/32000 [==============================] - 287s 9ms/step - loss: 0.9861 - val_loss: 1.4859\n",
      "\n",
      "Epoch 00015: val_loss improved from 1.51983 to 1.48586, saving model to model.h1.24_jan_19\n",
      "Epoch 16/30\n",
      "32000/32000 [==============================] - 288s 9ms/step - loss: 0.9160 - val_loss: 1.4690\n",
      "\n",
      "Epoch 00016: val_loss improved from 1.48586 to 1.46904, saving model to model.h1.24_jan_19\n",
      "Epoch 17/30\n",
      "32000/32000 [==============================] - 289s 9ms/step - loss: 0.8506 - val_loss: 1.4351\n",
      "\n",
      "Epoch 00017: val_loss improved from 1.46904 to 1.43509, saving model to model.h1.24_jan_19\n",
      "Epoch 18/30\n",
      "32000/32000 [==============================] - 289s 9ms/step - loss: 0.7883 - val_loss: 1.4059\n",
      "\n",
      "Epoch 00018: val_loss improved from 1.43509 to 1.40587, saving model to model.h1.24_jan_19\n",
      "Epoch 19/30\n",
      "32000/32000 [==============================] - 289s 9ms/step - loss: 0.7282 - val_loss: 1.3873\n",
      "\n",
      "Epoch 00019: val_loss improved from 1.40587 to 1.38728, saving model to model.h1.24_jan_19\n",
      "Epoch 20/30\n",
      "32000/32000 [==============================] - 288s 9ms/step - loss: 0.6733 - val_loss: 1.3878\n",
      "\n",
      "Epoch 00020: val_loss did not improve from 1.38728\n",
      "Epoch 21/30\n",
      "32000/32000 [==============================] - 290s 9ms/step - loss: 0.6217 - val_loss: 1.3649\n",
      "\n",
      "Epoch 00021: val_loss improved from 1.38728 to 1.36487, saving model to model.h1.24_jan_19\n",
      "Epoch 22/30\n",
      "32000/32000 [==============================] - 287s 9ms/step - loss: 0.5730 - val_loss: 1.3702\n",
      "\n",
      "Epoch 00022: val_loss did not improve from 1.36487\n",
      "Epoch 23/30\n",
      "32000/32000 [==============================] - 286s 9ms/step - loss: 0.5247 - val_loss: 1.3395\n",
      "\n",
      "Epoch 00023: val_loss improved from 1.36487 to 1.33952, saving model to model.h1.24_jan_19\n",
      "Epoch 24/30\n",
      "32000/32000 [==============================] - 286s 9ms/step - loss: 0.4852 - val_loss: 1.3371\n",
      "\n",
      "Epoch 00024: val_loss improved from 1.33952 to 1.33714, saving model to model.h1.24_jan_19\n",
      "Epoch 25/30\n",
      "32000/32000 [==============================] - 285s 9ms/step - loss: 0.4438 - val_loss: 1.3608\n",
      "\n",
      "Epoch 00025: val_loss did not improve from 1.33714\n",
      "Epoch 26/30\n",
      "32000/32000 [==============================] - 284s 9ms/step - loss: 0.4068 - val_loss: 1.3263\n",
      "\n",
      "Epoch 00026: val_loss improved from 1.33714 to 1.32633, saving model to model.h1.24_jan_19\n",
      "Epoch 27/30\n",
      "32000/32000 [==============================] - 285s 9ms/step - loss: 0.3724 - val_loss: 1.3309\n",
      "\n",
      "Epoch 00027: val_loss did not improve from 1.32633\n",
      "Epoch 28/30\n",
      "32000/32000 [==============================] - 284s 9ms/step - loss: 0.3393 - val_loss: 1.3234\n",
      "\n",
      "Epoch 00028: val_loss improved from 1.32633 to 1.32340, saving model to model.h1.24_jan_19\n",
      "Epoch 29/30\n",
      "32000/32000 [==============================] - 284s 9ms/step - loss: 0.3083 - val_loss: 1.3349\n",
      "\n",
      "Epoch 00029: val_loss did not improve from 1.32340\n",
      "Epoch 30/30\n",
      "32000/32000 [==============================] - 286s 9ms/step - loss: 0.2816 - val_loss: 1.3284\n",
      "\n",
      "Epoch 00030: val_loss did not improve from 1.32340\n",
      "--- 8643.05432009697 seconds ---\n"
     ]
    }
   ],
   "source": [
    "import time\n",
    "start_time = time.time()\n",
    "filename = 'model.GRU'\n",
    "checkpoint = ModelCheckpoint(filename, monitor='val_loss', verbose=1, save_best_only=True, mode='min')\n",
    "\n",
    "history = model.fit(trainX, trainY.reshape(trainY.shape[0], trainY.shape[1], 1), \n",
    "          epochs=30, batch_size=512, \n",
    "          validation_split = 0.2,\n",
    "          callbacks=[checkpoint], verbose=1)\n",
    "\n",
    "print(\"--- %s seconds ---\" % (time.time() - start_time))"
   ]
  },
  {
   "cell_type": "markdown",
   "metadata": {},
   "source": [
    "Comprobamos que tal y como se ha estudiado, el modelo con capas GRU (8643.05432009697 seconds) es más rápido en ejecución que el modelo LSTM (9235.729725122452 seconds)\n"
   ]
  },
  {
   "cell_type": "markdown",
   "metadata": {
    "colab_type": "text",
    "id": "NJChoBXXncNb"
   },
   "source": [
    "Let's compare the training loss and the validation loss."
   ]
  },
  {
   "cell_type": "code",
   "execution_count": 30,
   "metadata": {
    "colab": {},
    "colab_type": "code",
    "id": "HMPVKBKSncNc",
    "outputId": "1d510b5f-6525-460e-ff58-c2db836fd8dc"
   },
   "outputs": [
    {
     "data": {
      "image/png": "[encoded data removed]",
      "text/plain": [
       "<Figure size 432x288 with 1 Axes>"
      ]
     },
     "metadata": {
      "needs_background": "light"
     },
     "output_type": "display_data"
    }
   ],
   "source": [
    "plt.plot(history.history['loss'])\n",
    "plt.plot(history.history['val_loss'])\n",
    "plt.legend(['train','validation'])\n",
    "plt.show()"
   ]
  },
  {
   "cell_type": "markdown",
   "metadata": {},
   "source": [
    "También podemos observar cómo se llega antes al valor donde se estabiliza la función de pérdida"
   ]
  },
  {
   "cell_type": "markdown",
   "metadata": {
    "colab_type": "text",
    "id": "OFhtxa9PncNe"
   },
   "source": [
    "### Make Predictions"
   ]
  },
  {
   "cell_type": "markdown",
   "metadata": {
    "colab_type": "text",
    "id": "BfYKsiGlncNe"
   },
   "source": [
    "Let's load the saved model to make predictions."
   ]
  },
  {
   "cell_type": "code",
   "execution_count": 31,
   "metadata": {
    "colab": {},
    "colab_type": "code",
    "id": "Qu_VRfIGncNf",
    "outputId": "b46f82b2-83d9-49a6-cab0-78fcc1aa21d4"
   },
   "outputs": [],
   "source": [
    "model = load_model('model.GRU')\n",
    "preds = model.predict_classes(testX.reshape((testX.shape[0],testX.shape[1])))"
   ]
  },
  {
   "cell_type": "code",
   "execution_count": 32,
   "metadata": {
    "colab": {},
    "colab_type": "code",
    "id": "SH17UuV8ncNh"
   },
   "outputs": [],
   "source": [
    "def get_word(n, tokenizer):\n",
    "    for word, index in tokenizer.word_index.items():\n",
    "        if index == n:\n",
    "            return word\n",
    "    return None"
   ]
  },
  {
   "cell_type": "code",
   "execution_count": 33,
   "metadata": {
    "colab": {},
    "colab_type": "code",
    "id": "8UNAkBs4ncNl"
   },
   "outputs": [],
   "source": [
    "# convert predictions into text (English)\n",
    "preds_text = []\n",
    "for i in preds:\n",
    "    temp = []\n",
    "    for j in range(len(i)):\n",
    "        t = get_word(i[j], eng_tokenizer)\n",
    "        if j > 0:\n",
    "            if (t == get_word(i[j-1], eng_tokenizer)) or (t == None):\n",
    "                temp.append('')\n",
    "            else:\n",
    "                temp.append(t)\n",
    "             \n",
    "        else:\n",
    "            if(t == None):\n",
    "                temp.append('')\n",
    "            else:\n",
    "                temp.append(t)            \n",
    "        \n",
    "    preds_text.append(' '.join(temp))"
   ]
  },
  {
   "cell_type": "code",
   "execution_count": 34,
   "metadata": {
    "colab": {},
    "colab_type": "code",
    "id": "xyD-gGlCncNo"
   },
   "outputs": [],
   "source": [
    "pred_df = pd.DataFrame({'actual' : test[:,0], 'predicted' : preds_text})"
   ]
  },
  {
   "cell_type": "code",
   "execution_count": 35,
   "metadata": {
    "colab": {},
    "colab_type": "code",
    "id": "-kL8HQJqncNr"
   },
   "outputs": [],
   "source": [
    "pd.set_option('display.max_colwidth', 200)"
   ]
  },
  {
   "cell_type": "code",
   "execution_count": 36,
   "metadata": {
    "colab": {},
    "colab_type": "code",
    "id": "V4PJ-3EuncNu",
    "outputId": "9f17f466-8564-48e5-8901-7f7fb35d26d8"
   },
   "outputs": [
    {
     "data": {
      "text/html": [
       "<div>\n",
       "<style scoped>\n",
       "    .dataframe tbody tr th:only-of-type {\n",
       "        vertical-align: middle;\n",
       "    }\n",
       "\n",
       "    .dataframe tbody tr th {\n",
       "        vertical-align: top;\n",
       "    }\n",
       "\n",
       "    .dataframe thead th {\n",
       "        text-align: right;\n",
       "    }\n",
       "</style>\n",
       "<table border=\"1\" class=\"dataframe\">\n",
       "  <thead>\n",
       "    <tr style=\"text-align: right;\">\n",
       "      <th></th>\n",
       "      <th>actual</th>\n",
       "      <th>predicted</th>\n",
       "    </tr>\n",
       "  </thead>\n",
       "  <tbody>\n",
       "    <tr>\n",
       "      <th>0</th>\n",
       "      <td>tom banged his head</td>\n",
       "      <td>tom brushed his head</td>\n",
       "    </tr>\n",
       "    <tr>\n",
       "      <th>1</th>\n",
       "      <td>he is a dj</td>\n",
       "      <td>he is a</td>\n",
       "    </tr>\n",
       "    <tr>\n",
       "      <th>2</th>\n",
       "      <td>i like seafood</td>\n",
       "      <td>i like candlelight</td>\n",
       "    </tr>\n",
       "    <tr>\n",
       "      <th>3</th>\n",
       "      <td>do it tomorrow</td>\n",
       "      <td>come downstairs</td>\n",
       "    </tr>\n",
       "    <tr>\n",
       "      <th>4</th>\n",
       "      <td>do you need the phone</td>\n",
       "      <td>do you need the phone</td>\n",
       "    </tr>\n",
       "    <tr>\n",
       "      <th>5</th>\n",
       "      <td>this door wont shut</td>\n",
       "      <td>the door wont open</td>\n",
       "    </tr>\n",
       "    <tr>\n",
       "      <th>6</th>\n",
       "      <td>i think youre stupid</td>\n",
       "      <td>i think youre is</td>\n",
       "    </tr>\n",
       "    <tr>\n",
       "      <th>7</th>\n",
       "      <td>toms wife just died</td>\n",
       "      <td>toms car is right</td>\n",
       "    </tr>\n",
       "    <tr>\n",
       "      <th>8</th>\n",
       "      <td>tom kept winning</td>\n",
       "      <td>tom turned</td>\n",
       "    </tr>\n",
       "    <tr>\n",
       "      <th>9</th>\n",
       "      <td>who do you live with</td>\n",
       "      <td>who do you to</td>\n",
       "    </tr>\n",
       "    <tr>\n",
       "      <th>10</th>\n",
       "      <td>theyre upset</td>\n",
       "      <td>youre upset</td>\n",
       "    </tr>\n",
       "    <tr>\n",
       "      <th>11</th>\n",
       "      <td>take cover</td>\n",
       "      <td>get a</td>\n",
       "    </tr>\n",
       "    <tr>\n",
       "      <th>12</th>\n",
       "      <td>im not tired</td>\n",
       "      <td>im not tired</td>\n",
       "    </tr>\n",
       "    <tr>\n",
       "      <th>13</th>\n",
       "      <td>ill join you</td>\n",
       "      <td>im going with you</td>\n",
       "    </tr>\n",
       "    <tr>\n",
       "      <th>14</th>\n",
       "      <td>he fell backward</td>\n",
       "      <td>he got very to</td>\n",
       "    </tr>\n",
       "  </tbody>\n",
       "</table>\n",
       "</div>"
      ],
      "text/plain": [
       "                   actual                 predicted\n",
       "0     tom banged his head  tom brushed his head    \n",
       "1              he is a dj              he is a     \n",
       "2          i like seafood   i like candlelight     \n",
       "3          do it tomorrow     come downstairs      \n",
       "4   do you need the phone  do you need the phone   \n",
       "5     this door wont shut    the door wont open    \n",
       "6    i think youre stupid      i think youre is    \n",
       "7     toms wife just died     toms car is right    \n",
       "8        tom kept winning          tom turned      \n",
       "9    who do you live with         who do you to    \n",
       "10           theyre upset         youre upset      \n",
       "11             take cover               get a      \n",
       "12           im not tired         im not tired     \n",
       "13           ill join you     im going with you    \n",
       "14       he fell backward        he got very to    "
      ]
     },
     "execution_count": 36,
     "metadata": {},
     "output_type": "execute_result"
    }
   ],
   "source": [
    "pred_df.head(15)"
   ]
  },
  {
   "cell_type": "code",
   "execution_count": 37,
   "metadata": {
    "colab": {},
    "colab_type": "code",
    "id": "0G547W5bncN0",
    "outputId": "37c31e30-0eb8-45bc-dd8b-8318b82180d4"
   },
   "outputs": [
    {
     "data": {
      "text/html": [
       "<div>\n",
       "<style scoped>\n",
       "    .dataframe tbody tr th:only-of-type {\n",
       "        vertical-align: middle;\n",
       "    }\n",
       "\n",
       "    .dataframe tbody tr th {\n",
       "        vertical-align: top;\n",
       "    }\n",
       "\n",
       "    .dataframe thead th {\n",
       "        text-align: right;\n",
       "    }\n",
       "</style>\n",
       "<table border=\"1\" class=\"dataframe\">\n",
       "  <thead>\n",
       "    <tr style=\"text-align: right;\">\n",
       "      <th></th>\n",
       "      <th>actual</th>\n",
       "      <th>predicted</th>\n",
       "    </tr>\n",
       "  </thead>\n",
       "  <tbody>\n",
       "    <tr>\n",
       "      <th>9985</th>\n",
       "      <td>we should be fine</td>\n",
       "      <td>lets should be</td>\n",
       "    </tr>\n",
       "    <tr>\n",
       "      <th>9986</th>\n",
       "      <td>i had a bad cold</td>\n",
       "      <td>i got a cold</td>\n",
       "    </tr>\n",
       "    <tr>\n",
       "      <th>9987</th>\n",
       "      <td>that might be true</td>\n",
       "      <td>that could be</td>\n",
       "    </tr>\n",
       "    <tr>\n",
       "      <th>9988</th>\n",
       "      <td>i dont sleep a lot</td>\n",
       "      <td>i dont eat much</td>\n",
       "    </tr>\n",
       "    <tr>\n",
       "      <th>9989</th>\n",
       "      <td>the price is good</td>\n",
       "      <td>the pay is good</td>\n",
       "    </tr>\n",
       "    <tr>\n",
       "      <th>9990</th>\n",
       "      <td>come back tomorrow</td>\n",
       "      <td>come again tomorrow</td>\n",
       "    </tr>\n",
       "    <tr>\n",
       "      <th>9991</th>\n",
       "      <td>superman can fly</td>\n",
       "      <td>can</td>\n",
       "    </tr>\n",
       "    <tr>\n",
       "      <th>9992</th>\n",
       "      <td>go find out</td>\n",
       "      <td>go and do that</td>\n",
       "    </tr>\n",
       "    <tr>\n",
       "      <th>9993</th>\n",
       "      <td>your feet are dirty</td>\n",
       "      <td>your feet are dirty</td>\n",
       "    </tr>\n",
       "    <tr>\n",
       "      <th>9994</th>\n",
       "      <td>tom is immobile</td>\n",
       "      <td>tom is</td>\n",
       "    </tr>\n",
       "    <tr>\n",
       "      <th>9995</th>\n",
       "      <td>we dont live here</td>\n",
       "      <td>were dont live here</td>\n",
       "    </tr>\n",
       "    <tr>\n",
       "      <th>9996</th>\n",
       "      <td>turn off the light</td>\n",
       "      <td>get to your stairs</td>\n",
       "    </tr>\n",
       "    <tr>\n",
       "      <th>9997</th>\n",
       "      <td>please sign here</td>\n",
       "      <td>sign here please</td>\n",
       "    </tr>\n",
       "    <tr>\n",
       "      <th>9998</th>\n",
       "      <td>the car is very fast</td>\n",
       "      <td>the car has very</td>\n",
       "    </tr>\n",
       "    <tr>\n",
       "      <th>9999</th>\n",
       "      <td>you make me laugh</td>\n",
       "      <td>you make me laugh me</td>\n",
       "    </tr>\n",
       "  </tbody>\n",
       "</table>\n",
       "</div>"
      ],
      "text/plain": [
       "                    actual                 predicted\n",
       "9985     we should be fine       lets should be     \n",
       "9986      i had a bad cold          i got a cold    \n",
       "9987    that might be true        that could be     \n",
       "9988    i dont sleep a lot       i dont eat much    \n",
       "9989     the price is good       the pay is good    \n",
       "9990    come back tomorrow  come again tomorrow     \n",
       "9991      superman can fly                can       \n",
       "9992           go find out        go and do that    \n",
       "9993   your feet are dirty   your feet are dirty    \n",
       "9994       tom is immobile              tom is      \n",
       "9995     we dont live here   were dont live here    \n",
       "9996    turn off the light    get to your stairs    \n",
       "9997      please sign here     sign here please     \n",
       "9998  the car is very fast      the car has very    \n",
       "9999     you make me laugh   you make me laugh me   "
      ]
     },
     "execution_count": 37,
     "metadata": {},
     "output_type": "execute_result"
    }
   ],
   "source": [
    "pred_df.tail(15)"
   ]
  },
  {
   "cell_type": "code",
   "execution_count": 38,
   "metadata": {
    "colab": {},
    "colab_type": "code",
    "id": "Y_OrpKvXncN7",
    "outputId": "0c40e795-42a8-4919-ae21-0658e30aa9b6"
   },
   "outputs": [
    {
     "data": {
      "text/html": [
       "<div>\n",
       "<style scoped>\n",
       "    .dataframe tbody tr th:only-of-type {\n",
       "        vertical-align: middle;\n",
       "    }\n",
       "\n",
       "    .dataframe tbody tr th {\n",
       "        vertical-align: top;\n",
       "    }\n",
       "\n",
       "    .dataframe thead th {\n",
       "        text-align: right;\n",
       "    }\n",
       "</style>\n",
       "<table border=\"1\" class=\"dataframe\">\n",
       "  <thead>\n",
       "    <tr style=\"text-align: right;\">\n",
       "      <th></th>\n",
       "      <th>actual</th>\n",
       "      <th>predicted</th>\n",
       "    </tr>\n",
       "  </thead>\n",
       "  <tbody>\n",
       "    <tr>\n",
       "      <th>822</th>\n",
       "      <td>how is your father</td>\n",
       "      <td>hows your father</td>\n",
       "    </tr>\n",
       "    <tr>\n",
       "      <th>4118</th>\n",
       "      <td>he is alone</td>\n",
       "      <td>hes alone</td>\n",
       "    </tr>\n",
       "    <tr>\n",
       "      <th>7200</th>\n",
       "      <td>ill miss that</td>\n",
       "      <td>ill get that</td>\n",
       "    </tr>\n",
       "    <tr>\n",
       "      <th>2366</th>\n",
       "      <td>thats what we think</td>\n",
       "      <td>thats what we want</td>\n",
       "    </tr>\n",
       "    <tr>\n",
       "      <th>2386</th>\n",
       "      <td>the police were here</td>\n",
       "      <td>the gate was</td>\n",
       "    </tr>\n",
       "    <tr>\n",
       "      <th>2474</th>\n",
       "      <td>tom was third in line</td>\n",
       "      <td>tom was in the</td>\n",
       "    </tr>\n",
       "    <tr>\n",
       "      <th>877</th>\n",
       "      <td>they can manage</td>\n",
       "      <td>youll be all</td>\n",
       "    </tr>\n",
       "    <tr>\n",
       "      <th>6569</th>\n",
       "      <td>stop teasing tom</td>\n",
       "      <td>stop to  tom</td>\n",
       "    </tr>\n",
       "    <tr>\n",
       "      <th>4424</th>\n",
       "      <td>were in a hurry</td>\n",
       "      <td>were in a fight</td>\n",
       "    </tr>\n",
       "    <tr>\n",
       "      <th>4586</th>\n",
       "      <td>whos fasting</td>\n",
       "      <td>who is</td>\n",
       "    </tr>\n",
       "    <tr>\n",
       "      <th>6452</th>\n",
       "      <td>he went to america</td>\n",
       "      <td>he went out to</td>\n",
       "    </tr>\n",
       "    <tr>\n",
       "      <th>2006</th>\n",
       "      <td>how bad was tom hurt</td>\n",
       "      <td>how bad tom  hurt</td>\n",
       "    </tr>\n",
       "    <tr>\n",
       "      <th>3115</th>\n",
       "      <td>nobody warned me</td>\n",
       "      <td>nobody one warned</td>\n",
       "    </tr>\n",
       "    <tr>\n",
       "      <th>8831</th>\n",
       "      <td>you decide</td>\n",
       "      <td>you</td>\n",
       "    </tr>\n",
       "    <tr>\n",
       "      <th>8777</th>\n",
       "      <td>have a taste</td>\n",
       "      <td>get a</td>\n",
       "    </tr>\n",
       "  </tbody>\n",
       "</table>\n",
       "</div>"
      ],
      "text/plain": [
       "                     actual               predicted\n",
       "822      how is your father   hows your father     \n",
       "4118            he is alone         hes alone      \n",
       "7200          ill miss that       ill get that     \n",
       "2366    thats what we think  thats what we want    \n",
       "2386   the police were here       the gate was     \n",
       "2474  tom was third in line      tom was in the    \n",
       "877         they can manage       youll be all     \n",
       "6569       stop teasing tom        stop to  tom    \n",
       "4424        were in a hurry     were in a fight    \n",
       "4586           whos fasting            who is      \n",
       "6452     he went to america      he went out to    \n",
       "2006   how bad was tom hurt    how bad tom  hurt   \n",
       "3115       nobody warned me  nobody one warned     \n",
       "8831             you decide              you       \n",
       "8777           have a taste             get a      "
      ]
     },
     "execution_count": 38,
     "metadata": {},
     "output_type": "execute_result"
    }
   ],
   "source": [
    "pred_df.sample(15)"
   ]
  },
  {
   "cell_type": "code",
   "execution_count": null,
   "metadata": {
    "colab": {},
    "colab_type": "code",
    "id": "5SxleZa8ncOA"
   },
   "outputs": [],
   "source": []
  },
  {
   "cell_type": "code",
   "execution_count": null,
   "metadata": {},
   "outputs": [],
   "source": []
  }
 ],
 "metadata": {
  "colab": {
   "name": "LAB_TEXT_MachineTranslation_DE_EN.ipynb",
   "provenance": []
  },
  "kernelspec": {
   "display_name": "Python 3",
   "language": "python",
   "name": "python3"
  },
  "language_info": {
   "codemirror_mode": {
    "name": "ipython",
    "version": 3
   },
   "file_extension": ".py",
   "mimetype": "text/x-python",
   "name": "python",
   "nbconvert_exporter": "python",
   "pygments_lexer": "ipython3",
   "version": "3.6.10"
  }
 },
 "nbformat": 4,
 "nbformat_minor": 1
}
